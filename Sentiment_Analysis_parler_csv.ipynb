{
  "nbformat": 4,
  "nbformat_minor": 0,
  "metadata": {
    "colab": {
      "name": "Sentiment_Analysis_parler_csv.ipynb",
      "provenance": [],
      "collapsed_sections": [],
      "include_colab_link": true
    },
    "kernelspec": {
      "name": "python3",
      "display_name": "Python 3"
    }
  },
  "cells": [
    {
      "cell_type": "markdown",
      "metadata": {
        "id": "view-in-github",
        "colab_type": "text"
      },
      "source": [
        "<a href=\"https://colab.research.google.com/github/juanbarredo/PARLER/blob/main/Sentiment_Analysis_parler_csv.ipynb\" target=\"_parent\"><img src=\"https://colab.research.google.com/assets/colab-badge.svg\" alt=\"Open In Colab\"/></a>"
      ]
    },
    {
      "cell_type": "markdown",
      "metadata": {
        "id": "UVa_Yeme0tiu"
      },
      "source": [
        "**Final Project**\n",
        "CAP4936-10406\n",
        "Juan Barredo"
      ]
    },
    {
      "cell_type": "markdown",
      "metadata": {
        "id": "Lez8a_BAmOJL"
      },
      "source": [
        "How to data mine the Parler Dump"
      ]
    },
    {
      "cell_type": "markdown",
      "metadata": {
        "id": "rOWIQXUtmGpC"
      },
      "source": [
        "https://www.youtube.com/watch?v=ZEszws8A45Y&list=PLDQrYJXgF03DpBLHmXZFct9dGRCv0h8Cl&index=1&t=324s"
      ]
    },
    {
      "cell_type": "markdown",
      "metadata": {
        "id": "nlBnmgmHmfrM"
      },
      "source": [
        "https://github.com/sbooeshaghi/parlertrick"
      ]
    },
    {
      "cell_type": "markdown",
      "metadata": {
        "id": "t1k2Em2TmV6f"
      },
      "source": [
        "https://ddosecrets.com/wiki/Parler"
      ]
    },
    {
      "cell_type": "markdown",
      "metadata": {
        "id": "0P1LgkZgozCp"
      },
      "source": [
        "https://web.archive.org/web/2021*/parler.com"
      ]
    },
    {
      "cell_type": "markdown",
      "metadata": {
        "id": "S3usLfk308fT"
      },
      "source": [
        "\n",
        "\n",
        "1.   **Load Data**\n",
        "\n"
      ]
    },
    {
      "cell_type": "code",
      "metadata": {
        "colab": {
          "base_uri": "https://localhost:8080/"
        },
        "id": "w4cZEmNV-CBI",
        "outputId": "08548d84-c6ea-4c2c-848f-bf32ee81fe0e"
      },
      "source": [
        "!git clone https://github.com/sbooeshaghi/parlertrick.git"
      ],
      "execution_count": null,
      "outputs": [
        {
          "output_type": "stream",
          "text": [
            "Cloning into 'parlertrick'...\n",
            "remote: Enumerating objects: 19, done.\u001b[K\n",
            "remote: Counting objects: 100% (19/19), done.\u001b[K\n",
            "remote: Compressing objects: 100% (16/16), done.\u001b[K\n",
            "remote: Total 19 (delta 3), reused 6 (delta 0), pack-reused 0\u001b[K\n",
            "Unpacking objects: 100% (19/19), done.\n"
          ],
          "name": "stdout"
        }
      ]
    },
    {
      "cell_type": "code",
      "metadata": {
        "id": "7qv6cGk--LG8"
      },
      "source": [
        "!gunzip parlertrick/data/all_posts.csv.gz"
      ],
      "execution_count": null,
      "outputs": []
    },
    {
      "cell_type": "code",
      "metadata": {
        "id": "Gh2d8qYh-I6p"
      },
      "source": [
        "import pandas as pd\n",
        "from textblob import TextBlob\n",
        "import re"
      ],
      "execution_count": null,
      "outputs": []
    },
    {
      "cell_type": "code",
      "metadata": {
        "id": "MYtho0X--N6s"
      },
      "source": [
        "df = pd.read_csv('parlertrick/data/all_posts.csv')"
      ],
      "execution_count": null,
      "outputs": []
    },
    {
      "cell_type": "code",
      "metadata": {
        "colab": {
          "base_uri": "https://localhost:8080/",
          "height": 521
        },
        "id": "xZYh978H-RcY",
        "outputId": "4cd6bd76-5cea-4b69-a313-af2657483a47"
      },
      "source": [
        "df"
      ],
      "execution_count": null,
      "outputs": [
        {
          "output_type": "execute_result",
          "data": {
            "text/html": [
              "<div>\n",
              "<style scoped>\n",
              "    .dataframe tbody tr th:only-of-type {\n",
              "        vertical-align: middle;\n",
              "    }\n",
              "\n",
              "    .dataframe tbody tr th {\n",
              "        vertical-align: top;\n",
              "    }\n",
              "\n",
              "    .dataframe thead th {\n",
              "        text-align: right;\n",
              "    }\n",
              "</style>\n",
              "<table border=\"1\" class=\"dataframe\">\n",
              "  <thead>\n",
              "    <tr style=\"text-align: right;\">\n",
              "      <th></th>\n",
              "      <th>author_name</th>\n",
              "      <th>author_username</th>\n",
              "      <th>author_profile_photo</th>\n",
              "      <th>post_text</th>\n",
              "      <th>post_image</th>\n",
              "      <th>post_timestamp</th>\n",
              "      <th>post_impressions</th>\n",
              "    </tr>\n",
              "  </thead>\n",
              "  <tbody>\n",
              "    <tr>\n",
              "      <th>0</th>\n",
              "      <td>Andy Ngo</td>\n",
              "      <td>@AndyNgo</td>\n",
              "      <td>https://images.parler.com/777e039d6a5341388549...</td>\n",
              "      <td>Philadelphia Police charged 7 in relation to a...</td>\n",
              "      <td>https://api.parler.com/l/GJCyQ</td>\n",
              "      <td>5 days ago</td>\n",
              "      <td>132117.0</td>\n",
              "    </tr>\n",
              "    <tr>\n",
              "      <th>1</th>\n",
              "      <td>Bill Kays</td>\n",
              "      <td>@rebootbill</td>\n",
              "      <td>https://images.parler.com/706f1c9d8b454b5f8108...</td>\n",
              "      <td>NaN</td>\n",
              "      <td>NaN</td>\n",
              "      <td>4 days ago</td>\n",
              "      <td>13.0</td>\n",
              "    </tr>\n",
              "    <tr>\n",
              "      <th>2</th>\n",
              "      <td>Flint Bedrock</td>\n",
              "      <td>@flintbedrock</td>\n",
              "      <td>https://images.parler.com/1f45e69f8ed145f9b7b0...</td>\n",
              "      <td>Patriots in DC are ready for tomorrow.</td>\n",
              "      <td>NaN</td>\n",
              "      <td>5 days ago</td>\n",
              "      <td>248971.0</td>\n",
              "    </tr>\n",
              "    <tr>\n",
              "      <th>3</th>\n",
              "      <td>Name Hidden</td>\n",
              "      <td>@Private User</td>\n",
              "      <td>../../company-media.parler.com/par-default-pro...</td>\n",
              "      <td>Let’s follow each other!</td>\n",
              "      <td>https://api.parler.com/l/jB7Lz</td>\n",
              "      <td>5 days ago</td>\n",
              "      <td>9829.0</td>\n",
              "    </tr>\n",
              "    <tr>\n",
              "      <th>4</th>\n",
              "      <td>Name Hidden</td>\n",
              "      <td>@Private User</td>\n",
              "      <td>../../company-media.parler.com/par-default-pro...</td>\n",
              "      <td>NaN</td>\n",
              "      <td>../../api.parler.com/l/6Ac5M.html</td>\n",
              "      <td>5 days ago</td>\n",
              "      <td>15689.0</td>\n",
              "    </tr>\n",
              "    <tr>\n",
              "      <th>...</th>\n",
              "      <td>...</td>\n",
              "      <td>...</td>\n",
              "      <td>...</td>\n",
              "      <td>...</td>\n",
              "      <td>...</td>\n",
              "      <td>...</td>\n",
              "      <td>...</td>\n",
              "    </tr>\n",
              "    <tr>\n",
              "      <th>336475</th>\n",
              "      <td>Name Hidden</td>\n",
              "      <td>@Private User</td>\n",
              "      <td>../../company-media.parler.com/par-default-pro...</td>\n",
              "      <td>She claims a #blm member hit her in the face a...</td>\n",
              "      <td>NaN</td>\n",
              "      <td>5 days ago</td>\n",
              "      <td>8694.0</td>\n",
              "    </tr>\n",
              "    <tr>\n",
              "      <th>336476</th>\n",
              "      <td>Vmilner</td>\n",
              "      <td>@Vmilner</td>\n",
              "      <td>../../images.parler.com/3f88420057b14dc3883b86...</td>\n",
              "      <td>NaN</td>\n",
              "      <td>NaN</td>\n",
              "      <td>5 days ago</td>\n",
              "      <td>44.0</td>\n",
              "    </tr>\n",
              "    <tr>\n",
              "      <th>336477</th>\n",
              "      <td>Diamond And Silk</td>\n",
              "      <td>@DiamondAndSilk</td>\n",
              "      <td>https://images.parler.com/66c3bf6a396b40509767...</td>\n",
              "      <td>BIG NEWS IN PENNSYLVANIA!</td>\n",
              "      <td>https://api.parler.com/l/USgUy</td>\n",
              "      <td>5 days ago</td>\n",
              "      <td>1468761.0</td>\n",
              "    </tr>\n",
              "    <tr>\n",
              "      <th>336478</th>\n",
              "      <td>Trump News🇺🇸</td>\n",
              "      <td>@TrumpNewsNow</td>\n",
              "      <td>../../images.parler.com/c3ba17bb35d447f79f151d...</td>\n",
              "      <td>We have had ENOUGH❗️We love our country ❤️We l...</td>\n",
              "      <td>../../api.parler.com/l/noQYu.html</td>\n",
              "      <td>5 days ago</td>\n",
              "      <td>23165.0</td>\n",
              "    </tr>\n",
              "    <tr>\n",
              "      <th>336479</th>\n",
              "      <td>Montalto Paul</td>\n",
              "      <td>@MontaltoPaul</td>\n",
              "      <td>../../images.parler.com/422607581aa4486586483c...</td>\n",
              "      <td>NaN</td>\n",
              "      <td>NaN</td>\n",
              "      <td>5 days ago</td>\n",
              "      <td>22.0</td>\n",
              "    </tr>\n",
              "  </tbody>\n",
              "</table>\n",
              "<p>336480 rows × 7 columns</p>\n",
              "</div>"
            ],
            "text/plain": [
              "             author_name  author_username  ... post_timestamp post_impressions\n",
              "0               Andy Ngo         @AndyNgo  ...     5 days ago         132117.0\n",
              "1              Bill Kays      @rebootbill  ...     4 days ago             13.0\n",
              "2          Flint Bedrock    @flintbedrock  ...     5 days ago         248971.0\n",
              "3            Name Hidden    @Private User  ...     5 days ago           9829.0\n",
              "4            Name Hidden    @Private User  ...     5 days ago          15689.0\n",
              "...                  ...              ...  ...            ...              ...\n",
              "336475       Name Hidden    @Private User  ...     5 days ago           8694.0\n",
              "336476           Vmilner         @Vmilner  ...     5 days ago             44.0\n",
              "336477  Diamond And Silk  @DiamondAndSilk  ...     5 days ago        1468761.0\n",
              "336478      Trump News🇺🇸    @TrumpNewsNow  ...     5 days ago          23165.0\n",
              "336479     Montalto Paul    @MontaltoPaul  ...     5 days ago             22.0\n",
              "\n",
              "[336480 rows x 7 columns]"
            ]
          },
          "metadata": {
            "tags": []
          },
          "execution_count": 5
        }
      ]
    },
    {
      "cell_type": "markdown",
      "metadata": {
        "id": "NNjtlYAC1gNu"
      },
      "source": [
        "https://www.nltk.org/\n",
        "\n",
        "*   Natural Language Toolkit\n",
        "*   NLTK is a leading platform for building Python programs to work with human language data.\n",
        "\n",
        "\n",
        "\n"
      ]
    },
    {
      "cell_type": "code",
      "metadata": {
        "id": "mFAfce28-XH_",
        "colab": {
          "base_uri": "https://localhost:8080/"
        },
        "outputId": "f951cf0d-d263-40c9-8540-3b0e90e15d7c"
      },
      "source": [
        "import nltk\n",
        "nltk.download('punkt')\n",
        "nltk.download('stopwords')"
      ],
      "execution_count": null,
      "outputs": [
        {
          "output_type": "stream",
          "text": [
            "[nltk_data] Downloading package punkt to /root/nltk_data...\n",
            "[nltk_data]   Unzipping tokenizers/punkt.zip.\n",
            "[nltk_data] Downloading package stopwords to /root/nltk_data...\n",
            "[nltk_data]   Unzipping corpora/stopwords.zip.\n"
          ],
          "name": "stdout"
        },
        {
          "output_type": "execute_result",
          "data": {
            "text/plain": [
              "True"
            ]
          },
          "metadata": {
            "tags": []
          },
          "execution_count": 6
        }
      ]
    },
    {
      "cell_type": "markdown",
      "metadata": {
        "id": "jmuj4mdP4cls"
      },
      "source": [
        "The cell below took like 15 minutes to run."
      ]
    },
    {
      "cell_type": "code",
      "metadata": {
        "id": "J9Cn4aVUrGzh"
      },
      "source": [
        "posts = df['post_text'].tolist()\n",
        "keep_tokens = []\n",
        "for post in posts:\n",
        "  if isinstance(post, str):\n",
        "    tokens = nltk.word_tokenize(post)\n",
        "    keep = []\n",
        "    for token in tokens:\n",
        "      word = token.lower()\n",
        "      if word.isalnum() and word not in nltk.corpus.stopwords.words('english'):\n",
        "        keep.append(word)\n",
        "    keep_tokens.append(keep)\n",
        "  else:\n",
        "    keep_tokens.append([])"
      ],
      "execution_count": null,
      "outputs": []
    },
    {
      "cell_type": "code",
      "metadata": {
        "id": "zlr4FVoOvJ3M"
      },
      "source": [
        "df['post_tokens'] = keep_tokens"
      ],
      "execution_count": null,
      "outputs": []
    },
    {
      "cell_type": "code",
      "metadata": {
        "id": "ksiBtM7gvLPG",
        "colab": {
          "base_uri": "https://localhost:8080/"
        },
        "outputId": "e994419c-7442-4f68-c92d-dd2697b9c8e2"
      },
      "source": [
        "for idx,post in enumerate(keep_tokens):\n",
        "  if post:\n",
        "    if \"inside\" in post and \"muriel\" not in post:\n",
        "      print(df.iloc[idx]['post_text'])"
      ],
      "execution_count": null,
      "outputs": [
        {
          "output_type": "stream",
          "text": [
            "As reported tonight on @RealAmericasVoice, the shocking inside look at what happened today in #gasenaterunoff ...\n",
            "As reported tonight on @RealAmericasVoice, the shocking inside look at what happened today in #gasenaterunoff ...\n",
            "Video inside Fulton County polling center - NO Republican observers, screens hidden from view\n",
            "As reported tonight on @RealAmericasVoice, the shocking inside look at what happened today in #gasenaterunoff ...\n",
            "Doc, Dopey, Grumpy, Sleepy, Happy, Bashful and Sneezy?CIA huge computers Seven Dwarfs - cloak-and-dagger- Operation code-named (Snow White) .=== Why was Op[e]ration Mockingbird repeated?Why was Jason Bourne (CIA/Dream) repeated?Think social media platforms.Who are the Wizards & Warloc[k]s? What council do the Wizards & Warlocks control?Think Snowden (inside terms dropped).Alice & Wonderland – understood.Snow White – understood.\n",
            "As reported tonight on @RealAmericasVoice, the shocking inside look at what happened today in #gasenaterunoff ...\n",
            "Our country must face truth about its so-called leaders. The good, bad & ugly truth. We must expose swamp inhabitants to disinfectant of sunshine.No more dirty little “inside Beltway” secrets. We need truth. These two men do not even tell us truth about their adopted children.\n",
            "ECHO PATRIOTS!PICK UP ALL DEMON TRIATOR WEAPONS AND BOMBS THEY ARE PREPOSITIONING FROM YOUR LAWNS AND STREETS AND TAKE THEM INSIDE ASAP! THIS IS UNCONVENTIONAL WARFARE! CHINESE TRAINED!Biden demon army has reinforcements at Southern border waiting.Who has the drone videos with the Patriot Trump Army movements in DC?\"GNOSIS: REMEMBERING WHO YOU ARE, THE CREATOR, ALL THAT IS, and knowing who your unconscious enemy believes it is, something less than YOU.\"I AM THAT, I AM aka W. Andrea ZiarnoAmerican PatriotECHO PATRIOTS!WE ARE AN ARMY OF GODDESSES AND GODS, THE CREATOR, ONE CONSCIOUSNESS. Our enemies are demons.SAY LOUDLY AND VISUALIZE:  PRESIDENT TRUMP IS INAUGURATED ON 20 JANUARY 2021. JOSEPH BIDEN CONCEDES PRIOR TO 20 JANUARY 2021. SO BE IT DONE (WHICH = AMEN).You say \"never concede\", THE UNIVERSE delivers 》》》 concede. This is why the saying \"Never say never\" exists.\n",
            "As reported tonight on @RealAmericasVoice, the shocking inside look at what happened today in #gasenaterunoff ...\n",
            "Katie Hopkins. What’s going on inside our hospitals? New video posting soon. #CoronaBollocks\n",
            "Well, my wife and I laughed out loud as we have a variety of sons, and we love them all no matter what, even the one who wears a mask inside our home (although he's not getting invited to our wedding anniversary party later this month).\n",
            "Nov 12 2017 14:52:34 (EST) ***** Q Q Q Q Q * Patriots don’t sleep. = /SA/global +the picture. = cannot/will not swallow. What is No Such Agency - Q group? +++Adm R+++ . war w/ Clowns In America? .. POTUS narrative? (80% covert. 20% public. ..over months? C-info leaks? Operations (think SA + ???)?CNN sale? ? large cash by Clowns In America (public)?Why???does [i]t hurt? control[s] the MSM? POTUS discredit MSM.[W]hy is this relevant?information transmitted?people inform[e]d?.. Op[e]ration Mockingbird .. Jason Bourne (CIA/Dream) repeated?social media platforms.Wizards & Warloc[k]s? What council control?Snowden (inside terms dropped).Alice & Wonderland – understood.Snow White – understood.Iron Eagle?Godfather III?Speed?Everything has meaning.Disney is a distraction.Senate & Congress = puppets (not all)(power shift).For [GOD & COUNTRY].For HUMANITY. GERONIMO.Q\n",
            "As reported tonight on @RealAmericasVoice, the shocking inside look at what happened today in #gasenaterunoff ...\n",
            "As reported tonight on @RealAmericasVoice, the shocking inside look at what happened today in #gasenaterunoff ...\n",
            "As reported tonight on @RealAmericasVoice, the shocking inside look at what happened today in #gasenaterunoff ...\n",
            "As reported tonight on @RealAmericasVoice, the shocking inside look at what happened today in #gasenaterunoff ...\n",
            "Exclusive: Sec Mike Pompeo: China’s Communist Party Is ‘Inside the Gates’ | American Thought Leaders\n",
            "As reported tonight on @RealAmericasVoice, the shocking inside look at what happened today in #gasenaterunoff ...\n",
            "As reported tonight on @RealAmericasVoice, the shocking inside look at what happened today in #gasenaterunoff ...\n",
            "Nov 12 2017 14:52:34 (EST) ***** Q Q Q Q Q * Patriots don’t sleep. = /SA/global +the picture. = cannot/will not swallow. What is No Such Agency - Q group? +++Adm R+++ . war w/ Clowns In America? .. POTUS narrative? (80% covert. 20% public. ..over months? C-info leaks? Operations (think SA + ???)?CNN sale? ? large cash by Clowns In America (public)?Why???does [i]t hurt? control[s] the MSM? POTUS discredit MSM.[W]hy is this relevant?information transmitted?people inform[e]d?.. Op[e]ration Mockingbird .. Jason Bourne (CIA/Dream) repeated?social media platforms.Wizards & Warloc[k]s? What council control?Snowden (inside terms dropped).Alice & Wonderland – understood.Snow White – understood.Iron Eagle?Godfather III?Speed?Everything has meaning.Disney is a distraction.Senate & Congress = puppets (not all)(power shift).For [GOD & COUNTRY].For HUMANITY. GERONIMO.Q\n",
            "A Bomb no one has picked up on and I think President Trump Knows, Did DOMINION take any PARTS OUT from INSIDE the machine? I bet he has Video just like at the Poll Count Center. HUGE: TRUMP DROPS A BOMB DURING PHONE CALL! Tells Raffensperger \"Vote Scammer and Hustler\" Ruby Freeman Was Behind Alleged 18,000 FRAUDULENT VOTES in Suitcase Scandal! (VIDEO)\n",
            "As reported tonight on @RealAmericasVoice, the shocking inside look at what happened today in #gasenaterunoff ...\n",
            "Happening in this very second!!! Inside the crowds in DC. Look at us, look at the patriots. The atmosphere here is awesome. Im the only one to offer you these live videos on Parler so follow me for more . Big echo\n",
            "As reported tonight on @RealAmericasVoice, the shocking inside look at what happened today in #gasenaterunoff ...\n",
            "What IS the truth inside Britain’s hospitals? Do we want our doctors and nurses to be activists? Shouldn’t they be there to make sick people well?\n",
            "WaPo's Robinson on Election Challenge: There's a 'Serial Killer' Inside House, Senate\n",
            "As reported tonight on @RealAmericasVoice, the shocking inside look at what happened today in #gasenaterunoff ...\n",
            "#FightBack#FightForTrump#FightOnOurKneesInPrayer#RaiseAHallelujahI raise a hallelujah, in the presence of my enemiesI raise a hallelujah, louder than the unbeliefI raise a hallelujah, my weapon is a melodyI raise a hallelujah, Heaven comes to fight for meI'm gonna sing, in the middle of the stormLouder and louder, you're gonna hear my praises roarUp from the ashes, hope will ariseDeath is defeated, the King is alive!I raise a hallelujah, with everything inside of meI raise a hallelujah, I will watch the darkness fleeI raise a hallelujah, in the middle of the mysteryI raise a hallelujah, fear you lost your hold on me!Continued in Comments.#WeStandForTheConstitution#InGodWeTrust#GodBlessAmerica#GodBlessPresidentTrump💚🙏🐲🐉🙏💚#smgz#godssoulcatchers#greenladyDragonArcher#GeneralMinion#Animo #AnimoLaSalle#BringBack :#Respect #Truth #Honesty #Integrity #Justice #Morality#Transparency #Accountability SHARE👈use and follow any of the hashtags above👈\n",
            "As reported tonight on @RealAmericasVoice, the shocking inside look at what happened today in #gasenaterunoff ...\n",
            "As reported tonight on @RealAmericasVoice, the shocking inside look at what happened today in #gasenaterunoff ...\n",
            "As reported tonight on @RealAmericasVoice, the shocking inside look at what happened today in #gasenaterunoff ...\n",
            "Do you know how many steps are inside the Washington Memorial?\n",
            "Happening in this very second!!! Inside the crowds in DC. Look at us, look at the patriots. The atmosphere here is awesome. Im the only one to offer you these live videos on Parler so follow me for more . Big echo\n",
            "As reported tonight on @RealAmericasVoice, the shocking inside look at what happened today in #gasenaterunoff ...\n",
            "As reported tonight on @RealAmericasVoice, the shocking inside look at what happened today in #gasenaterunoff ...\n",
            "As reported tonight on @RealAmericasVoice, the shocking inside look at what happened today in #gasenaterunoff ...\n",
            "*NEW VIDEO*It’s like waking up from a nightmare only to realize that you’re still trapped inside the nightmare.\n",
            "As reported tonight on @RealAmericasVoice, the shocking inside look at what happened today in #gasenaterunoff ...\n",
            "EXCLUSIVE Video: Sec. Mike Pompeo: China’s Communist Party Is ‘Inside the Gates’\n",
            "REAL BREAKING!!! 🔴🔴 This THREAD READER - Grab this NOW !!! before TwiTt3R removes it. Inside of the link go down to the bottom. There is a file link (starts with go file) - download that before someone messes with this server or blocks. If you don't want to download, there are 2 links to listen in the thread- It's over!!MIND BLOWING! 🔴🔴 I knew he wouldn't need to rely on the pence card!\n",
            "As reported tonight on @RealAmericasVoice, the shocking inside look at what happened today in #gasenaterunoff ...\n",
            "As reported tonight on @RealAmericasVoice, the shocking inside look at what happened today in #gasenaterunoff ...\n",
            "Video inside Fulton County polling center - NO Republican observers, screens hidden from view\n",
            "As reported tonight on @RealAmericasVoice, the shocking inside look at what happened today in #gasenaterunoff ...\n",
            "As reported tonight on @RealAmericasVoice, the shocking inside look at what happened today in #gasenaterunoff ...\n",
            "Nov 12 2017 14:52:34 (EST) ***** Q Q Q Q Q * Patriots don’t sleep. = /SA/global +the picture. = cannot/will not swallow. What is No Such Agency - Q group? +++Adm R+++ . war w/ Clowns In America? .. POTUS narrative? (80% covert. 20% public. ..over months? C-info leaks? Operations (think SA + ???)?CNN sale? ? large cash by Clowns In America (public)?Why???does [i]t hurt? control[s] the MSM? POTUS discredit MSM.[W]hy is this relevant?information transmitted?people inform[e]d?.. Op[e]ration Mockingbird .. Jason Bourne (CIA/Dream) repeated?social media platforms.Wizards & Warloc[k]s? What council control?Snowden (inside terms dropped).Alice & Wonderland – understood.Snow White – understood.Iron Eagle?Godfather III?Speed?Everything has meaning.Disney is a distraction.Senate & Congress = puppets (not all)(power shift).For [GOD & COUNTRY].For HUMANITY. GERONIMO.Q\n",
            "Happening in this very second!!! Inside the crowds in DC. Look at us, look at the patriots. The atmosphere here is awesome. Im the only one to offer you these live videos on Parler so follow me for more . Big echo\n",
            "Nov 12 2017 14:52:34 (EST) ***** Q Q Q Q Q * Patriots don’t sleep. = /SA/global +the picture. = cannot/will not swallow. What is No Such Agency - Q group? +++Adm R+++ . war w/ Clowns In America? .. POTUS narrative? (80% covert. 20% public. ..over months? C-info leaks? Operations (think SA + ???)?CNN sale? ? large cash by Clowns In America (public)?Why???does [i]t hurt? control[s] the MSM? POTUS discredit MSM.[W]hy is this relevant?information transmitted?people inform[e]d?.. Op[e]ration Mockingbird .. Jason Bourne (CIA/Dream) repeated?social media platforms.Wizards & Warloc[k]s? What council control?Snowden (inside terms dropped).Alice & Wonderland – understood.Snow White – understood.Iron Eagle?Godfather III?Speed?Everything has meaning.Disney is a distraction.Senate & Congress = puppets (not all)(power shift).For [GOD & COUNTRY].For HUMANITY. GERONIMO.Q\n",
            "~About to pull these steaks off the grill.It’s my neighbor’s grill, but he went inside and I don’t think he will see me.🤪😂\n",
            "As reported tonight on @RealAmericasVoice, the shocking inside look at what happened today in #gasenaterunoff ...\n",
            "Happening in this very second!!! Inside the crowds in DC. Look at us, look at the patriots. The atmosphere here is awesome. Im the only one to offer you these live videos on Parler so follow me for more . Big echo\n",
            "As reported tonight on @RealAmericasVoice, the shocking inside look at what happened today in #gasenaterunoff ...\n",
            "I can't figure out how to post this in its entirety, so I hope this works.I received this from a friend of mine. The title: Be Proud to be White. Just because someone posts this doesn't make anyone a racist! We are born the way we are. We are NOT responsible for what anyone has done in the past ... even if they share a similar skin color! Accept people for who they are, on tbe inside. The container is irrelevant.\n",
            "Most flights are sold out leaving to Washington, D.C. on January 6th to #fightfortrump I cannot wait to be a part of the history that will be made on this historic day. I also wanted to announce that I’ve organized the Global Frontline Nurses coming forward to expose the lies that have going on inside the hospitals you’ve been locked out of. We have moved the venue from Tampa, FL and will be taking the stage in Washington on 1/6! The truth always wins in the end. Details to follow. #nursewhistleblowers\n",
            "Nov 12 2017 14:52:34 (EST) ***** Q Q Q Q Q * Patriots don’t sleep. = /SA/global +the picture. = cannot/will not swallow. What is No Such Agency - Q group? +++Adm R+++ . war w/ Clowns In America? .. POTUS narrative? (80% covert. 20% public. ..over months? C-info leaks? Operations (think SA + ???)?CNN sale? ? large cash by Clowns In America (public)?Why???does [i]t hurt? control[s] the MSM? POTUS discredit MSM.[W]hy is this relevant?information transmitted?people inform[e]d?.. Op[e]ration Mockingbird .. Jason Bourne (CIA/Dream) repeated?social media platforms.Wizards & Warloc[k]s? What council control?Snowden (inside terms dropped).Alice & Wonderland – understood.Snow White – understood.Iron Eagle?Godfather III?Speed?Everything has meaning.Disney is a distraction.Senate & Congress = puppets (not all)(power shift).For [GOD & COUNTRY].For HUMANITY. GERONIMO.Q\n",
            "*NEW VIDEO*It’s like waking up from a nightmare only to realize that you’re still trapped inside the nightmare.\n",
            "As my old Irish GrandDAD used to say \"There's more nutters outside the nuthouse than inside\"GrandPARENT knew....\n",
            "FQLKS.....buckle up, keep arms, legs inside thw ride at all times!! The next 48 hours gonna be DIS-IMFORMATION WARFARE!!! I suggest grab some drinks and snacks!! We are all witnessing HISTORY!!!\n",
            "As reported tonight on @RealAmericasVoice, the shocking inside look at what happened today in #gasenaterunoff ...\n",
            "Well if it’s time then let’s start seeing some head rolls dammit we’ve been holding the line very patiently it is time to start seeing these treasonous bastard’s drop at the Gallo‘s lined up and shot in the firing squads or wired into the chair and the hammer falls and electricity through the persons body frying them from the inside outThe plan. Ueah its time for the plan president trump. Lets do this.\n",
            "Mike Coudrey on Twitter: \"DC ATTENDEES, REMEMBER: -Most streets will be CLOSED. Wear comfortable shoes. -Indoor dining is closed. Hotel room service is available. -Bring snacks, portable batteries and phone chargers. -Stay inside at night. -If we give the order, DO NOT LEAVE DC. OCCUPY! \" / Twitter\n",
            "As reported tonight on @RealAmericasVoice, the shocking inside look at what happened today in #gasenaterunoff ...\n",
            "*NEW VIDEO*It’s like waking up from a nightmare only to realize that you’re still trapped inside the nightmare.\n",
            "Video inside Fulton County polling center - NO Republican observers, screens hidden from view\n",
            "As reported tonight on @RealAmericasVoice, the shocking inside look at what happened today in #gasenaterunoff ...\n",
            "As reported tonight on @RealAmericasVoice, the shocking inside look at what happened today in #gasenaterunoff ...\n",
            "Video inside Fulton County polling center - NO Republican observers, screens hidden from view\n",
            "As reported tonight on @RealAmericasVoice, the shocking inside look at what happened today in #gasenaterunoff ...\n",
            "Video inside Fulton County polling center - NO Republican observers, screens hidden from view\n",
            "REAL BREAKING!!! 🔴🔴 This THREAD READER - Grab this NOW !!! before TwiTt3R removes it. Inside of the link go down to the bottom. There is a file link (starts with go file) - download that before someone messes with this server or blocks. If you don't want to download, there are 2 links to listen in the thread- It's over!!MIND BLOWING! 🔴🔴 I knew he wouldn't need to rely on the pence card!\n",
            "*NEW VIDEO*It’s like waking up from a nightmare only to realize that you’re still trapped inside the nightmare.\n",
            "GUESS THESE IDIOTS WILL BE LOCKED INSIDE THEIR HOMES NEXT\n",
            "Happening in this very second!!! Inside the crowds in DC. Look at us, look at the patriots. The atmosphere here is awesome. Im the only one to offer you these live videos on Parler so follow me for more . Big echo\n",
            "Video inside Fulton County polling center - NO Republican observers, screens hidden from view\n",
            "As reported tonight on @RealAmericasVoice, the shocking inside look at what happened today in #gasenaterunoff ...\n",
            "Republican Senator Josh Hawley (R-MO) claimed late Monday night that a Antifa mob had gathered outside his home and begun attacking the property, threatening his petrified family who were inside.\n",
            "Absolutely fantastic perfectly written article! It’s like she was inside my head! Give it a read, share it and give her a follow! God Bless! 🇺🇸🇺🇸🇺🇸\n",
            "“..We took our eye off this enormous threat and now it’s now upon us. It’s now inside the gates, the Chinese Communist Party is here in America, and the Trump administration has begun in every dimension to turn the ship in the right direction, to get America to once again do the right thing and protect itself from this communist threat in China...” Since the \"great reset\" has been planned for decades by members of the World Economic Forum and Trilateral Commission - treasonists who help to outfit the CCP with the latest surveillance equipment and make their residence in the U.S., WE never should have taken OUR eyes off the threat.\n",
            "Video inside Fulton County polling center - NO Republican observers, screens hidden from view\n",
            "As reported tonight on @RealAmericasVoice, the shocking inside look at what happened today in #gasenaterunoff ...\n",
            "As reported tonight on @RealAmericasVoice, the shocking inside look at what happened today in #gasenaterunoff ...\n",
            "As reported tonight on @RealAmericasVoice, the shocking inside look at what happened today in #gasenaterunoff ...\n",
            "Was watching right side broadcasting in the DC rally tonight when YouTube suddenly cut him off took a picture of the screen before they shut it off the internet connection was the steel what they did each county and state contracted with Dominion made a promise and a deal in a contract saying they wouldn't inspect the software inside the Dominion voting machines\n",
            "As reported tonight on @RealAmericasVoice, the shocking inside look at what happened today in #gasenaterunoff ...\n",
            "@trfirefox Governor Newsom Has put me out of business.He Closed schools that I contracted with.He never closed his businesses,his children’s schools were not closed they were able to attend in person.My liability insurance won’t cover me as long as we’re shutdown. The anger I feel is indescribable the worry I have is almost unbearable & the fight I have brewing inside me will be uncontrollable if this madness isn’t stopped! I’ve worked since I was 10 years old. I’ve taken care of my ranch 7 days a week 12 hour days by myself to support myself &daughter. I’m a proud patriot that believes if you want something you have to work for it.I was taught how to work at a young age&have carried that work ethic with me ever since. I won’t give up and I won’t sit idle and lose what I’ve worked for without a fight! I’m proud& now I’m forced to ask for help from my fellow patriots. Humbling& heartbreaking. God will prevail 💕\n",
            "As reported tonight on @RealAmericasVoice, the shocking inside look at what happened today in #gasenaterunoff ...\n",
            "Happening in this very second!!! Inside the crowds in DC. Look at us, look at the patriots. The atmosphere here is awesome. Im the only one to offer you these live videos on Parler so follow me for more . Big echo\n",
            "As reported tonight on @RealAmericasVoice, the shocking inside look at what happened today in #gasenaterunoff ...\n",
            "*NEW VIDEO*It’s like waking up from a nightmare only to realize that you’re still trapped inside the nightmare.\n",
            "REAL BREAKING!!! 🔴🔴 This THREAD READER - Grab this NOW !!! before TwiTt3R removes it. Inside of the link go down to the bottom. There is a file link (starts with go file) - download that before someone messes with this server or blocks. If you don't want to download, there are 2 links to listen in the thread- It's over!!MIND BLOWING! 🔴🔴 I knew he wouldn't need to rely on the pence card!\n",
            "As reported tonight on @RealAmericasVoice, the shocking inside look at what happened today in #gasenaterunoff ...\n",
            "CHRISTMAS IS OVER, A NEW YEAR IS UPON US. The grim reality:We are at war. To you all that have any will left inside of you, prepare for battle against hunger, sickness,shelter and protection.  If something doesn’t happen soon , which is likely not going to, we are going to fight ,EACH OTHER.PLAN: for those of you that live in a predominantly blue area and still believe in America, reach out to friends or family that will take you in temporarily. Plan to make it there when this situation worsens.  Take some of your savings and buy dry-foods. Learn how to filter water.  Buy extra meds like ibuprofen and such. Buy a hand crank radio, flashlight, USB charger.I’ve held the idea for months that this is going to be over and we’ll prevail in courts but our own elected officials have sided with globalism. Very Scary INDEED!! Be vigilant and take note of who our enemies are now. You know some , I do as well. Prepare, Pray, and Accept. War is upon our doorstep!Good luck!!\n",
            "*NEW VIDEO*It’s like waking up from a nightmare only to realize that you’re still trapped inside the nightmare.\n",
            "*NEW VIDEO*It’s like waking up from a nightmare only to realize that you’re still trapped inside the nightmare.\n",
            "Happening in this very second!!! Inside the crowds in DC. Look at us, look at the patriots. The atmosphere here is awesome. Im the only one to offer you these live videos on Parler so follow me for more . Big echo\n",
            "The Aulterra™  Whole Car USB neutralizes EMF radiation inside your car providing full automobile EMF protection and creates a healthier driving experience.Aulterra Products have been proven to work by domestic and international, independent research. Studied at universities, research labs, and by doctors around the world. Documents research on our site ❗Echo ❗Thank you🙏\n",
            "As reported tonight on @RealAmericasVoice, the shocking inside look at what happened today in #gasenaterunoff ...\n",
            "REAL BREAKING!!! 🔴🔴 This THREAD READER - Grab this NOW !!! before TwiTt3R removes it. Inside of the link go down to the bottom. There is a file link (starts with go file) - download that before someone messes with this server or blocks. If you don't want to download, there are 2 links to listen in the thread- It's over!!MIND BLOWING! 🔴🔴 I knew he wouldn't need to rely on the pence card!\n",
            "As reported tonight on @RealAmericasVoice, the shocking inside look at what happened today in #gasenaterunoff ...\n",
            "As reported tonight on @RealAmericasVoice, the shocking inside look at what happened today in #gasenaterunoff ...\n",
            "Support our american business ❗🙏 Protect your family and yourself from 5G radiation❗✌ Great tech 😮The Aulterra™  Whole House USB neutralizes EMF’s coming from all electrical devices plugged into the inside or outside of the home and ambient EMF’s coming in from outside the home❗Echo ✌\n",
            "As reported tonight on @RealAmericasVoice, the shocking inside look at what happened today in #gasenaterunoff ...\n",
            "Apple Maps Blocking Travel Directions to Washington DC Day Before Pro-Trump Protests - National FileWords can’t describe my rage over this. If this doesn’t make your blood boil, you’re dead inside...\n",
            "BLOW IT ALL UP IF WE HAVE TOO,DEMS/RINOS INSIDE\n",
            "As my old Irish GrandDAD used to say \"There's more nutters outside the nuthouse than inside\"GrandPARENT knew....\n",
            "Exclusive: Sec Mike Pompeo: China’s Communist Party Is ‘Inside the Gates’ | American Thought Leaders\n",
            "As reported tonight on @RealAmericasVoice, the shocking inside look at what happened today in #gasenaterunoff ...\n",
            "UGLY PIECE OF SHIT ON THE INSIDE AND OUT. SICK OF THIS FUCKING DUDES FACE.\n",
            "Cyber Security Expert Roy Bettle joins Dr. Turley for an exclusive inside look at Dominion Voting Machines and the state of Cybersecurity today. Join Graybeard Security at the Turley Talks New Years Conference this Saturday, January 9th, at 10 AM EST.\n",
            "As reported tonight on @RealAmericasVoice, the shocking inside look at what happened today in #gasenaterunoff ...\n",
            "Exclusive: Sec Mike Pompeo: China’s Communist Party Is ‘Inside the Gates’ | American Thought Leaders\n",
            "Exclusive: Sec Mike Pompeo: China’s Communist Party Is ‘Inside the Gates’ | American Thought Leaders\n",
            "It is January 6, 2021. God is still on the throne and Jesus is alive and interceding for those who believe. Let us not be destructed or distracted by the evil of this world. Let us not cast our eyes downward as those who have no hope? Let us reach deep inside and find the strength of Christ who came as a Lamb but will return as a Lion!! Behold Him. He is testing our faith. Do not let your faith waver. He is doing a new thing and in the end, we will have victory over all evil. Take heart brothers and sisters. It’s much much bigger than Republican vs Democrats. Satan will be cast away and Jesus will reign!! Pray for yourselves but also for your friends and family who are blinded to the truth. Time is short.\n",
            "As reported tonight on @RealAmericasVoice, the shocking inside look at what happened today in #gasenaterunoff ...\n",
            "As reported tonight on @RealAmericasVoice, the shocking inside look at what happened today in #gasenaterunoff ...\n",
            "So... Let me get this straight:The word Mother (one of my proud titles) is banned from the language of Law inside the House of Representatives? ... hmmmm, butA prayer to BRAHMA IS PERMITTED to end in “AWOMEN” ... not even a word ?\n",
            "Raphael Warnock has the devil’s heart beating inside him. #evil#devilsheart#ungodly #communist\n",
            "Happening in this very second!!! Inside the crowds in DC. Look at us, look at the patriots. The atmosphere here is awesome. Im the only one to offer you these live videos on Parler so follow me for more . Big echo\n",
            "The Enemy is inside the gate!!\n",
            "Leftist CIA officers have been engaged in a quest to control the government since the 1950s. It was initiated by Soviet KGB officers inside the CIA. The KGB was exposed in 1984, but it was never made public.The CIA killed 16 Members of Congress with “accidents” and “suicides” in 34 years from 1957 to 1991. My book has the details.The CIA assassinated President Kennedy and tried to kill President Reagan. They also had plans to kill Presidents Johnson, Nixon, and Ford.Chuck Schumer is one of the covert CIA officers in Congress. He was a KGB “asset” when he was first elected in 1980.After the KGB was exposed, Schumer and his CIA colleagues began their own quest to control the government.Leftist CIA officers enlisted Joe Biden as an “asset” and targeted him for the Presidency in 1984. They are behind the massive election fraud of 2020.Leftist CIA officers are bent on destroying America. Click the link.\n",
            "A man arrested for raping and robbing a woman on New Year's Eve was found to be living inside a homeless shelter filled with sex offenders.#irishangel #blesstheblue #Let\n",
            "In Georgia it appears the Black Tribe of Georgia has fallen under the evil spell of Communism. It is a warning to all American tribes that the threat of Communism is real and it it is inside our walls to destroy our freedoms and values. Communism is pure Evil.\n",
            "Exclusive: Sec Mike Pompeo: China’s Communist Party Is ‘Inside the Gates’ | American Thought Leaders\n",
            "As reported tonight on @RealAmericasVoice, the shocking inside look at what happened today in #gasenaterunoff ...\n",
            "As reported tonight on @RealAmericasVoice, the shocking inside look at what happened today in #gasenaterunoff ...\n",
            "As reported tonight on @RealAmericasVoice, the shocking inside look at what happened today in #gasenaterunoff ...\n",
            "As reported tonight on @RealAmericasVoice, the shocking inside look at what happened today in #gasenaterunoff ...\n",
            "As reported tonight on @RealAmericasVoice, the shocking inside look at what happened today in #gasenaterunoff ...\n",
            "Nov 12 2017 14:52:34 (EST) ***** Q Q Q Q Q * Patriots don’t sleep. = /SA/global +the picture. = cannot/will not swallow. What is No Such Agency - Q group? +++Adm R+++ . war w/ Clowns In America? .. POTUS narrative? (80% covert. 20% public. ..over months? C-info leaks? Operations (think SA + ???)?CNN sale? ? large cash by Clowns In America (public)?Why???does [i]t hurt? control[s] the MSM? POTUS discredit MSM.[W]hy is this relevant?information transmitted?people inform[e]d?.. Op[e]ration Mockingbird .. Jason Bourne (CIA/Dream) repeated?social media platforms.Wizards & Warloc[k]s? What council control?Snowden (inside terms dropped).Alice & Wonderland – understood.Snow White – understood.Iron Eagle?Godfather III?Speed?Everything has meaning.Disney is a distraction.Senate & Congress = puppets (not all)(power shift).For [GOD & COUNTRY].For HUMANITY. GERONIMO.Q\n",
            "🔴 PREMIERE 7:15pm ET: \"We took our eye off this enormous threat and… it's now inside the gates. The #ChineseCommunistParty is here in America.\"EXCLUSIVE with Secretary Mike Pompeo on the #CCP threat & why the West must take a stand against the communist regime—with @JanJekielek on American Thought Leaders 🇺🇸 @atl !\n",
            "GEORGIA UPDATE 🗳 Republicans aren’t turning out. Sources inside Loeffler/Perdue HQ state the sentiment is “worrisome.” CURRENT NUMBERS:Ossoff: 1,314,733Perdue: 1,309,438Warnock: 1,324,257Loeffler: 1,307,258AS I WRITE THIS A MAJOR DATA DUMP TIGHTENS RACE CONSIDERABLY. NOT OVER YET.\n",
            "If you are surprised that pretend Russian collision with the Trump Administration was a huge deal, but the Chinese Government living inside the ass of Eric Swalwell isn't a problem at all...You haven't been paying attention. Democrats and the Media only care about increasing their own wealth and power.Literally nothing else.\n",
            "As reported tonight on @RealAmericasVoice, the shocking inside look at what happened today in #gasenaterunoff ...\n",
            "Cyber Security Expert Roy Bettle joins Dr. Turley for an exclusive inside look at Dominion Voting Machines and the state of Cybersecurity today. Join Graybeard Security at the Turley Talks New Years Conference this Saturday, January 9th, at 10 AM EST.\n",
            "Just so you all know. There IS a Presidential book of secrets which outlines the plan in case of nuclear attack. I've seen it and I took a picture of the single page that is found inside that book...I am risking a lot posting it here but you need to see it...\n",
            "As reported tonight on @RealAmericasVoice, the shocking inside look at what happened today in #gasenaterunoff ...\n",
            "As reported tonight on @RealAmericasVoice, the shocking inside look at what happened today in #gasenaterunoff ...\n",
            "Video inside Fulton County polling center - NO Republican observers, screens hidden from view\n",
            "As my old Irish GrandDAD used to say \"There's more nutters outside the nuthouse than inside\"GrandPARENT knew....\n",
            "The heart knows truth deep inside.\n",
            "*NEW VIDEO*It’s like waking up from a nightmare only to realize that you’re still trapped inside the nightmare.\n",
            "Nov 12 2017 14:52:34 (EST) ***** Q Q Q Q Q * Patriots don’t sleep. = /SA/global +the picture. = cannot/will not swallow. What is No Such Agency - Q group? +++Adm R+++ . war w/ Clowns In America? .. POTUS narrative? (80% covert. 20% public. ..over months? C-info leaks? Operations (think SA + ???)?CNN sale? ? large cash by Clowns In America (public)?Why???does [i]t hurt? control[s] the MSM? POTUS discredit MSM.[W]hy is this relevant?information transmitted?people inform[e]d?.. Op[e]ration Mockingbird .. Jason Bourne (CIA/Dream) repeated?social media platforms.Wizards & Warloc[k]s? What council control?Snowden (inside terms dropped).Alice & Wonderland – understood.Snow White – understood.Iron Eagle?Godfather III?Speed?Everything has meaning.Disney is a distraction.Senate & Congress = puppets (not all)(power shift).For [GOD & COUNTRY].For HUMANITY. GERONIMO.Q\n",
            "Video inside Fulton County polling center - NO Republican observers, screens hidden from view\n",
            "As reported tonight on @RealAmericasVoice, the shocking inside look at what happened today in #gasenaterunoff ...\n",
            "Inside the West Wing: Trump didn't want to go back to Georgia But the devil went anyone! And he lost again! Lol\n",
            "2. God isn't limited by what we ask or what we can imagine. He has no limit, and He can't fit inside any box. The fact in this verse is simple: He does \"immeasurably\" greater things than what we can ever ask or dream. Forget the limits friend. Believe He is who He says He is, and that He will do what He says He will do. Allow Him to demonstrate His great power IN you and THROUGH you! You can accomplish much more with His power than you can with pity. 🙌Have a blessed and powerful day in Christ!🙌\n",
            "As reported tonight on @RealAmericasVoice, the shocking inside look at what happened today in #gasenaterunoff ...\n",
            "REAL BREAKING!!! 🔴🔴 This THREAD READER - Grab this NOW !!! before TwiTt3R removes it. Inside of the link go down to the bottom. There is a file link (starts with go file) - download that before someone messes with this server or blocks. If you don't want to download, there are 2 links to listen in the thread- It's over!!MIND BLOWING! 🔴🔴 I knew he wouldn't need to rely on the pence card!\n",
            "🚨Decoded: A Week to Remember!5 Photos.Photo 1: George News tweet (founded by JFK Jr.), specifically pointing out the timestamp 6:10.Photo 2: Q Post 610 - Track resignations. Where there was once darkness, there will be LIGHT.Photo 3: Link inside Q Post 610. Executive Order Blocking Property of Persons Involved In Serious Human Rights Abuse or Corruption.Photo 4: Q Post with link containing 610 within it. NOW COMES THE PAIN.Photo 4: Q Post with link containing 610 within it. A WEEK TO REMEMBER.This week will be a week to remember in the history books. Mark your calendars for Wednesday 1/6, with Assange on the verge of FREEDOM (judge will decide), and electoral votes being counted where Pence/Legislators may object and overturn the election. KEEP THE FAITH, ALMOST THERE PATRIOTS! WE WILL WIN!\n",
            "As reported tonight on @RealAmericasVoice, the shocking inside look at what happened today in #gasenaterunoff ...\n",
            "*NEW VIDEO*It’s like waking up from a nightmare only to realize that you’re still trapped inside the nightmare.\n",
            "Dear People of Oregon:While Kate Brown encourages you to rat out your neighbors for having Thanksgiving with your family, she and her security staff are not following her own Covid orders.“In an interview with PJ Media, the witness, a woman named Rebekah (she asked us not to include her last name out of fear of retaliation from Gov. Brown) described the scene. Rebekah brought her kids to a riverside park on a hot summer day to go swimming. She happened upon Kate Brown and her Oregon State Police security detail on a trail next to the park in Marion County. None were wearing masks, despite a mid-July executive order requiring masks outdoors, not just inside public buildings.”#projectfightback #fightbackoregon #trumptrain #oregon #katebrown #recallkatebrown #americafirst #covid19 #covid19hoax\n",
            "As reported tonight on @RealAmericasVoice, the shocking inside look at what happened today in #gasenaterunoff ...\n",
            "REAL BREAKING!!! 🔴🔴 This THREAD READER - Grab this NOW !!! before TwiTt3R removes it. Inside of the link go down to the bottom. There is a file link (starts with go file) - download that before someone messes with this server or blocks. If you don't want to download, there are 2 links to listen in the thread- It's over!!MIND BLOWING! 🔴🔴 I knew he wouldn't need to rely on the pence card!\n",
            "As reported tonight on @RealAmericasVoice, the shocking inside look at what happened today in #gasenaterunoff ...\n",
            "Dear People of Oregon:While Kate Brown encourages you to rat out your neighbors for having Thanksgiving with your family, she and her security staff are not following her own Covid orders.“In an interview with PJ Media, the witness, a woman named Rebekah (she asked us not to include her last name out of fear of retaliation from Gov. Brown) described the scene. Rebekah brought her kids to a riverside park on a hot summer day to go swimming. She happened upon Kate Brown and her Oregon State Police security detail on a trail next to the park in Marion County. None were wearing masks, despite a mid-July executive order requiring masks outdoors, not just inside public buildings.”#projectfightback #fightbackoregon #trumptrain #oregon #katebrown #recallkatebrown #americafirst #covid19 #covid19hoax\n",
            "Video inside Fulton County polling center - NO Republican observers, screens hidden from view\n",
            "“...If, according to our whistleblower, Joseph Rosati was the one responsible for orchestrating the attack on Seth Rich, and potentially “cleaning up” the two MS-13 agents after the shakedown went south… who put him up to it?What you are about to read is parsed from several hours of leaked testimony I listened through today, via a whistleblower – testimony which is currently under seal in the District Court of Maryland.This is the court case:Lin Wood referenced on Twitter earlier:What follows is a summary of the multi-hour-long testimony of alias Ryan White, delivered and recorded over several months, wherein White claims he was arrested by the very same man who was involved in the murder of Seth Rich, and the subsequent cover-up – Joseph Rosati.White, working as a private investigator himself, had routine contact with several men working inside government agencies, including one Secret Service agent, Shaun Bridges, and another DEA agent, Carl Mark Force.\n",
            "As reported tonight on @RealAmericasVoice, the shocking inside look at what happened today in #gasenaterunoff ...\n",
            "Muslims Demand Texas Mayor Surrender After She Attacked Shariah Court. Here’s Her ResponseThe group of Muslims who attempted to establish the first Islamic Sharia court inside the United States in the town of Irving, Texas just received a devastating blow thanks to the town’s mayor standing strong and not backing down.Mayor Beth Van Duyne made a public Facebook post stating that she backs the new Texas law which prohibits any kind of foreign law from being practiced in the state of Texas.After calls, threats and toddler-like demands to apologize from the Muslims who attempted to form the Sharia tribunal along with representatives from the Council on Islamic-American Relations, a known front for the Muslim Brotherhood, the mayor never once backed down.Please echo and please, if you're in Texas, hold this Patriot up as an example to other Mayors and Government Officials.\n",
            "There is a fundamental reason why our enemies dare not attack [invade] our borders [armed citizenry]. If America falls so does the world. If America falls darkness will soon follow. Only when we stand together, only when we are united, can we defeat this highly entrenched dark enemy. Their power and control relies heavily on an uneducated population.A population that trusts without individual thought.A population that obeys without challenge. A population that remains outside of free thought, and instead, remains isolated living in fear inside of the closed-loop echo chamber of the controlled mainstream media. This is not about politics.This is about preserving our way of life and protecting the generations that follow.We are living in Biblical times.Children of light vs children of darkness.United against the Invisible Enemy of all humanity.Q\n",
            "*NEW VIDEO*It’s like waking up from a nightmare only to realize that you’re still trapped inside the nightmare.\n",
            "As reported tonight on @RealAmericasVoice, the shocking inside look at what happened today in #gasenaterunoff ...\n",
            "A man arrested for raping and robbing a woman on New Year's Eve was found to be living inside a homeless shelter filled with sex offenders.#cops #police #talkradio #podcast\n",
            "As reported tonight on @RealAmericasVoice, the shocking inside look at what happened today in #gasenaterunoff ...\n",
            "As reported tonight on @RealAmericasVoice, the shocking inside look at what happened today in #gasenaterunoff ...\n",
            "There is a fundamental reason why our enemies dare not attack [invade] our borders [armed citizenry]. If America falls so does the world. If America falls darkness will soon follow. Only when we stand together, only when we are united, can we defeat this highly entrenched dark enemy. Their power and control relies heavily on an uneducated population.A population that trusts without individual thought.A population that obeys without challenge. A population that remains outside of free thought, and instead, remains isolated living in fear inside of the closed-loop echo chamber of the controlled mainstream media. This is not about politics.This is about preserving our way of life and protecting the generations that follow.We are living in Biblical times.Children of light vs children of darkness.United against the Invisible Enemy of all humanity.Q\n",
            "Sooooo yeahhhh how is nobody talking about this?! If you dont know #johnmcafee (this guy who makes that anti virus software thats super fucking annoying and always pops up on your windows computer, something you needed in the past but no one gives a shit anymore about) is supposed to eat his dick on national tv if #bitcoin isnt priced at 1 million dollars. He made this promise like a few years ago, now ive see that documentary about him “gringo” and he definitely seems like the type that knows a lot of insane inside knowledge so i honestly thought it might get close, butttt we aren’t that close, its been pretty high lately but nope. So this will be exciting to see if he does eat his dick. #crypto #cryptocurrency #cryptocurrencies #cryptonews #xrp #xrpcommunity #xrpthestandard #ripplexrp\n",
            "Did you notice how the same MO played out? Let's see how many votes we are down around 75percent into counting. One or two counties at mid 50s . Once they see how many the truck backs in and BOOM .. more ballots..or boom a.mild voting machine change! When will we really stop this..since Barack they have been destroying this country from the inside, stopped tetemporarily by Trump, now it just continues..watchthe electoral college gun rights scotus packing single payer healthcare no school choice..it will happen fast. Wake up\n",
            "Video inside Fulton County polling center - NO Republican observers, screens hidden from view\n",
            "Excited to share this item from my #etsy shop: 2020 Review Mug, 2020 Do Over Mug, Mug with Color Inside, 2020 Funny Mug, 2020 Joke Mug, Silly Mug, 2020, 2020 Gift, Dad Gift, Mom Gift\n",
            "Happening in this very second!!! Inside the crowds in DC. Look at us, look at the patriots. The atmosphere here is awesome. Im the only one to offer you these live videos on Parler so follow me for more . Big echo\n",
            "As reported tonight on @RealAmericasVoice, the shocking inside look at what happened today in #gasenaterunoff ...\n",
            "Pence... pray for him. That the God inside his heart will drive him to do what’s right today. Past evils... People can change. Holy Spirit 🙌🏻\n",
            "As reported tonight on @RealAmericasVoice, the shocking inside look at what happened today in #gasenaterunoff ...\n",
            "As reported tonight on @RealAmericasVoice, the shocking inside look at what happened today in #gasenaterunoff ...\n",
            "The @GOP is dead now. #Georgia now a Blue state. Only Patriots can save America now. Even if Trump did somehow turn his election around, Schumer and Pelosi would impeach him inside 6 months. The real bad news? We are stuck with a fraudulent voting process that ensures Democrats win every time.\n",
            "As reported tonight on @RealAmericasVoice, the shocking inside look at what happened today in #gasenaterunoff ...\n",
            "A woman in the UK was arrested by police after she filmed a video inside an almost completely empty hospital and posted it online.\n",
            "Doc, Dopey, Grumpy, Sleepy, Happy, Bashful and Sneezy?CIA huge computers Seven Dwarfs - cloak-and-dagger- Operation code-named (Snow White) .=== Why was Op[e]ration Mockingbird repeated?Why was Jason Bourne (CIA/Dream) repeated?Think social media platforms.Who are the Wizards & Warloc[k]s? What council do the Wizards & Warlocks control?Think Snowden (inside terms dropped).Alice & Wonderland – understood.Snow White – understood.\n",
            "On November 9th Biden/Harris Inauguration tickets were made available. Smaller crowds were predicted due to Covid-19. The festivities were canceled today due to poor sales of FREE tickets. Apparently the turnout was more commensurate with campaign whistle stop crowds attended mostly by protesting Trump supporters who could faintly hear the candidates screaming promises and Trump hatred at empty white circles.The “Office of the Almost Elected” did not release an exact count of Free tickets sold. Vegas odds were 0.5 to 1.0 % expected using the Trump average stadium inside and outside crowds of 50,000 as a base number.The campaign did say that they are now planning a virtual inauguration as opposed to expected crowds at this weeks Trump Rally expected to be just a cool million. With voter fraud evidence mounting daily, it appears that the Biden/Harris win was VIRTUALLY impossible. Especially in lieu of massive Trump rally’s in honor of the fake media decided Virtual Loser.\n",
            "Happening in this very second!!! Inside the crowds in DC. Look at us, look at the patriots. The atmosphere here is awesome. Im the only one to offer you these live videos on Parler so follow me for more . Big echo\n",
            "Exclusive: Sec Mike Pompeo: China’s Communist Party Is ‘Inside the Gates’ | American Thought Leaders - YouTube\n",
            "Leftist CIA officers have been engaged in a quest to control the government since the 1950s. It was initiated by Soviet KGB officers inside the CIA. The KGB was exposed in 1984, but it was never made public.The CIA killed 16 Members of Congress with “accidents” and “suicides” in 34 years from 1957 to 1991. My book has the details.The CIA assassinated President Kennedy and tried to kill President Reagan. They also had plans to kill Presidents Johnson, Nixon, and Ford.Chuck Schumer is one of the covert CIA officers in Congress. He was a KGB “asset” when he was first elected in 1980.After the KGB was exposed, Schumer and his CIA colleagues began their own quest to control the government.Leftist CIA officers enlisted Joe Biden as an “asset” and targeted him for the Presidency in 1984. They are behind the massive election fraud of 2020.Leftist CIA officers are bent on destroying America. Click the link.\n",
            "Takeover completeAmerica is deadBrought down from the inside,just as I’ve heard it would be 50yrs ago.\n",
            "As reported tonight on @RealAmericasVoice, the shocking inside look at what happened today in #gasenaterunoff ...\n",
            "Video inside Fulton County polling center - NO Republican observers, screens hidden from view\n",
            "The heart knows truth deep inside.\n",
            "*NEW VIDEO*It’s like waking up from a nightmare only to realize that you’re still trapped inside the nightmare.\n",
            "Watch @Peoples_Pundit's broadcast: Inside The Numbers: Live Coverage of the Georgia Senate Runoff Elections\n",
            "“...If, according to our whistleblower, Joseph Rosati was the one responsible for orchestrating the attack on Seth Rich, and potentially “cleaning up” the two MS-13 agents after the shakedown went south… who put him up to it?What you are about to read is parsed from several hours of leaked testimony I listened through today, via a whistleblower – testimony which is currently under seal in the District Court of Maryland.This is the court case:Lin Wood referenced on Twitter earlier:What follows is a summary of the multi-hour-long testimony of alias Ryan White, delivered and recorded over several months, wherein White claims he was arrested by the very same man who was involved in the murder of Seth Rich, and the subsequent cover-up – Joseph Rosati.White, working as a private investigator himself, had routine contact with several men working inside government agencies, including one Secret Service agent, Shaun Bridges, and another DEA agent, Carl Mark Force.\n",
            "Happening in this very second!!! Inside the crowds in DC. Look at us, look at the patriots. The atmosphere here is awesome. Im the only one to offer you these live videos on Parler so follow me for more . Big echo\n",
            "Happening in this very second!!! Inside the crowds in DC. Look at us, look at the patriots. The atmosphere here is awesome. Im the only one to offer you these live videos on Parler so follow me for more . Big echo\n",
            "Happening in this very second!!! Inside the crowds in DC. Look at us, look at the patriots. The atmosphere here is awesome. Im the only one to offer you these live videos on Parler so follow me for more . Big echo\n",
            "Happening in this very second!!! Inside the crowds in DC. Look at us, look at the patriots. The atmosphere here is awesome. Im the only one to offer you these live videos on Parler so follow me for more . Big echo\n",
            "As reported tonight on @RealAmericasVoice, the shocking inside look at what happened today in #gasenaterunoff ...\n",
            "As reported tonight on @RealAmericasVoice, the shocking inside look at what happened today in #gasenaterunoff ...\n",
            "Leftist CIA officers have been engaged in a quest to control the government since the 1950s. It was initiated by Soviet KGB officers inside the CIA. The KGB was exposed in 1984, but it was never made public.The CIA killed 16 Members of Congress with “accidents” and “suicides” in 34 years from 1957 to 1991. My book has the details.The CIA assassinated President Kennedy and tried to kill President Reagan. They also had plans to kill Presidents Johnson, Nixon, and Ford.Chuck Schumer is one of the covert CIA officers in Congress. He was a KGB “asset” when he was first elected in 1980.After the KGB was exposed, Schumer and his CIA colleagues began their own quest to control the government.Leftist CIA officers enlisted Joe Biden as an “asset” and targeted him for the Presidency in 1984. They are behind the massive election fraud of 2020.Leftist CIA officers are bent on destroying America. Click the link.\n",
            "As reported tonight on @RealAmericasVoice, the shocking inside look at what happened today in #gasenaterunoff ...\n",
            "Happening in this very second!!! Inside the crowds in DC. Look at us, look at the patriots. The atmosphere here is awesome. Im the only one to offer you these live videos on Parler so follow me for more . Big echo\n",
            "Video inside Fulton County polling center - NO Republican observers, screens hidden from view\n",
            "It is evident to me now. Trump knew about all of the inside corruption, including Pence. But the “plan” isn’t a superhero coming to save us. We must fight and save our republic. It is too large for one person to save. That isn’t realistic. Do not cower. Stand up and fight.\n",
            "FBI not commenting... I wonder why...Not another “false flag” inside job to distract and kill innocent Americans making it look like IRAN did it??This is getting to be just like the Film Angel has Fallen staring Gerard Butler and Morgan Freeman..The next one will be the PURGE...,then Hunger Games... Art imitating life?!\n",
            "Happening in this very second!!! Inside the crowds in DC. Look at us, look at the patriots. The atmosphere here is awesome. Im the only one to offer you these live videos on Parler so follow me for more . Big echo\n",
            "Nov 12 2017 14:52:34 (EST) ***** Q Q Q Q Q * Patriots don’t sleep. = /SA/global +the picture. = cannot/will not swallow. What is No Such Agency - Q group? +++Adm R+++ . war w/ Clowns In America? .. POTUS narrative? (80% covert. 20% public. ..over months? C-info leaks? Operations (think SA + ???)?CNN sale? ? large cash by Clowns In America (public)?Why???does [i]t hurt? control[s] the MSM? POTUS discredit MSM.[W]hy is this relevant?information transmitted?people inform[e]d?.. Op[e]ration Mockingbird .. Jason Bourne (CIA/Dream) repeated?social media platforms.Wizards & Warloc[k]s? What council control?Snowden (inside terms dropped).Alice & Wonderland – understood.Snow White – understood.Iron Eagle?Godfather III?Speed?Everything has meaning.Disney is a distraction.Senate & Congress = puppets (not all)(power shift).For [GOD & COUNTRY].For HUMANITY. GERONIMO.Q\n",
            "Video inside Fulton County polling center - NO Republican observers, screens hidden from view\n",
            "His platoon had just left their base in Iraq when their vehicle hit an improvised roadside bomb and erupted in flames. Only slightly injured, Cashe pulled out the driver, who was burning, and extinguished the flames. After a soldier inside pushed open the vehicle’s hatch door, Cashe rushed back and pulled six more men out, not stopping even after he caught fire. More than 70 percent of his body was covered in burns. He was hurt the most badly but insisted on being medically evacuated last.In the hospital, before he succumbed to his injuries, he told Stars and Stripes, “I had made peace with God, but I didn’t know if my men had yet.”SAUcE:\n",
            "ANTIFA and BLM Scum Pound On The Door Of Josh Hawley's Home While His Wife And Baby Cower In Fear Inside, Threaten Their Lives - Videos - VidMax.com\n",
            "As reported tonight on @RealAmericasVoice, the shocking inside look at what happened today in #gasenaterunoff ...\n",
            "should have had police and military inside vote counting rooms, the tattle tell system doesn't have merit any more\n",
            "Exclusive: Sec Mike Pompeo: China’s Communist Party Is ‘Inside the Gates’ | American Thought Leaders\n",
            "THE PEOPLE OF THE WORLD NEED TO HEAR THIS.........................the people of the world today live theirlives inside a control system, that most people never even notice it exists.It's an extremely sophisticated system and yet a very simple system,and it exist mostly simply because people believe that it is there.This unquestioning belief in the existence of authority is really a huge problem with the human psyche, and it's a very major part of the control system that is in place, but another part of it is the paper based reality that people are in slave to what I called the paper-based Matrix that people actually believe is real.Now,over the years,and most especially in recent times, there have been many, many people that have brought this information to you and have sought to explain this paper-based reality to you.Theres many people that have brought you information regarding the birth certificate, many people who have suggested that you question suggested the validity and the\n",
            "Leftist Mob Shows Up at GOP Senator's House With Wife & Newborn Inside\n",
            "As reported tonight on @RealAmericasVoice, the shocking inside look at what happened today in #gasenaterunoff ...\n",
            "As reported tonight on @RealAmericasVoice, the shocking inside look at what happened today in #gasenaterunoff ...\n",
            "Video inside Fulton County polling center - NO Republican observers, screens hidden from view\n",
            "If you start with a cage containing five monkeys, and inside the cage hang a banana on a string from the top, and then you place a set of stairs under the banana, before long a monkey will go to the stairs and climb toward the banana.As soon as he touches the stairs, you spray all the monkeys with cold water.After a while another monkey makes an attempt with same result -- all the monkeys are sprayed with cold water. Pretty soon when another monkey tries to climb the stairs, the other monkeys will try to prevent it.Now, put the cold water away.Remove one monkey from the cage and replace it with a new one. The new monkey sees the banana and attempts to climb the stairs. To his shock, all of the other monkeys beat the crap out of him.\n",
            "As reported tonight on @RealAmericasVoice, the shocking inside look at what happened today in #gasenaterunoff ...\n",
            "Great! They better be sure that all DemoKKKrats, and their House Monger Leaders are inside... Perhaps then, JFK will be dancing in his grave, instead of turning... Then we'll have PEACE & HARMONY at last!...\n",
            "As my old Irish GrandDAD used to say \"There's more nutters outside the nuthouse than inside\"GrandPARENT knew....\n",
            "Nov 12 2017 14:52:34 (EST) ***** Q Q Q Q Q * Patriots don’t sleep. = /SA/global +the picture. = cannot/will not swallow. What is No Such Agency - Q group? +++Adm R+++ . war w/ Clowns In America? .. POTUS narrative? (80% covert. 20% public. ..over months? C-info leaks? Operations (think SA + ???)?CNN sale? ? large cash by Clowns In America (public)?Why???does [i]t hurt? control[s] the MSM? POTUS discredit MSM.[W]hy is this relevant?information transmitted?people inform[e]d?.. Op[e]ration Mockingbird .. Jason Bourne (CIA/Dream) repeated?social media platforms.Wizards & Warloc[k]s? What council control?Snowden (inside terms dropped).Alice & Wonderland – understood.Snow White – understood.Iron Eagle?Godfather III?Speed?Everything has meaning.Disney is a distraction.Senate & Congress = puppets (not all)(power shift).For [GOD & COUNTRY].For HUMANITY. GERONIMO.Q\n",
            "*NEW VIDEO*It’s like waking up from a nightmare only to realize that you’re still trapped inside the nightmare.\n",
            "Our country must face truth about its so-called leaders. The good, bad & ugly truth. We must expose swamp inhabitants to disinfectant of sunshine.No more dirty little “inside Beltway” secrets. We need truth. These two men do not even tell us truth about their adopted children.\n",
            "As reported tonight on @RealAmericasVoice, the shocking inside look at what happened today in #gasenaterunoff ...\n",
            "A Bomb no one has picked up on and I think President Trump Knows, Did DOMINION take any PARTS OUT from INSIDE the machine? I bet he has Video just like at the Poll Count Center. HUGE: TRUMP DROPS A BOMB DURING PHONE CALL! Tells Raffensperger \"Vote Scammer and Hustler\" Ruby Freeman Was Behind Alleged 18,000 FRAUDULENT VOTES in Suitcase Scandal! (VIDEO)\n",
            "How did radical progressives like Ossoff and Warnock even make it this far in Georgia? They are determined to destroy America from the inside, yet they have enough support to make it close. I hate to say it, Republicans better put on their big boy pants and grow a pair before we lose our Country. God Bless America!\n",
            "As reported tonight on @RealAmericasVoice, the shocking inside look at what happened today in #gasenaterunoff ...\n",
            "*NEW VIDEO*It’s like waking up from a nightmare only to realize that you’re still trapped inside the nightmare.\n",
            "As reported tonight on @RealAmericasVoice, the shocking inside look at what happened today in #gasenaterunoff ...\n",
            "As reported tonight on @RealAmericasVoice, the shocking inside look at what happened today in #gasenaterunoff ...\n",
            "As reported tonight on @RealAmericasVoice, the shocking inside look at what happened today in #gasenaterunoff ...\n",
            "As reported tonight on @RealAmericasVoice, the shocking inside look at what happened today in #gasenaterunoff ...\n",
            "This crazy! Video tape the location all night. Guarantee people are still inside. Breaking: As GOP Pulls Ahead in Georgia Senate Races, Democrat County Stops Counting Votes for the Night\n",
            "Republican Senator Josh Hawley (R-MO) claimed late Monday night that a Antifa mob had gathered outside his home and begun attacking the property, threatening his petrified family who were inside.\n",
            "Happening in this very second!!! Inside the crowds in DC. Look at us, look at the patriots. The atmosphere here is awesome. Im the only one to offer you these live videos on Parler so follow me for more . Big echo\n",
            "Happening in this very second!!! Inside the crowds in DC. Look at us, look at the patriots. The atmosphere here is awesome. Im the only one to offer you these live videos on Parler so follow me for more . Big echo\n",
            "Exclusive: Sec Mike Pompeo: China’s Communist Party Is ‘Inside the Gates’ | American Thought Leaders\n",
            "As reported tonight on @RealAmericasVoice, the shocking inside look at what happened today in #gasenaterunoff ...\n",
            "There is a fundamental reason why our enemies dare not attack [invade] our borders [armed citizenry]. If America falls so does the world. If America falls darkness will soon follow. Only when we stand together, only when we are united, can we defeat this highly entrenched dark enemy. Their power and control relies heavily on an uneducated population.A population that trusts without individual thought.A population that obeys without challenge. A population that remains outside of free thought, and instead, remains isolated living in fear inside of the closed-loop echo chamber of the controlled mainstream media. This is not about politics.This is about preserving our way of life and protecting the generations that follow.We are living in Biblical times.Children of light vs children of darkness.United against the Invisible Enemy of all humanity.Q\n",
            "As reported tonight on @RealAmericasVoice, the shocking inside look at what happened today in #gasenaterunoff ...\n",
            "As reported tonight on @RealAmericasVoice, the shocking inside look at what happened today in #gasenaterunoff ...\n",
            "As reported tonight on @RealAmericasVoice, the shocking inside look at what happened today in #gasenaterunoff ...\n",
            "As reported tonight on @RealAmericasVoice, the shocking inside look at what happened today in #gasenaterunoff ...\n",
            "Our country must face truth about its so-called leaders. The good, bad & ugly truth. We must expose swamp inhabitants to disinfectant of sunshine.No more dirty little “inside Beltway” secrets. We need truth. These two men do not even tell us truth about their adopted children.\n",
            "As reported tonight on @RealAmericasVoice, the shocking inside look at what happened today in #gasenaterunoff ...\n",
            "As reported tonight on @RealAmericasVoice, the shocking inside look at what happened today in #gasenaterunoff ...\n",
            "*NEW VIDEO*It’s like waking up from a nightmare only to realize that you’re still trapped inside the nightmare.\n",
            "What the hell is wrong with Democratic voters? Do they not undertand or is it they just don't give a damn about what will happen if Dems control the senate. They don't get it that the Democrats could care less about their voters. Voters of both parties will suffer the consequences of the Georgia election. Buckle up bitches. You will no longer control your own life. Be prepared to do as you're told and dig deep, really deep, inside your pocketbooks. You are about to reap the seeds you sowed. No bitching and complaining allowed.\n",
            "Our country must face truth about its so-called leaders. The good, bad & ugly truth. We must expose swamp inhabitants to disinfectant of sunshine.No more dirty little “inside Beltway” secrets. We need truth. These two men do not even tell us truth about their adopted children.\n",
            "I find the utterly clueless, detached from reality mood of my leftist Boston coworkers at this moment fascinating. New England really is an echo chamber inside of a bubble.\n",
            "BLOW IT ALL UP IF WE HAVE TOO,DEMS/RINOS INSIDE\n",
            "As reported tonight on @RealAmericasVoice, the shocking inside look at what happened today in #gasenaterunoff ...\n",
            "Happening in this very second!!! Inside the crowds in DC. Look at us, look at the patriots. The atmosphere here is awesome. Im the only one to offer you these live videos on Parler so follow me for more . Big echo\n",
            "I know what Trump is up to tomorrow. He asked all patriots to show up. Guessing about 5m will do so. Yes!!!! This provided him The “cover” to bring in the national guard. You know to protect against chaos. Perfect. However - my theory is to Watch the national guard advance inside congress tomorrow and arrest the traitors before they even start voting. Fly them all of to Gitmo immediately to await trial. The constitution is clear about who gets a say. Those elected members of Congress that are actually present.\n",
            "As reported tonight on @RealAmericasVoice, the shocking inside look at what happened today in #gasenaterunoff ...\n",
            "Video inside Fulton County polling center - NO Republican observers, screens hidden from view\n",
            "As reported tonight on @RealAmericasVoice, the shocking inside look at what happened today in #gasenaterunoff ...\n",
            "Happening in this very second!!! Inside the crowds in DC. Look at us, look at the patriots. The atmosphere here is awesome. Im the only one to offer you these live videos on Parler so follow me for more . Big echo\n",
            "As reported tonight on @RealAmericasVoice, the shocking inside look at what happened today in #gasenaterunoff ...\n",
            "As reported tonight on @RealAmericasVoice, the shocking inside look at what happened today in #gasenaterunoff ...\n",
            "REAL BREAKING!!! 🔴🔴 This THREAD READER - Grab this NOW !!! before TwiTt3R removes it. Inside of the link go down to the bottom. There is a file link (starts with go file) - download that before someone messes with this server or blocks. If you don't want to download, there are 2 links to listen in the thread- It's over!!MIND BLOWING! 🔴🔴 I knew he wouldn't need to rely on the pence card!\n",
            "Video inside Fulton County polling center - NO Republican observers, screens hidden from view\n",
            "As reported tonight on @RealAmericasVoice, the shocking inside look at what happened today in #gasenaterunoff ...\n",
            "Happening in this very second!!! Inside the crowds in DC. Look at us, look at the patriots. The atmosphere here is awesome. Im the only one to offer you these live videos on Parler so follow me for more . Big echo\n",
            "As reported tonight on @RealAmericasVoice, the shocking inside look at what happened today in #gasenaterunoff ...\n",
            "As reported tonight on @RealAmericasVoice, the shocking inside look at what happened today in #gasenaterunoff ...\n",
            "Cheddar Briscuits! Yes, you read that right. Cheddar Briscuits! These things are awesome! My idea! My wife made 'em happen! I love it when a plan comes together.They are basically the same cheddar biscuits you get at Red Lobster, but with smoked brisket inside and brushed with garlic butter.\n",
            "As reported tonight on @RealAmericasVoice, the shocking inside look at what happened today in #gasenaterunoff ...\n",
            "Video inside Fulton County polling center - NO Republican observers, screens hidden from view\n",
            "Happening in this very second!!! Inside the crowds in DC. Look at us, look at the patriots. The atmosphere here is awesome. Im the only one to offer you these live videos on Parler so follow me for more . Big echo\n",
            "As my old Irish GrandDAD used to say \"There's more nutters outside the nuthouse than inside\"GrandPARENT knew....\n",
            "FQLKS.....buckle up, keep arms, legs inside thw ride at all times!! The next 48 hours gonna be DIS-IMFORMATION WARFARE!!! I suggest grab some drinks and snacks!! We are all witnessing HISTORY!!!\n",
            "As reported tonight on @RealAmericasVoice, the shocking inside look at what happened today in #gasenaterunoff ...\n",
            "Mike Coudrey on Twitter: \"DC ATTENDEES, REMEMBER: -Most streets will be CLOSED. Wear comfortable shoes. -Indoor dining is closed. Hotel room service is available. -Bring snacks, portable batteries and phone chargers. -Stay inside at night. -If we give the order, DO NOT LEAVE DC. OCCUPY! \" / Twitter\n",
            "Happening in this very second!!! Inside the crowds in DC. Look at us, look at the patriots. The atmosphere here is awesome. Im the only one to offer you these live videos on Parler so follow me for more . Big echo\n",
            "As reported tonight on @RealAmericasVoice, the shocking inside look at what happened today in #gasenaterunoff ...\n",
            "As reported tonight on @RealAmericasVoice, the shocking inside look at what happened today in #gasenaterunoff ...\n",
            "ELECTION MEDDLING - YOU Are Told What to THINK ~ Election Rigging~!Same Old Communist Tricks. • 3/16/18: EXCLUSIVE: Twitter Shadowbanning/CENSORING Conservative Thought is ‘Real and Happening Every Day’ Says Inside Sources.Report —>\n",
            "As reported tonight on @RealAmericasVoice, the shocking inside look at what happened today in #gasenaterunoff ...\n",
            "As reported tonight on @RealAmericasVoice, the shocking inside look at what happened today in #gasenaterunoff ...\n",
            "As reported tonight on @RealAmericasVoice, the shocking inside look at what happened today in #gasenaterunoff ...\n",
            "Leftist CIA officers have been engaged in a quest to control the government since the 1950s. It was initiated by Soviet KGB officers inside the CIA. The KGB was exposed in 1984, but it was never made public.The CIA killed 16 Members of Congress with “accidents” and “suicides” in 34 years from 1957 to 1991. My book has the details.The CIA assassinated President Kennedy and tried to kill President Reagan. They also had plans to kill Presidents Johnson, Nixon, and Ford.Chuck Schumer is one of the covert CIA officers in Congress. He was a KGB “asset” when he was first elected in 1980.After the KGB was exposed, Schumer and his CIA colleagues began their own quest to control the government.Leftist CIA officers enlisted Joe Biden as an “asset” and targeted him for the Presidency in 1984. They are behind the massive election fraud of 2020.Leftist CIA officers are bent on destroying America. Click the link.\n",
            "As reported tonight on @RealAmericasVoice, the shocking inside look at what happened today in #gasenaterunoff ...\n"
          ],
          "name": "stdout"
        }
      ]
    },
    {
      "cell_type": "code",
      "metadata": {
        "id": "wCc2ryaavLqQ",
        "colab": {
          "base_uri": "https://localhost:8080/"
        },
        "outputId": "4d514238-cd08-4134-bda3-1d63e256fbad"
      },
      "source": [
        "df.iloc[idx]['post_text']"
      ],
      "execution_count": null,
      "outputs": [
        {
          "output_type": "execute_result",
          "data": {
            "text/plain": [
              "nan"
            ]
          },
          "metadata": {
            "tags": []
          },
          "execution_count": 10
        }
      ]
    },
    {
      "cell_type": "code",
      "metadata": {
        "id": "DimxWaXGp-HG",
        "colab": {
          "base_uri": "https://localhost:8080/",
          "height": 694
        },
        "outputId": "fddb302d-836b-4f62-a5e3-ffcd5ae2fe98"
      },
      "source": [
        "df"
      ],
      "execution_count": null,
      "outputs": [
        {
          "output_type": "execute_result",
          "data": {
            "text/html": [
              "<div>\n",
              "<style scoped>\n",
              "    .dataframe tbody tr th:only-of-type {\n",
              "        vertical-align: middle;\n",
              "    }\n",
              "\n",
              "    .dataframe tbody tr th {\n",
              "        vertical-align: top;\n",
              "    }\n",
              "\n",
              "    .dataframe thead th {\n",
              "        text-align: right;\n",
              "    }\n",
              "</style>\n",
              "<table border=\"1\" class=\"dataframe\">\n",
              "  <thead>\n",
              "    <tr style=\"text-align: right;\">\n",
              "      <th></th>\n",
              "      <th>author_name</th>\n",
              "      <th>author_username</th>\n",
              "      <th>author_profile_photo</th>\n",
              "      <th>post_text</th>\n",
              "      <th>post_image</th>\n",
              "      <th>post_timestamp</th>\n",
              "      <th>post_impressions</th>\n",
              "      <th>post_tokens</th>\n",
              "    </tr>\n",
              "  </thead>\n",
              "  <tbody>\n",
              "    <tr>\n",
              "      <th>0</th>\n",
              "      <td>Andy Ngo</td>\n",
              "      <td>@AndyNgo</td>\n",
              "      <td>https://images.parler.com/777e039d6a5341388549...</td>\n",
              "      <td>Philadelphia Police charged 7 in relation to a...</td>\n",
              "      <td>https://api.parler.com/l/GJCyQ</td>\n",
              "      <td>5 days ago</td>\n",
              "      <td>132117.0</td>\n",
              "      <td>[philadelphia, police, charged, 7, relation, a...</td>\n",
              "    </tr>\n",
              "    <tr>\n",
              "      <th>1</th>\n",
              "      <td>Bill Kays</td>\n",
              "      <td>@rebootbill</td>\n",
              "      <td>https://images.parler.com/706f1c9d8b454b5f8108...</td>\n",
              "      <td>NaN</td>\n",
              "      <td>NaN</td>\n",
              "      <td>4 days ago</td>\n",
              "      <td>13.0</td>\n",
              "      <td>[]</td>\n",
              "    </tr>\n",
              "    <tr>\n",
              "      <th>2</th>\n",
              "      <td>Flint Bedrock</td>\n",
              "      <td>@flintbedrock</td>\n",
              "      <td>https://images.parler.com/1f45e69f8ed145f9b7b0...</td>\n",
              "      <td>Patriots in DC are ready for tomorrow.</td>\n",
              "      <td>NaN</td>\n",
              "      <td>5 days ago</td>\n",
              "      <td>248971.0</td>\n",
              "      <td>[patriots, dc, ready, tomorrow]</td>\n",
              "    </tr>\n",
              "    <tr>\n",
              "      <th>3</th>\n",
              "      <td>Name Hidden</td>\n",
              "      <td>@Private User</td>\n",
              "      <td>../../company-media.parler.com/par-default-pro...</td>\n",
              "      <td>Let’s follow each other!</td>\n",
              "      <td>https://api.parler.com/l/jB7Lz</td>\n",
              "      <td>5 days ago</td>\n",
              "      <td>9829.0</td>\n",
              "      <td>[let, follow]</td>\n",
              "    </tr>\n",
              "    <tr>\n",
              "      <th>4</th>\n",
              "      <td>Name Hidden</td>\n",
              "      <td>@Private User</td>\n",
              "      <td>../../company-media.parler.com/par-default-pro...</td>\n",
              "      <td>NaN</td>\n",
              "      <td>../../api.parler.com/l/6Ac5M.html</td>\n",
              "      <td>5 days ago</td>\n",
              "      <td>15689.0</td>\n",
              "      <td>[]</td>\n",
              "    </tr>\n",
              "    <tr>\n",
              "      <th>...</th>\n",
              "      <td>...</td>\n",
              "      <td>...</td>\n",
              "      <td>...</td>\n",
              "      <td>...</td>\n",
              "      <td>...</td>\n",
              "      <td>...</td>\n",
              "      <td>...</td>\n",
              "      <td>...</td>\n",
              "    </tr>\n",
              "    <tr>\n",
              "      <th>336475</th>\n",
              "      <td>Name Hidden</td>\n",
              "      <td>@Private User</td>\n",
              "      <td>../../company-media.parler.com/par-default-pro...</td>\n",
              "      <td>She claims a #blm member hit her in the face a...</td>\n",
              "      <td>NaN</td>\n",
              "      <td>5 days ago</td>\n",
              "      <td>8694.0</td>\n",
              "      <td>[claims, blm, member, hit, face, police, prote...</td>\n",
              "    </tr>\n",
              "    <tr>\n",
              "      <th>336476</th>\n",
              "      <td>Vmilner</td>\n",
              "      <td>@Vmilner</td>\n",
              "      <td>../../images.parler.com/3f88420057b14dc3883b86...</td>\n",
              "      <td>NaN</td>\n",
              "      <td>NaN</td>\n",
              "      <td>5 days ago</td>\n",
              "      <td>44.0</td>\n",
              "      <td>[]</td>\n",
              "    </tr>\n",
              "    <tr>\n",
              "      <th>336477</th>\n",
              "      <td>Diamond And Silk</td>\n",
              "      <td>@DiamondAndSilk</td>\n",
              "      <td>https://images.parler.com/66c3bf6a396b40509767...</td>\n",
              "      <td>BIG NEWS IN PENNSYLVANIA!</td>\n",
              "      <td>https://api.parler.com/l/USgUy</td>\n",
              "      <td>5 days ago</td>\n",
              "      <td>1468761.0</td>\n",
              "      <td>[big, news, pennsylvania]</td>\n",
              "    </tr>\n",
              "    <tr>\n",
              "      <th>336478</th>\n",
              "      <td>Trump News🇺🇸</td>\n",
              "      <td>@TrumpNewsNow</td>\n",
              "      <td>../../images.parler.com/c3ba17bb35d447f79f151d...</td>\n",
              "      <td>We have had ENOUGH❗️We love our country ❤️We l...</td>\n",
              "      <td>../../api.parler.com/l/noQYu.html</td>\n",
              "      <td>5 days ago</td>\n",
              "      <td>23165.0</td>\n",
              "      <td>[love, country, love, president, let, election...</td>\n",
              "    </tr>\n",
              "    <tr>\n",
              "      <th>336479</th>\n",
              "      <td>Montalto Paul</td>\n",
              "      <td>@MontaltoPaul</td>\n",
              "      <td>../../images.parler.com/422607581aa4486586483c...</td>\n",
              "      <td>NaN</td>\n",
              "      <td>NaN</td>\n",
              "      <td>5 days ago</td>\n",
              "      <td>22.0</td>\n",
              "      <td>[]</td>\n",
              "    </tr>\n",
              "  </tbody>\n",
              "</table>\n",
              "<p>336480 rows × 8 columns</p>\n",
              "</div>"
            ],
            "text/plain": [
              "             author_name  ...                                        post_tokens\n",
              "0               Andy Ngo  ...  [philadelphia, police, charged, 7, relation, a...\n",
              "1              Bill Kays  ...                                                 []\n",
              "2          Flint Bedrock  ...                    [patriots, dc, ready, tomorrow]\n",
              "3            Name Hidden  ...                                      [let, follow]\n",
              "4            Name Hidden  ...                                                 []\n",
              "...                  ...  ...                                                ...\n",
              "336475       Name Hidden  ...  [claims, blm, member, hit, face, police, prote...\n",
              "336476           Vmilner  ...                                                 []\n",
              "336477  Diamond And Silk  ...                          [big, news, pennsylvania]\n",
              "336478      Trump News🇺🇸  ...  [love, country, love, president, let, election...\n",
              "336479     Montalto Paul  ...                                                 []\n",
              "\n",
              "[336480 rows x 8 columns]"
            ]
          },
          "metadata": {
            "tags": []
          },
          "execution_count": 11
        }
      ]
    },
    {
      "cell_type": "markdown",
      "metadata": {
        "id": "NV563lmdFnGR"
      },
      "source": [
        "\n",
        "2.   Explore and Clean data\n",
        "\n"
      ]
    },
    {
      "cell_type": "markdown",
      "metadata": {
        "id": "vKPpMXr6Qny7"
      },
      "source": [
        "So, below you can see the 'post_timestamp' contents."
      ]
    },
    {
      "cell_type": "code",
      "metadata": {
        "colab": {
          "base_uri": "https://localhost:8080/"
        },
        "id": "EvE1Qd7cfyv_",
        "outputId": "af3897e3-d667-482c-f8f7-9850bd3e904b"
      },
      "source": [
        "print(df['post_timestamp'].unique())"
      ],
      "execution_count": null,
      "outputs": [
        {
          "output_type": "stream",
          "text": [
            "['5 days ago' '4 days ago' '1 week ago' '3 weeks ago' '5 months ago' nan\n",
            " '2 months ago' '1 month ago' '6 days ago' '2 weeks ago' '6 months ago'\n",
            " '4 months ago' '4 weeks ago' '3 months ago' '8 months ago' '1 year ago'\n",
            " '2 years ago' '7 months ago' '10 months ago' '11 months ago']\n"
          ],
          "name": "stdout"
        }
      ]
    },
    {
      "cell_type": "markdown",
      "metadata": {
        "id": "AfMD5ei1Q9Em"
      },
      "source": [
        "Below I am dropping the columns that I will not need for the sentiment analyses.  I will need to bring back 'post_tokens' later on for the word cloud though."
      ]
    },
    {
      "cell_type": "code",
      "metadata": {
        "id": "n6HIRrcJEOfk"
      },
      "source": [
        "df = df.drop(columns=['author_name', 'author_username', 'author_profile_photo', 'post_image', 'post_impressions', 'post_tokens'])"
      ],
      "execution_count": null,
      "outputs": []
    },
    {
      "cell_type": "code",
      "metadata": {
        "colab": {
          "base_uri": "https://localhost:8080/",
          "height": 419
        },
        "id": "RXGm0G0bErBg",
        "outputId": "1e980566-e5fe-490f-a9a7-065bfcbb174b"
      },
      "source": [
        "df"
      ],
      "execution_count": null,
      "outputs": [
        {
          "output_type": "execute_result",
          "data": {
            "text/html": [
              "<div>\n",
              "<style scoped>\n",
              "    .dataframe tbody tr th:only-of-type {\n",
              "        vertical-align: middle;\n",
              "    }\n",
              "\n",
              "    .dataframe tbody tr th {\n",
              "        vertical-align: top;\n",
              "    }\n",
              "\n",
              "    .dataframe thead th {\n",
              "        text-align: right;\n",
              "    }\n",
              "</style>\n",
              "<table border=\"1\" class=\"dataframe\">\n",
              "  <thead>\n",
              "    <tr style=\"text-align: right;\">\n",
              "      <th></th>\n",
              "      <th>post_text</th>\n",
              "      <th>post_timestamp</th>\n",
              "    </tr>\n",
              "  </thead>\n",
              "  <tbody>\n",
              "    <tr>\n",
              "      <th>0</th>\n",
              "      <td>Philadelphia Police charged 7 in relation to a...</td>\n",
              "      <td>5 days ago</td>\n",
              "    </tr>\n",
              "    <tr>\n",
              "      <th>1</th>\n",
              "      <td>NaN</td>\n",
              "      <td>4 days ago</td>\n",
              "    </tr>\n",
              "    <tr>\n",
              "      <th>2</th>\n",
              "      <td>Patriots in DC are ready for tomorrow.</td>\n",
              "      <td>5 days ago</td>\n",
              "    </tr>\n",
              "    <tr>\n",
              "      <th>3</th>\n",
              "      <td>Let’s follow each other!</td>\n",
              "      <td>5 days ago</td>\n",
              "    </tr>\n",
              "    <tr>\n",
              "      <th>4</th>\n",
              "      <td>NaN</td>\n",
              "      <td>5 days ago</td>\n",
              "    </tr>\n",
              "    <tr>\n",
              "      <th>...</th>\n",
              "      <td>...</td>\n",
              "      <td>...</td>\n",
              "    </tr>\n",
              "    <tr>\n",
              "      <th>336475</th>\n",
              "      <td>She claims a #blm member hit her in the face a...</td>\n",
              "      <td>5 days ago</td>\n",
              "    </tr>\n",
              "    <tr>\n",
              "      <th>336476</th>\n",
              "      <td>NaN</td>\n",
              "      <td>5 days ago</td>\n",
              "    </tr>\n",
              "    <tr>\n",
              "      <th>336477</th>\n",
              "      <td>BIG NEWS IN PENNSYLVANIA!</td>\n",
              "      <td>5 days ago</td>\n",
              "    </tr>\n",
              "    <tr>\n",
              "      <th>336478</th>\n",
              "      <td>We have had ENOUGH❗️We love our country ❤️We l...</td>\n",
              "      <td>5 days ago</td>\n",
              "    </tr>\n",
              "    <tr>\n",
              "      <th>336479</th>\n",
              "      <td>NaN</td>\n",
              "      <td>5 days ago</td>\n",
              "    </tr>\n",
              "  </tbody>\n",
              "</table>\n",
              "<p>336480 rows × 2 columns</p>\n",
              "</div>"
            ],
            "text/plain": [
              "                                                post_text post_timestamp\n",
              "0       Philadelphia Police charged 7 in relation to a...     5 days ago\n",
              "1                                                     NaN     4 days ago\n",
              "2                  Patriots in DC are ready for tomorrow.     5 days ago\n",
              "3                                Let’s follow each other!     5 days ago\n",
              "4                                                     NaN     5 days ago\n",
              "...                                                   ...            ...\n",
              "336475  She claims a #blm member hit her in the face a...     5 days ago\n",
              "336476                                                NaN     5 days ago\n",
              "336477                          BIG NEWS IN PENNSYLVANIA!     5 days ago\n",
              "336478  We have had ENOUGH❗️We love our country ❤️We l...     5 days ago\n",
              "336479                                                NaN     5 days ago\n",
              "\n",
              "[336480 rows x 2 columns]"
            ]
          },
          "metadata": {
            "tags": []
          },
          "execution_count": 14
        }
      ]
    },
    {
      "cell_type": "code",
      "metadata": {
        "id": "klky-KFDE80P"
      },
      "source": [
        "df = df.dropna()"
      ],
      "execution_count": null,
      "outputs": []
    },
    {
      "cell_type": "code",
      "metadata": {
        "colab": {
          "base_uri": "https://localhost:8080/",
          "height": 419
        },
        "id": "FGrHvZMWFASK",
        "outputId": "9e221c70-9eb8-428e-cb76-74948e00ac49"
      },
      "source": [
        "df"
      ],
      "execution_count": null,
      "outputs": [
        {
          "output_type": "execute_result",
          "data": {
            "text/html": [
              "<div>\n",
              "<style scoped>\n",
              "    .dataframe tbody tr th:only-of-type {\n",
              "        vertical-align: middle;\n",
              "    }\n",
              "\n",
              "    .dataframe tbody tr th {\n",
              "        vertical-align: top;\n",
              "    }\n",
              "\n",
              "    .dataframe thead th {\n",
              "        text-align: right;\n",
              "    }\n",
              "</style>\n",
              "<table border=\"1\" class=\"dataframe\">\n",
              "  <thead>\n",
              "    <tr style=\"text-align: right;\">\n",
              "      <th></th>\n",
              "      <th>post_text</th>\n",
              "      <th>post_timestamp</th>\n",
              "    </tr>\n",
              "  </thead>\n",
              "  <tbody>\n",
              "    <tr>\n",
              "      <th>0</th>\n",
              "      <td>Philadelphia Police charged 7 in relation to a...</td>\n",
              "      <td>5 days ago</td>\n",
              "    </tr>\n",
              "    <tr>\n",
              "      <th>2</th>\n",
              "      <td>Patriots in DC are ready for tomorrow.</td>\n",
              "      <td>5 days ago</td>\n",
              "    </tr>\n",
              "    <tr>\n",
              "      <th>3</th>\n",
              "      <td>Let’s follow each other!</td>\n",
              "      <td>5 days ago</td>\n",
              "    </tr>\n",
              "    <tr>\n",
              "      <th>5</th>\n",
              "      <td>Round and round we go.</td>\n",
              "      <td>5 days ago</td>\n",
              "    </tr>\n",
              "    <tr>\n",
              "      <th>6</th>\n",
              "      <td>His name was Seth Rich..</td>\n",
              "      <td>5 days ago</td>\n",
              "    </tr>\n",
              "    <tr>\n",
              "      <th>...</th>\n",
              "      <td>...</td>\n",
              "      <td>...</td>\n",
              "    </tr>\n",
              "    <tr>\n",
              "      <th>336472</th>\n",
              "      <td>Kamala Harris recently told a touching story a...</td>\n",
              "      <td>5 days ago</td>\n",
              "    </tr>\n",
              "    <tr>\n",
              "      <th>336473</th>\n",
              "      <td>I admit that it feels like we are in bottom of...</td>\n",
              "      <td>5 days ago</td>\n",
              "    </tr>\n",
              "    <tr>\n",
              "      <th>336475</th>\n",
              "      <td>She claims a #blm member hit her in the face a...</td>\n",
              "      <td>5 days ago</td>\n",
              "    </tr>\n",
              "    <tr>\n",
              "      <th>336477</th>\n",
              "      <td>BIG NEWS IN PENNSYLVANIA!</td>\n",
              "      <td>5 days ago</td>\n",
              "    </tr>\n",
              "    <tr>\n",
              "      <th>336478</th>\n",
              "      <td>We have had ENOUGH❗️We love our country ❤️We l...</td>\n",
              "      <td>5 days ago</td>\n",
              "    </tr>\n",
              "  </tbody>\n",
              "</table>\n",
              "<p>266552 rows × 2 columns</p>\n",
              "</div>"
            ],
            "text/plain": [
              "                                                post_text post_timestamp\n",
              "0       Philadelphia Police charged 7 in relation to a...     5 days ago\n",
              "2                  Patriots in DC are ready for tomorrow.     5 days ago\n",
              "3                                Let’s follow each other!     5 days ago\n",
              "5                                  Round and round we go.     5 days ago\n",
              "6                                His name was Seth Rich..     5 days ago\n",
              "...                                                   ...            ...\n",
              "336472  Kamala Harris recently told a touching story a...     5 days ago\n",
              "336473  I admit that it feels like we are in bottom of...     5 days ago\n",
              "336475  She claims a #blm member hit her in the face a...     5 days ago\n",
              "336477                          BIG NEWS IN PENNSYLVANIA!     5 days ago\n",
              "336478  We have had ENOUGH❗️We love our country ❤️We l...     5 days ago\n",
              "\n",
              "[266552 rows x 2 columns]"
            ]
          },
          "metadata": {
            "tags": []
          },
          "execution_count": 16
        }
      ]
    },
    {
      "cell_type": "markdown",
      "metadata": {
        "id": "0YLltU6cRObg"
      },
      "source": [
        "I am choosing to start with the '2 years ago' time stamp."
      ]
    },
    {
      "cell_type": "code",
      "metadata": {
        "id": "WwL8oUVA5GcT"
      },
      "source": [
        "df_two_years_ago = df.loc[df['post_timestamp'] == '2 years ago']"
      ],
      "execution_count": null,
      "outputs": []
    },
    {
      "cell_type": "code",
      "metadata": {
        "id": "aIgSk9-eFe7h"
      },
      "source": [
        "df_two_years_ago = df_two_years_ago.drop(columns=['post_timestamp'])"
      ],
      "execution_count": null,
      "outputs": []
    },
    {
      "cell_type": "code",
      "metadata": {
        "id": "LqTIuS1VGPjW"
      },
      "source": [
        "pd.set_option('display.max_colwidth',200)"
      ],
      "execution_count": null,
      "outputs": []
    },
    {
      "cell_type": "code",
      "metadata": {
        "colab": {
          "base_uri": "https://localhost:8080/",
          "height": 555
        },
        "id": "ap64U1kpGMpi",
        "outputId": "89952ec9-42cf-45f0-ba8f-151b0c49d677"
      },
      "source": [
        "df_two_years_ago"
      ],
      "execution_count": null,
      "outputs": [
        {
          "output_type": "execute_result",
          "data": {
            "text/html": [
              "<div>\n",
              "<style scoped>\n",
              "    .dataframe tbody tr th:only-of-type {\n",
              "        vertical-align: middle;\n",
              "    }\n",
              "\n",
              "    .dataframe tbody tr th {\n",
              "        vertical-align: top;\n",
              "    }\n",
              "\n",
              "    .dataframe thead th {\n",
              "        text-align: right;\n",
              "    }\n",
              "</style>\n",
              "<table border=\"1\" class=\"dataframe\">\n",
              "  <thead>\n",
              "    <tr style=\"text-align: right;\">\n",
              "      <th></th>\n",
              "      <th>post_text</th>\n",
              "      <th>Polarity</th>\n",
              "      <th>Subjectivity</th>\n",
              "    </tr>\n",
              "  </thead>\n",
              "  <tbody>\n",
              "    <tr>\n",
              "      <th>0</th>\n",
              "      <td>Clinton Library Refuses to Hand Over Information on Bill Clinton’s Ties to Jeffrey EpsteinTo move this message you have to echo it(that’s the middle number)You’re not helping with your votes😢 make...</td>\n",
              "      <td>0.000000</td>\n",
              "      <td>0.000000</td>\n",
              "    </tr>\n",
              "    <tr>\n",
              "      <th>1</th>\n",
              "      <td>Clinton Library Refuses to Hand Over Information on Bill Clinton’s Ties to Jeffrey EpsteinTo move this message you have to echo it(that’s the middle number)You’re not helping with your votes😢 make...</td>\n",
              "      <td>0.000000</td>\n",
              "      <td>0.000000</td>\n",
              "    </tr>\n",
              "    <tr>\n",
              "      <th>2</th>\n",
              "      <td>ANTIFA LEADER UNMASKED: The Leader of Antifa has been exposed!His name: Joseph “Jose” AlcoffYou know what to do! ECHO and let the world see him. Make him recognizable to everyone! #AntifaUnmasked ...</td>\n",
              "      <td>0.312500</td>\n",
              "      <td>0.250000</td>\n",
              "    </tr>\n",
              "    <tr>\n",
              "      <th>3</th>\n",
              "      <td>If you believe Jesus is Messiah, ECHO!! ✝️</td>\n",
              "      <td>0.000000</td>\n",
              "      <td>0.000000</td>\n",
              "    </tr>\n",
              "    <tr>\n",
              "      <th>4</th>\n",
              "      <td>If you believe Jesus is Messiah, ECHO!! ✝️</td>\n",
              "      <td>0.000000</td>\n",
              "      <td>0.000000</td>\n",
              "    </tr>\n",
              "    <tr>\n",
              "      <th>...</th>\n",
              "      <td>...</td>\n",
              "      <td>...</td>\n",
              "      <td>...</td>\n",
              "    </tr>\n",
              "    <tr>\n",
              "      <th>105</th>\n",
              "      <td>Wow and without question, this by far is the best and most honest article ever written about me. It’s a 5-min read and all my followers should read it. Very happy to have done this interview.“Imam...</td>\n",
              "      <td>0.550000</td>\n",
              "      <td>0.783333</td>\n",
              "    </tr>\n",
              "    <tr>\n",
              "      <th>106</th>\n",
              "      <td>ANTIFA LEADER UNMASKED: The Leader of Antifa has been exposed!His name: Joseph “Jose” AlcoffYou know what to do! ECHO and let the world see him. Make him recognizable to everyone! #AntifaUnmasked ...</td>\n",
              "      <td>0.312500</td>\n",
              "      <td>0.250000</td>\n",
              "    </tr>\n",
              "    <tr>\n",
              "      <th>107</th>\n",
              "      <td>‪“If all Tweeters were determined not to tweet anything till they were sure it would offend nobody, there would be very little tweeted.” ‬‪“...but in this world nothing can be said to be certain, ...</td>\n",
              "      <td>0.200967</td>\n",
              "      <td>0.694246</td>\n",
              "    </tr>\n",
              "    <tr>\n",
              "      <th>108</th>\n",
              "      <td>If your living in America, but you hate our country then you need to go back to wherever the hell you came from(you won’t be missed✔️)Echoes move this,(the middle number)Votes won’t move this mess...</td>\n",
              "      <td>-0.266667</td>\n",
              "      <td>0.300000</td>\n",
              "    </tr>\n",
              "    <tr>\n",
              "      <th>109</th>\n",
              "      <td>ANTIFA LEADER UNMASKED: The Leader of Antifa has been exposed!His name: Joseph “Jose” AlcoffYou know what to do! ECHO and let the world see him. Make him recognizable to everyone! #AntifaUnmasked ...</td>\n",
              "      <td>0.312500</td>\n",
              "      <td>0.250000</td>\n",
              "    </tr>\n",
              "  </tbody>\n",
              "</table>\n",
              "<p>110 rows × 3 columns</p>\n",
              "</div>"
            ],
            "text/plain": [
              "                                                                                                                                                                                                   post_text  ...  Subjectivity\n",
              "0    Clinton Library Refuses to Hand Over Information on Bill Clinton’s Ties to Jeffrey EpsteinTo move this message you have to echo it(that’s the middle number)You’re not helping with your votes😢 make...  ...      0.000000\n",
              "1    Clinton Library Refuses to Hand Over Information on Bill Clinton’s Ties to Jeffrey EpsteinTo move this message you have to echo it(that’s the middle number)You’re not helping with your votes😢 make...  ...      0.000000\n",
              "2    ANTIFA LEADER UNMASKED: The Leader of Antifa has been exposed!His name: Joseph “Jose” AlcoffYou know what to do! ECHO and let the world see him. Make him recognizable to everyone! #AntifaUnmasked ...  ...      0.250000\n",
              "3                                                                                                                                                                 If you believe Jesus is Messiah, ECHO!! ✝️  ...      0.000000\n",
              "4                                                                                                                                                                 If you believe Jesus is Messiah, ECHO!! ✝️  ...      0.000000\n",
              "..                                                                                                                                                                                                       ...  ...           ...\n",
              "105  Wow and without question, this by far is the best and most honest article ever written about me. It’s a 5-min read and all my followers should read it. Very happy to have done this interview.“Imam...  ...      0.783333\n",
              "106  ANTIFA LEADER UNMASKED: The Leader of Antifa has been exposed!His name: Joseph “Jose” AlcoffYou know what to do! ECHO and let the world see him. Make him recognizable to everyone! #AntifaUnmasked ...  ...      0.250000\n",
              "107  ‪“If all Tweeters were determined not to tweet anything till they were sure it would offend nobody, there would be very little tweeted.” ‬‪“...but in this world nothing can be said to be certain, ...  ...      0.694246\n",
              "108  If your living in America, but you hate our country then you need to go back to wherever the hell you came from(you won’t be missed✔️)Echoes move this,(the middle number)Votes won’t move this mess...  ...      0.300000\n",
              "109  ANTIFA LEADER UNMASKED: The Leader of Antifa has been exposed!His name: Joseph “Jose” AlcoffYou know what to do! ECHO and let the world see him. Make him recognizable to everyone! #AntifaUnmasked ...  ...      0.250000\n",
              "\n",
              "[110 rows x 3 columns]"
            ]
          },
          "metadata": {
            "tags": []
          },
          "execution_count": 142
        }
      ]
    },
    {
      "cell_type": "markdown",
      "metadata": {
        "id": "KMfq_7PfGfVu"
      },
      "source": [
        "TextBlob for df_two_years_ago"
      ]
    },
    {
      "cell_type": "markdown",
      "metadata": {
        "id": "S8YyN0dgHt-x"
      },
      "source": [
        "https://towardsdatascience.com/my-absolute-go-to-for-sentiment-analysis-textblob-3ac3a11d524"
      ]
    },
    {
      "cell_type": "markdown",
      "metadata": {
        "id": "2ryAUIqNHxsC"
      },
      "source": [
        "**\"TextBlob has semantic labels that help with fine-grained analysis. For example — emoticons, exclamation mark, emojis, etc.\"**\n",
        "\n",
        "\n",
        "\n",
        "\n",
        "\n",
        "\n",
        "\n"
      ]
    },
    {
      "cell_type": "code",
      "metadata": {
        "id": "Yo2d7850GOBg"
      },
      "source": [
        "def get_sentiment(dataframe, column):\n",
        "    text_column = dataframe[column]\n",
        "    textblob_sentiment = text_column.apply(TextBlob)\n",
        "    sentiment_values = [ {'Polarity': v.sentiment.polarity, \n",
        "                          'Subjectivity': v.sentiment.subjectivity}\n",
        "                   for v in textblob_sentiment.values]\n",
        "    return pd.DataFrame(sentiment_values)"
      ],
      "execution_count": null,
      "outputs": []
    },
    {
      "cell_type": "code",
      "metadata": {
        "id": "ZtlLVS4fGnae"
      },
      "source": [
        "sentiment_frame = get_sentiment(df_two_years_ago, 'post_text')"
      ],
      "execution_count": null,
      "outputs": []
    },
    {
      "cell_type": "code",
      "metadata": {
        "colab": {
          "base_uri": "https://localhost:8080/",
          "height": 359
        },
        "id": "pMqekdSkGywA",
        "outputId": "1e8f9cc5-d162-466d-8651-271505a13542"
      },
      "source": [
        "sentiment_frame.head(10)"
      ],
      "execution_count": null,
      "outputs": [
        {
          "output_type": "execute_result",
          "data": {
            "text/html": [
              "<div>\n",
              "<style scoped>\n",
              "    .dataframe tbody tr th:only-of-type {\n",
              "        vertical-align: middle;\n",
              "    }\n",
              "\n",
              "    .dataframe tbody tr th {\n",
              "        vertical-align: top;\n",
              "    }\n",
              "\n",
              "    .dataframe thead th {\n",
              "        text-align: right;\n",
              "    }\n",
              "</style>\n",
              "<table border=\"1\" class=\"dataframe\">\n",
              "  <thead>\n",
              "    <tr style=\"text-align: right;\">\n",
              "      <th></th>\n",
              "      <th>Polarity</th>\n",
              "      <th>Subjectivity</th>\n",
              "    </tr>\n",
              "  </thead>\n",
              "  <tbody>\n",
              "    <tr>\n",
              "      <th>0</th>\n",
              "      <td>0.000000</td>\n",
              "      <td>0.0000</td>\n",
              "    </tr>\n",
              "    <tr>\n",
              "      <th>1</th>\n",
              "      <td>0.000000</td>\n",
              "      <td>0.0000</td>\n",
              "    </tr>\n",
              "    <tr>\n",
              "      <th>2</th>\n",
              "      <td>0.312500</td>\n",
              "      <td>0.2500</td>\n",
              "    </tr>\n",
              "    <tr>\n",
              "      <th>3</th>\n",
              "      <td>0.000000</td>\n",
              "      <td>0.0000</td>\n",
              "    </tr>\n",
              "    <tr>\n",
              "      <th>4</th>\n",
              "      <td>0.000000</td>\n",
              "      <td>0.0000</td>\n",
              "    </tr>\n",
              "    <tr>\n",
              "      <th>5</th>\n",
              "      <td>0.000000</td>\n",
              "      <td>0.0000</td>\n",
              "    </tr>\n",
              "    <tr>\n",
              "      <th>6</th>\n",
              "      <td>-0.134375</td>\n",
              "      <td>0.5625</td>\n",
              "    </tr>\n",
              "    <tr>\n",
              "      <th>7</th>\n",
              "      <td>-0.134375</td>\n",
              "      <td>0.5625</td>\n",
              "    </tr>\n",
              "    <tr>\n",
              "      <th>8</th>\n",
              "      <td>0.312500</td>\n",
              "      <td>0.2500</td>\n",
              "    </tr>\n",
              "    <tr>\n",
              "      <th>9</th>\n",
              "      <td>-0.500000</td>\n",
              "      <td>0.3000</td>\n",
              "    </tr>\n",
              "  </tbody>\n",
              "</table>\n",
              "</div>"
            ],
            "text/plain": [
              "   Polarity  Subjectivity\n",
              "0  0.000000        0.0000\n",
              "1  0.000000        0.0000\n",
              "2  0.312500        0.2500\n",
              "3  0.000000        0.0000\n",
              "4  0.000000        0.0000\n",
              "5  0.000000        0.0000\n",
              "6 -0.134375        0.5625\n",
              "7 -0.134375        0.5625\n",
              "8  0.312500        0.2500\n",
              "9 -0.500000        0.3000"
            ]
          },
          "metadata": {
            "tags": []
          },
          "execution_count": 145
        }
      ]
    },
    {
      "cell_type": "code",
      "metadata": {
        "id": "cyul38ZkG02w"
      },
      "source": [
        "#df_two_years_ago = pd.concat([df_two_years_ago, sentiment_frame], axis=1)"
      ],
      "execution_count": null,
      "outputs": []
    },
    {
      "cell_type": "code",
      "metadata": {
        "colab": {
          "base_uri": "https://localhost:8080/"
        },
        "id": "Dyd19y7mPxA1",
        "outputId": "62fa1129-a3d2-44d0-cc9b-f1faa0909896"
      },
      "source": [
        "sentiment_frame.dtypes"
      ],
      "execution_count": null,
      "outputs": [
        {
          "output_type": "execute_result",
          "data": {
            "text/plain": [
              "Polarity        float64\n",
              "Subjectivity    float64\n",
              "dtype: object"
            ]
          },
          "metadata": {
            "tags": []
          },
          "execution_count": 147
        }
      ]
    },
    {
      "cell_type": "code",
      "metadata": {
        "id": "0J2_3OlDNq2o"
      },
      "source": [
        "df_two_years_ago.reset_index(drop=True,inplace=True)\n",
        "sentiment_frame['Polarity'] = sentiment_frame['Polarity'].astype(float)\n",
        "df_two_years_ago['Polarity'] = sentiment_frame['Polarity']"
      ],
      "execution_count": null,
      "outputs": []
    },
    {
      "cell_type": "code",
      "metadata": {
        "id": "HNsRXHbDBPQT"
      },
      "source": [
        "df_two_years_ago.reset_index(drop=True,inplace=True)\n",
        "sentiment_frame['Subjectivity'] = sentiment_frame['Subjectivity'].astype(float)\n",
        "df_two_years_ago['Subjectivity'] = sentiment_frame['Subjectivity']"
      ],
      "execution_count": null,
      "outputs": []
    },
    {
      "cell_type": "code",
      "metadata": {
        "colab": {
          "base_uri": "https://localhost:8080/",
          "height": 461
        },
        "id": "mobw40sVAqaB",
        "outputId": "a2023de2-f82e-4dd8-8ef1-95874246b971"
      },
      "source": [
        "df_two_years_ago.head(10)"
      ],
      "execution_count": null,
      "outputs": [
        {
          "output_type": "execute_result",
          "data": {
            "text/html": [
              "<div>\n",
              "<style scoped>\n",
              "    .dataframe tbody tr th:only-of-type {\n",
              "        vertical-align: middle;\n",
              "    }\n",
              "\n",
              "    .dataframe tbody tr th {\n",
              "        vertical-align: top;\n",
              "    }\n",
              "\n",
              "    .dataframe thead th {\n",
              "        text-align: right;\n",
              "    }\n",
              "</style>\n",
              "<table border=\"1\" class=\"dataframe\">\n",
              "  <thead>\n",
              "    <tr style=\"text-align: right;\">\n",
              "      <th></th>\n",
              "      <th>post_text</th>\n",
              "      <th>Polarity</th>\n",
              "      <th>Subjectivity</th>\n",
              "    </tr>\n",
              "  </thead>\n",
              "  <tbody>\n",
              "    <tr>\n",
              "      <th>0</th>\n",
              "      <td>Clinton Library Refuses to Hand Over Information on Bill Clinton’s Ties to Jeffrey EpsteinTo move this message you have to echo it(that’s the middle number)You’re not helping with your votes😢 make...</td>\n",
              "      <td>0.000000</td>\n",
              "      <td>0.0000</td>\n",
              "    </tr>\n",
              "    <tr>\n",
              "      <th>1</th>\n",
              "      <td>Clinton Library Refuses to Hand Over Information on Bill Clinton’s Ties to Jeffrey EpsteinTo move this message you have to echo it(that’s the middle number)You’re not helping with your votes😢 make...</td>\n",
              "      <td>0.000000</td>\n",
              "      <td>0.0000</td>\n",
              "    </tr>\n",
              "    <tr>\n",
              "      <th>2</th>\n",
              "      <td>ANTIFA LEADER UNMASKED: The Leader of Antifa has been exposed!His name: Joseph “Jose” AlcoffYou know what to do! ECHO and let the world see him. Make him recognizable to everyone! #AntifaUnmasked ...</td>\n",
              "      <td>0.312500</td>\n",
              "      <td>0.2500</td>\n",
              "    </tr>\n",
              "    <tr>\n",
              "      <th>3</th>\n",
              "      <td>If you believe Jesus is Messiah, ECHO!! ✝️</td>\n",
              "      <td>0.000000</td>\n",
              "      <td>0.0000</td>\n",
              "    </tr>\n",
              "    <tr>\n",
              "      <th>4</th>\n",
              "      <td>If you believe Jesus is Messiah, ECHO!! ✝️</td>\n",
              "      <td>0.000000</td>\n",
              "      <td>0.0000</td>\n",
              "    </tr>\n",
              "    <tr>\n",
              "      <th>5</th>\n",
              "      <td>If you believe Jesus is Messiah, ECHO!! ✝️</td>\n",
              "      <td>0.000000</td>\n",
              "      <td>0.0000</td>\n",
              "    </tr>\n",
              "    <tr>\n",
              "      <th>6</th>\n",
              "      <td>In an attempt to stop me from telling others on the face of planet Earth that :- Mohammed was a caveman.- Mohammed was an illiterate.- Mohammed was an ignorant.- Mohammed was a charlatan.- Mohamme...</td>\n",
              "      <td>-0.134375</td>\n",
              "      <td>0.5625</td>\n",
              "    </tr>\n",
              "    <tr>\n",
              "      <th>7</th>\n",
              "      <td>In an attempt to stop me from telling others on the face of planet Earth that :- Mohammed was a caveman.- Mohammed was an illiterate.- Mohammed was an ignorant.- Mohammed was a charlatan.- Mohamme...</td>\n",
              "      <td>-0.134375</td>\n",
              "      <td>0.5625</td>\n",
              "    </tr>\n",
              "    <tr>\n",
              "      <th>8</th>\n",
              "      <td>ANTIFA LEADER UNMASKED: The Leader of Antifa has been exposed!His name: Joseph “Jose” AlcoffYou know what to do! ECHO and let the world see him. Make him recognizable to everyone! #AntifaUnmasked ...</td>\n",
              "      <td>0.312500</td>\n",
              "      <td>0.2500</td>\n",
              "    </tr>\n",
              "    <tr>\n",
              "      <th>9</th>\n",
              "      <td>🙋🏻‍♂️ China is a bloodsucking leech and communism is a failed ideology that steals from others‼️😠#DemocratsMurderBabies</td>\n",
              "      <td>-0.500000</td>\n",
              "      <td>0.3000</td>\n",
              "    </tr>\n",
              "  </tbody>\n",
              "</table>\n",
              "</div>"
            ],
            "text/plain": [
              "                                                                                                                                                                                                 post_text  ...  Subjectivity\n",
              "0  Clinton Library Refuses to Hand Over Information on Bill Clinton’s Ties to Jeffrey EpsteinTo move this message you have to echo it(that’s the middle number)You’re not helping with your votes😢 make...  ...        0.0000\n",
              "1  Clinton Library Refuses to Hand Over Information on Bill Clinton’s Ties to Jeffrey EpsteinTo move this message you have to echo it(that’s the middle number)You’re not helping with your votes😢 make...  ...        0.0000\n",
              "2  ANTIFA LEADER UNMASKED: The Leader of Antifa has been exposed!His name: Joseph “Jose” AlcoffYou know what to do! ECHO and let the world see him. Make him recognizable to everyone! #AntifaUnmasked ...  ...        0.2500\n",
              "3                                                                                                                                                               If you believe Jesus is Messiah, ECHO!! ✝️  ...        0.0000\n",
              "4                                                                                                                                                               If you believe Jesus is Messiah, ECHO!! ✝️  ...        0.0000\n",
              "5                                                                                                                                                               If you believe Jesus is Messiah, ECHO!! ✝️  ...        0.0000\n",
              "6  In an attempt to stop me from telling others on the face of planet Earth that :- Mohammed was a caveman.- Mohammed was an illiterate.- Mohammed was an ignorant.- Mohammed was a charlatan.- Mohamme...  ...        0.5625\n",
              "7  In an attempt to stop me from telling others on the face of planet Earth that :- Mohammed was a caveman.- Mohammed was an illiterate.- Mohammed was an ignorant.- Mohammed was a charlatan.- Mohamme...  ...        0.5625\n",
              "8  ANTIFA LEADER UNMASKED: The Leader of Antifa has been exposed!His name: Joseph “Jose” AlcoffYou know what to do! ECHO and let the world see him. Make him recognizable to everyone! #AntifaUnmasked ...  ...        0.2500\n",
              "9                                                                                  🙋🏻‍♂️ China is a bloodsucking leech and communism is a failed ideology that steals from others‼️😠#DemocratsMurderBabies  ...        0.3000\n",
              "\n",
              "[10 rows x 3 columns]"
            ]
          },
          "metadata": {
            "tags": []
          },
          "execution_count": 150
        }
      ]
    },
    {
      "cell_type": "code",
      "metadata": {
        "colab": {
          "base_uri": "https://localhost:8080/"
        },
        "id": "B1shiWl2HCqc",
        "outputId": "42f9d79e-476a-48ca-e96e-b26c37fa6636"
      },
      "source": [
        "df_two_years_ago.Subjectivity.min()"
      ],
      "execution_count": null,
      "outputs": [
        {
          "output_type": "execute_result",
          "data": {
            "text/plain": [
              "0.0"
            ]
          },
          "metadata": {
            "tags": []
          },
          "execution_count": 151
        }
      ]
    },
    {
      "cell_type": "code",
      "metadata": {
        "id": "_llIC-oSKk3v"
      },
      "source": [
        "positive_two_years_ago = df_two_years_ago[df_two_years_ago.Polarity > 0.5]"
      ],
      "execution_count": null,
      "outputs": []
    },
    {
      "cell_type": "code",
      "metadata": {
        "id": "EonCktVzKuR4"
      },
      "source": [
        "negative_two_years_ago = df_two_years_ago[df_two_years_ago.Polarity < - 0.5]"
      ],
      "execution_count": null,
      "outputs": []
    },
    {
      "cell_type": "code",
      "metadata": {
        "colab": {
          "base_uri": "https://localhost:8080/",
          "height": 128
        },
        "id": "4ThtXE7rK2Va",
        "outputId": "76320422-cf69-4943-96e2-0150522e155b"
      },
      "source": [
        "positive_two_years_ago.head(15)"
      ],
      "execution_count": null,
      "outputs": [
        {
          "output_type": "execute_result",
          "data": {
            "text/html": [
              "<div>\n",
              "<style scoped>\n",
              "    .dataframe tbody tr th:only-of-type {\n",
              "        vertical-align: middle;\n",
              "    }\n",
              "\n",
              "    .dataframe tbody tr th {\n",
              "        vertical-align: top;\n",
              "    }\n",
              "\n",
              "    .dataframe thead th {\n",
              "        text-align: right;\n",
              "    }\n",
              "</style>\n",
              "<table border=\"1\" class=\"dataframe\">\n",
              "  <thead>\n",
              "    <tr style=\"text-align: right;\">\n",
              "      <th></th>\n",
              "      <th>post_text</th>\n",
              "      <th>Polarity</th>\n",
              "      <th>Subjectivity</th>\n",
              "    </tr>\n",
              "  </thead>\n",
              "  <tbody>\n",
              "    <tr>\n",
              "      <th>104</th>\n",
              "      <td>LOL</td>\n",
              "      <td>0.80</td>\n",
              "      <td>0.700000</td>\n",
              "    </tr>\n",
              "    <tr>\n",
              "      <th>105</th>\n",
              "      <td>Wow and without question, this by far is the best and most honest article ever written about me. It’s a 5-min read and all my followers should read it. Very happy to have done this interview.“Imam...</td>\n",
              "      <td>0.55</td>\n",
              "      <td>0.783333</td>\n",
              "    </tr>\n",
              "  </tbody>\n",
              "</table>\n",
              "</div>"
            ],
            "text/plain": [
              "                                                                                                                                                                                                   post_text  ...  Subjectivity\n",
              "104                                                                                                                                                                                                      LOL  ...      0.700000\n",
              "105  Wow and without question, this by far is the best and most honest article ever written about me. It’s a 5-min read and all my followers should read it. Very happy to have done this interview.“Imam...  ...      0.783333\n",
              "\n",
              "[2 rows x 3 columns]"
            ]
          },
          "metadata": {
            "tags": []
          },
          "execution_count": 154
        }
      ]
    },
    {
      "cell_type": "code",
      "metadata": {
        "colab": {
          "base_uri": "https://localhost:8080/",
          "height": 49
        },
        "id": "c10rEecQK4Uo",
        "outputId": "186547ea-8b9e-4128-dc09-084fafc2a652"
      },
      "source": [
        "negative_two_years_ago.head(15)"
      ],
      "execution_count": null,
      "outputs": [
        {
          "output_type": "execute_result",
          "data": {
            "text/html": [
              "<div>\n",
              "<style scoped>\n",
              "    .dataframe tbody tr th:only-of-type {\n",
              "        vertical-align: middle;\n",
              "    }\n",
              "\n",
              "    .dataframe tbody tr th {\n",
              "        vertical-align: top;\n",
              "    }\n",
              "\n",
              "    .dataframe thead th {\n",
              "        text-align: right;\n",
              "    }\n",
              "</style>\n",
              "<table border=\"1\" class=\"dataframe\">\n",
              "  <thead>\n",
              "    <tr style=\"text-align: right;\">\n",
              "      <th></th>\n",
              "      <th>post_text</th>\n",
              "      <th>Polarity</th>\n",
              "      <th>Subjectivity</th>\n",
              "    </tr>\n",
              "  </thead>\n",
              "  <tbody>\n",
              "  </tbody>\n",
              "</table>\n",
              "</div>"
            ],
            "text/plain": [
              "Empty DataFrame\n",
              "Columns: [post_text, Polarity, Subjectivity]\n",
              "Index: []"
            ]
          },
          "metadata": {
            "tags": []
          },
          "execution_count": 155
        }
      ]
    },
    {
      "cell_type": "code",
      "metadata": {
        "id": "VCP7AvYMLAyd"
      },
      "source": [
        "neutral_two_years_ago = df_two_years_ago[ (df_two_years_ago.Polarity > -0.1) & (df_two_years_ago.Polarity < 0.1) ]"
      ],
      "execution_count": null,
      "outputs": []
    },
    {
      "cell_type": "code",
      "metadata": {
        "id": "J-6UJ0FwLR3i",
        "colab": {
          "base_uri": "https://localhost:8080/",
          "height": 616
        },
        "outputId": "4f5ce02e-bdac-4638-f70b-fc59341ebd4b"
      },
      "source": [
        "neutral_two_years_ago.head(15)"
      ],
      "execution_count": null,
      "outputs": [
        {
          "output_type": "execute_result",
          "data": {
            "text/html": [
              "<div>\n",
              "<style scoped>\n",
              "    .dataframe tbody tr th:only-of-type {\n",
              "        vertical-align: middle;\n",
              "    }\n",
              "\n",
              "    .dataframe tbody tr th {\n",
              "        vertical-align: top;\n",
              "    }\n",
              "\n",
              "    .dataframe thead th {\n",
              "        text-align: right;\n",
              "    }\n",
              "</style>\n",
              "<table border=\"1\" class=\"dataframe\">\n",
              "  <thead>\n",
              "    <tr style=\"text-align: right;\">\n",
              "      <th></th>\n",
              "      <th>post_text</th>\n",
              "      <th>Polarity</th>\n",
              "      <th>Subjectivity</th>\n",
              "    </tr>\n",
              "  </thead>\n",
              "  <tbody>\n",
              "    <tr>\n",
              "      <th>0</th>\n",
              "      <td>Clinton Library Refuses to Hand Over Information on Bill Clinton’s Ties to Jeffrey EpsteinTo move this message you have to echo it(that’s the middle number)You’re not helping with your votes😢 make...</td>\n",
              "      <td>0.000</td>\n",
              "      <td>0.000000</td>\n",
              "    </tr>\n",
              "    <tr>\n",
              "      <th>1</th>\n",
              "      <td>Clinton Library Refuses to Hand Over Information on Bill Clinton’s Ties to Jeffrey EpsteinTo move this message you have to echo it(that’s the middle number)You’re not helping with your votes😢 make...</td>\n",
              "      <td>0.000</td>\n",
              "      <td>0.000000</td>\n",
              "    </tr>\n",
              "    <tr>\n",
              "      <th>3</th>\n",
              "      <td>If you believe Jesus is Messiah, ECHO!! ✝️</td>\n",
              "      <td>0.000</td>\n",
              "      <td>0.000000</td>\n",
              "    </tr>\n",
              "    <tr>\n",
              "      <th>4</th>\n",
              "      <td>If you believe Jesus is Messiah, ECHO!! ✝️</td>\n",
              "      <td>0.000</td>\n",
              "      <td>0.000000</td>\n",
              "    </tr>\n",
              "    <tr>\n",
              "      <th>5</th>\n",
              "      <td>If you believe Jesus is Messiah, ECHO!! ✝️</td>\n",
              "      <td>0.000</td>\n",
              "      <td>0.000000</td>\n",
              "    </tr>\n",
              "    <tr>\n",
              "      <th>10</th>\n",
              "      <td>If you believe Jesus is Messiah, ECHO!! ✝️</td>\n",
              "      <td>0.000</td>\n",
              "      <td>0.000000</td>\n",
              "    </tr>\n",
              "    <tr>\n",
              "      <th>13</th>\n",
              "      <td>Clinton Library Refuses to Hand Over Information on Bill Clinton’s Ties to Jeffrey EpsteinTo move this message you have to echo it(that’s the middle number)You’re not helping with your votes😢 make...</td>\n",
              "      <td>0.000</td>\n",
              "      <td>0.000000</td>\n",
              "    </tr>\n",
              "    <tr>\n",
              "      <th>14</th>\n",
              "      <td>#TWEXIT You’ve Been Trumped 2020</td>\n",
              "      <td>0.000</td>\n",
              "      <td>0.000000</td>\n",
              "    </tr>\n",
              "    <tr>\n",
              "      <th>16</th>\n",
              "      <td>Clinton Library Refuses to Hand Over Information on Bill Clinton’s Ties to Jeffrey EpsteinTo move this message you have to echo it(that’s the middle number)You’re not helping with your votes😢 make...</td>\n",
              "      <td>0.000</td>\n",
              "      <td>0.000000</td>\n",
              "    </tr>\n",
              "    <tr>\n",
              "      <th>17</th>\n",
              "      <td>If you believe Jesus is Messiah, ECHO!! ✝️</td>\n",
              "      <td>0.000</td>\n",
              "      <td>0.000000</td>\n",
              "    </tr>\n",
              "    <tr>\n",
              "      <th>18</th>\n",
              "      <td>Clinton Library Refuses to Hand Over Information on Bill Clinton’s Ties to Jeffrey EpsteinTo move this message you have to echo it(that’s the middle number)You’re not helping with your votes😢 make...</td>\n",
              "      <td>0.000</td>\n",
              "      <td>0.000000</td>\n",
              "    </tr>\n",
              "    <tr>\n",
              "      <th>19</th>\n",
              "      <td>Clinton Library Refuses to Hand Over Information on Bill Clinton’s Ties to Jeffrey EpsteinTo move this message you have to echo it(that’s the middle number)You’re not helping with your votes😢 make...</td>\n",
              "      <td>0.000</td>\n",
              "      <td>0.000000</td>\n",
              "    </tr>\n",
              "    <tr>\n",
              "      <th>20</th>\n",
              "      <td>Dershowitz: \"Secret\" Emails About Underage Sex Allegations Will Put \"Prominent People in Handcuffs\" | Video | RealClearPolitics</td>\n",
              "      <td>0.050</td>\n",
              "      <td>0.850000</td>\n",
              "    </tr>\n",
              "    <tr>\n",
              "      <th>22</th>\n",
              "      <td>The worse First Lady ever. If you agree Echo it</td>\n",
              "      <td>-0.075</td>\n",
              "      <td>0.466667</td>\n",
              "    </tr>\n",
              "    <tr>\n",
              "      <th>23</th>\n",
              "      <td>We the People of the United States, want them out of our Congress. Echo if you agree! Thank you!🇺🇸🇺🇸🇺🇸🇮🇱🇮🇱🇮🇱</td>\n",
              "      <td>0.000</td>\n",
              "      <td>0.000000</td>\n",
              "    </tr>\n",
              "  </tbody>\n",
              "</table>\n",
              "</div>"
            ],
            "text/plain": [
              "                                                                                                                                                                                                  post_text  ...  Subjectivity\n",
              "0   Clinton Library Refuses to Hand Over Information on Bill Clinton’s Ties to Jeffrey EpsteinTo move this message you have to echo it(that’s the middle number)You’re not helping with your votes😢 make...  ...      0.000000\n",
              "1   Clinton Library Refuses to Hand Over Information on Bill Clinton’s Ties to Jeffrey EpsteinTo move this message you have to echo it(that’s the middle number)You’re not helping with your votes😢 make...  ...      0.000000\n",
              "3                                                                                                                                                                If you believe Jesus is Messiah, ECHO!! ✝️  ...      0.000000\n",
              "4                                                                                                                                                                If you believe Jesus is Messiah, ECHO!! ✝️  ...      0.000000\n",
              "5                                                                                                                                                                If you believe Jesus is Messiah, ECHO!! ✝️  ...      0.000000\n",
              "10                                                                                                                                                               If you believe Jesus is Messiah, ECHO!! ✝️  ...      0.000000\n",
              "13  Clinton Library Refuses to Hand Over Information on Bill Clinton’s Ties to Jeffrey EpsteinTo move this message you have to echo it(that’s the middle number)You’re not helping with your votes😢 make...  ...      0.000000\n",
              "14                                                                                                                                                                         #TWEXIT You’ve Been Trumped 2020  ...      0.000000\n",
              "16  Clinton Library Refuses to Hand Over Information on Bill Clinton’s Ties to Jeffrey EpsteinTo move this message you have to echo it(that’s the middle number)You’re not helping with your votes😢 make...  ...      0.000000\n",
              "17                                                                                                                                                               If you believe Jesus is Messiah, ECHO!! ✝️  ...      0.000000\n",
              "18  Clinton Library Refuses to Hand Over Information on Bill Clinton’s Ties to Jeffrey EpsteinTo move this message you have to echo it(that’s the middle number)You’re not helping with your votes😢 make...  ...      0.000000\n",
              "19  Clinton Library Refuses to Hand Over Information on Bill Clinton’s Ties to Jeffrey EpsteinTo move this message you have to echo it(that’s the middle number)You’re not helping with your votes😢 make...  ...      0.000000\n",
              "20                                                                          Dershowitz: \"Secret\" Emails About Underage Sex Allegations Will Put \"Prominent People in Handcuffs\" | Video | RealClearPolitics  ...      0.850000\n",
              "22                                                                                                                                                          The worse First Lady ever. If you agree Echo it  ...      0.466667\n",
              "23                                                                                             We the People of the United States, want them out of our Congress. Echo if you agree! Thank you!🇺🇸🇺🇸🇺🇸🇮🇱🇮🇱🇮🇱  ...      0.000000\n",
              "\n",
              "[15 rows x 3 columns]"
            ]
          },
          "metadata": {
            "tags": []
          },
          "execution_count": 157
        }
      ]
    },
    {
      "cell_type": "markdown",
      "metadata": {
        "id": "CYsczZouNdLL"
      },
      "source": [
        "TextBlob for df_one_year_ago"
      ]
    },
    {
      "cell_type": "code",
      "metadata": {
        "id": "z14tY3T1LSsI",
        "colab": {
          "base_uri": "https://localhost:8080/",
          "height": 504
        },
        "outputId": "abe811fb-adf8-4a60-f655-2607f56eb2a7"
      },
      "source": [
        "df"
      ],
      "execution_count": null,
      "outputs": [
        {
          "output_type": "execute_result",
          "data": {
            "text/html": [
              "<div>\n",
              "<style scoped>\n",
              "    .dataframe tbody tr th:only-of-type {\n",
              "        vertical-align: middle;\n",
              "    }\n",
              "\n",
              "    .dataframe tbody tr th {\n",
              "        vertical-align: top;\n",
              "    }\n",
              "\n",
              "    .dataframe thead th {\n",
              "        text-align: right;\n",
              "    }\n",
              "</style>\n",
              "<table border=\"1\" class=\"dataframe\">\n",
              "  <thead>\n",
              "    <tr style=\"text-align: right;\">\n",
              "      <th></th>\n",
              "      <th>post_text</th>\n",
              "      <th>post_timestamp</th>\n",
              "    </tr>\n",
              "  </thead>\n",
              "  <tbody>\n",
              "    <tr>\n",
              "      <th>0</th>\n",
              "      <td>Philadelphia Police charged 7 in relation to an #antifa riot on New Years Eve where black bloc militants smashed up federal buildings. They were also carrying a firebomb.Adam McVickerMeredith Took...</td>\n",
              "      <td>5 days ago</td>\n",
              "    </tr>\n",
              "    <tr>\n",
              "      <th>2</th>\n",
              "      <td>Patriots in DC are ready for tomorrow.</td>\n",
              "      <td>5 days ago</td>\n",
              "    </tr>\n",
              "    <tr>\n",
              "      <th>3</th>\n",
              "      <td>Let’s follow each other!</td>\n",
              "      <td>5 days ago</td>\n",
              "    </tr>\n",
              "    <tr>\n",
              "      <th>5</th>\n",
              "      <td>Round and round we go.</td>\n",
              "      <td>5 days ago</td>\n",
              "    </tr>\n",
              "    <tr>\n",
              "      <th>6</th>\n",
              "      <td>His name was Seth Rich..</td>\n",
              "      <td>5 days ago</td>\n",
              "    </tr>\n",
              "    <tr>\n",
              "      <th>...</th>\n",
              "      <td>...</td>\n",
              "      <td>...</td>\n",
              "    </tr>\n",
              "    <tr>\n",
              "      <th>336472</th>\n",
              "      <td>Kamala Harris recently told a touching story about her childhood history of civil rights activism. Turns out, she plagiarized the whole incident from a 1965 Martin Luther King interview.</td>\n",
              "      <td>5 days ago</td>\n",
              "    </tr>\n",
              "    <tr>\n",
              "      <th>336473</th>\n",
              "      <td>I admit that it feels like we are in bottom of 9th inning with 2 outs down by 3 runs (courts, legislatures, &amp; government officials).But I have never wavered in my faith that God will send @Name Hi...</td>\n",
              "      <td>5 days ago</td>\n",
              "    </tr>\n",
              "    <tr>\n",
              "      <th>336475</th>\n",
              "      <td>She claims a #blm member hit her in the face and the police PROTECTED her aggressor. THAT is why police were pepper spraying the Patriots because the Patriots were furious over this.</td>\n",
              "      <td>5 days ago</td>\n",
              "    </tr>\n",
              "    <tr>\n",
              "      <th>336477</th>\n",
              "      <td>BIG NEWS IN PENNSYLVANIA!</td>\n",
              "      <td>5 days ago</td>\n",
              "    </tr>\n",
              "    <tr>\n",
              "      <th>336478</th>\n",
              "      <td>We have had ENOUGH❗️We love our country ❤️We love our President ❤️We will not let this election be STOLEN!We will fight to Make America Great Again, and keep it GREAT🗽🦅🇺🇸</td>\n",
              "      <td>5 days ago</td>\n",
              "    </tr>\n",
              "  </tbody>\n",
              "</table>\n",
              "<p>266552 rows × 2 columns</p>\n",
              "</div>"
            ],
            "text/plain": [
              "                                                                                                                                                                                                      post_text post_timestamp\n",
              "0       Philadelphia Police charged 7 in relation to an #antifa riot on New Years Eve where black bloc militants smashed up federal buildings. They were also carrying a firebomb.Adam McVickerMeredith Took...     5 days ago\n",
              "2                                                                                                                                                                        Patriots in DC are ready for tomorrow.     5 days ago\n",
              "3                                                                                                                                                                                      Let’s follow each other!     5 days ago\n",
              "5                                                                                                                                                                                        Round and round we go.     5 days ago\n",
              "6                                                                                                                                                                                      His name was Seth Rich..     5 days ago\n",
              "...                                                                                                                                                                                                         ...            ...\n",
              "336472               Kamala Harris recently told a touching story about her childhood history of civil rights activism. Turns out, she plagiarized the whole incident from a 1965 Martin Luther King interview.     5 days ago\n",
              "336473  I admit that it feels like we are in bottom of 9th inning with 2 outs down by 3 runs (courts, legislatures, & government officials).But I have never wavered in my faith that God will send @Name Hi...     5 days ago\n",
              "336475                   She claims a #blm member hit her in the face and the police PROTECTED her aggressor. THAT is why police were pepper spraying the Patriots because the Patriots were furious over this.     5 days ago\n",
              "336477                                                                                                                                                                                BIG NEWS IN PENNSYLVANIA!     5 days ago\n",
              "336478                               We have had ENOUGH❗️We love our country ❤️We love our President ❤️We will not let this election be STOLEN!We will fight to Make America Great Again, and keep it GREAT🗽🦅🇺🇸     5 days ago\n",
              "\n",
              "[266552 rows x 2 columns]"
            ]
          },
          "metadata": {
            "tags": []
          },
          "execution_count": 158
        }
      ]
    },
    {
      "cell_type": "code",
      "metadata": {
        "id": "0THkXVK-NjFI"
      },
      "source": [
        "df_one_year_ago = df.loc[df['post_timestamp'] == '1 year ago']"
      ],
      "execution_count": null,
      "outputs": []
    },
    {
      "cell_type": "code",
      "metadata": {
        "id": "PfTbTg4Uk9Vw"
      },
      "source": [
        "df_one_year_ago = df_one_year_ago.drop(columns=['post_timestamp'])"
      ],
      "execution_count": null,
      "outputs": []
    },
    {
      "cell_type": "code",
      "metadata": {
        "id": "2Vw3IHTpvR3x"
      },
      "source": [
        "df_one_year_ago = df_one_year_ago.dropna()"
      ],
      "execution_count": null,
      "outputs": []
    },
    {
      "cell_type": "code",
      "metadata": {
        "id": "tCAz83LkN5Pb"
      },
      "source": [
        "sentiment_frame_one_year_ago = get_sentiment(df_one_year_ago, 'post_text')"
      ],
      "execution_count": null,
      "outputs": []
    },
    {
      "cell_type": "code",
      "metadata": {
        "id": "X67V9_DaO2im"
      },
      "source": [
        "#df_one_year_ago = pd.concat([df_one_year_ago, sentiment_frame_one_year_ago], axis=1)"
      ],
      "execution_count": null,
      "outputs": []
    },
    {
      "cell_type": "code",
      "metadata": {
        "id": "ovBH8mJwEjSI"
      },
      "source": [
        "df_one_year_ago.reset_index(drop=True,inplace=True)\n",
        "sentiment_frame_one_year_ago['Polarity'] = sentiment_frame_one_year_ago['Polarity'].astype(float)\n",
        "df_one_year_ago['Polarity'] = sentiment_frame_one_year_ago['Polarity']"
      ],
      "execution_count": null,
      "outputs": []
    },
    {
      "cell_type": "code",
      "metadata": {
        "id": "zEoHH4q6E_zO"
      },
      "source": [
        "df_one_year_ago.reset_index(drop=True,inplace=True)\n",
        "sentiment_frame_one_year_ago['Subjectivity'] = sentiment_frame_one_year_ago['Subjectivity'].astype(float)\n",
        "df_one_year_ago['Subjectivity'] = sentiment_frame_one_year_ago['Subjectivity']"
      ],
      "execution_count": null,
      "outputs": []
    },
    {
      "cell_type": "code",
      "metadata": {
        "id": "U9nLezF0PHu_",
        "colab": {
          "base_uri": "https://localhost:8080/"
        },
        "outputId": "59ba9be5-e799-4c65-eb52-96a3b792e037"
      },
      "source": [
        "df_one_year_ago.Subjectivity.min()"
      ],
      "execution_count": null,
      "outputs": [
        {
          "output_type": "execute_result",
          "data": {
            "text/plain": [
              "0.0"
            ]
          },
          "metadata": {
            "tags": []
          },
          "execution_count": 166
        }
      ]
    },
    {
      "cell_type": "code",
      "metadata": {
        "id": "1O3sAfrpt1if"
      },
      "source": [
        "positive_one_year_ago = df_one_year_ago[df_one_year_ago.Polarity > 0.5]"
      ],
      "execution_count": null,
      "outputs": []
    },
    {
      "cell_type": "code",
      "metadata": {
        "id": "3-2rm870t7qG"
      },
      "source": [
        "negative_one_year_ago = df_one_year_ago[df_one_year_ago.Polarity < - 0.5]"
      ],
      "execution_count": null,
      "outputs": []
    },
    {
      "cell_type": "code",
      "metadata": {
        "id": "2A93zemKvheY"
      },
      "source": [
        "neutral_one_year_ago = df_one_year_ago[ (df_one_year_ago.Polarity > -0.1) & (df_one_year_ago.Polarity < 0.1) ]"
      ],
      "execution_count": null,
      "outputs": []
    },
    {
      "cell_type": "code",
      "metadata": {
        "id": "x1gc72F-vxkz"
      },
      "source": [
        "df_four_days_ago = df.loc[df['post_timestamp'] == '4 days ago']"
      ],
      "execution_count": null,
      "outputs": []
    },
    {
      "cell_type": "code",
      "metadata": {
        "id": "kKPJCcRf5AcG"
      },
      "source": [
        "df_four_days_ago = df_four_days_ago.drop(columns=['post_timestamp'])"
      ],
      "execution_count": null,
      "outputs": []
    },
    {
      "cell_type": "code",
      "metadata": {
        "id": "ugMajAkP5JAu"
      },
      "source": [
        "df_four_days_ago = df_four_days_ago.dropna()"
      ],
      "execution_count": null,
      "outputs": []
    },
    {
      "cell_type": "code",
      "metadata": {
        "id": "PWsoWWxj5Kde"
      },
      "source": [
        "sentiment_frame_four_days_ago = get_sentiment(df_four_days_ago, 'post_text')"
      ],
      "execution_count": null,
      "outputs": []
    },
    {
      "cell_type": "code",
      "metadata": {
        "id": "-jttNueo6ZcG"
      },
      "source": [
        "#df_four_days_ago = pd.concat([df_four_days_ago, sentiment_frame_four_days_ago], axis=1)"
      ],
      "execution_count": null,
      "outputs": []
    },
    {
      "cell_type": "code",
      "metadata": {
        "id": "2e7ZsyuBHD3f"
      },
      "source": [
        "df_four_days_ago.reset_index(drop=True,inplace=True)\n",
        "sentiment_frame_four_days_ago['Polarity'] = sentiment_frame_four_days_ago['Polarity'].astype(float)\n",
        "df_four_days_ago['Polarity'] = sentiment_frame_four_days_ago['Polarity']"
      ],
      "execution_count": null,
      "outputs": []
    },
    {
      "cell_type": "code",
      "metadata": {
        "id": "iE8-LQb8HsO0"
      },
      "source": [
        "df_four_days_ago.reset_index(drop=True,inplace=True)\n",
        "sentiment_frame_four_days_ago['Subectivity'] = sentiment_frame_four_days_ago['Subjectivity'].astype(float)\n",
        "df_four_days_ago['Subjectivity'] = sentiment_frame_four_days_ago['Subjectivity']"
      ],
      "execution_count": null,
      "outputs": []
    },
    {
      "cell_type": "code",
      "metadata": {
        "colab": {
          "base_uri": "https://localhost:8080/"
        },
        "id": "DzKSv_od7JQg",
        "outputId": "f38e99c6-24d2-4a95-c708-65c1234fb659"
      },
      "source": [
        "df_four_days_ago.Subjectivity.min()"
      ],
      "execution_count": null,
      "outputs": [
        {
          "output_type": "execute_result",
          "data": {
            "text/plain": [
              "0.0"
            ]
          },
          "metadata": {
            "tags": []
          },
          "execution_count": 177
        }
      ]
    },
    {
      "cell_type": "code",
      "metadata": {
        "id": "FUnLN6Sc7Ve9"
      },
      "source": [
        "positive_four_days_ago = df_four_days_ago[df_four_days_ago.Polarity > 0.5]"
      ],
      "execution_count": null,
      "outputs": []
    },
    {
      "cell_type": "code",
      "metadata": {
        "id": "xp5ZPcHD7hmE"
      },
      "source": [
        "negative_four_days_ago = df_four_days_ago[df_four_days_ago.Polarity < - 0.5]"
      ],
      "execution_count": null,
      "outputs": []
    },
    {
      "cell_type": "code",
      "metadata": {
        "id": "MZp4tyrl7vp8"
      },
      "source": [
        "neutral_four_days_ago = df_four_days_ago[(df_four_days_ago.Polarity > -0.1) & (df_four_days_ago.Polarity < 0.1)]"
      ],
      "execution_count": null,
      "outputs": []
    },
    {
      "cell_type": "code",
      "metadata": {
        "colab": {
          "base_uri": "https://localhost:8080/"
        },
        "id": "tlm0Hk2l8S9k",
        "outputId": "757b654b-092d-4c0b-f5bf-7db9bd346cda"
      },
      "source": [
        "print(df_four_days_ago.shape)"
      ],
      "execution_count": null,
      "outputs": [
        {
          "output_type": "stream",
          "text": [
            "(53795, 3)\n"
          ],
          "name": "stdout"
        }
      ]
    },
    {
      "cell_type": "code",
      "metadata": {
        "colab": {
          "base_uri": "https://localhost:8080/"
        },
        "id": "OqWhR_p28qqy",
        "outputId": "c93100c7-5601-479a-94d7-daf1ffc18266"
      },
      "source": [
        "print(positive_four_days_ago.shape)"
      ],
      "execution_count": null,
      "outputs": [
        {
          "output_type": "stream",
          "text": [
            "(1923, 3)\n"
          ],
          "name": "stdout"
        }
      ]
    },
    {
      "cell_type": "code",
      "metadata": {
        "colab": {
          "base_uri": "https://localhost:8080/"
        },
        "id": "uo4fDP7d8zQD",
        "outputId": "ffbd3d9d-071a-431e-9392-903ecaae0ad6"
      },
      "source": [
        "print(negative_four_days_ago.shape)"
      ],
      "execution_count": null,
      "outputs": [
        {
          "output_type": "stream",
          "text": [
            "(1006, 3)\n"
          ],
          "name": "stdout"
        }
      ]
    },
    {
      "cell_type": "code",
      "metadata": {
        "colab": {
          "base_uri": "https://localhost:8080/"
        },
        "id": "wAtxQt2e816R",
        "outputId": "87ab89aa-57d7-43de-a580-b5938bb356bd"
      },
      "source": [
        "print(neutral_four_days_ago.shape)"
      ],
      "execution_count": null,
      "outputs": [
        {
          "output_type": "stream",
          "text": [
            "(30803, 3)\n"
          ],
          "name": "stdout"
        }
      ]
    },
    {
      "cell_type": "code",
      "metadata": {
        "colab": {
          "base_uri": "https://localhost:8080/"
        },
        "id": "PCELhMQJ84q0",
        "outputId": "acfaea35-81fb-4f29-a356-3674939ec381"
      },
      "source": [
        "print(positive_two_years_ago.shape)"
      ],
      "execution_count": null,
      "outputs": [
        {
          "output_type": "stream",
          "text": [
            "(2, 3)\n"
          ],
          "name": "stdout"
        }
      ]
    },
    {
      "cell_type": "code",
      "metadata": {
        "colab": {
          "base_uri": "https://localhost:8080/"
        },
        "id": "D16hFBps99zj",
        "outputId": "4177ed6d-cf1d-442d-c23c-e7553a2e6c69"
      },
      "source": [
        "print(negative_two_years_ago.shape)"
      ],
      "execution_count": null,
      "outputs": [
        {
          "output_type": "stream",
          "text": [
            "(0, 3)\n"
          ],
          "name": "stdout"
        }
      ]
    },
    {
      "cell_type": "code",
      "metadata": {
        "colab": {
          "base_uri": "https://localhost:8080/"
        },
        "id": "92ku-n6X-Gjy",
        "outputId": "3f03a0fc-1b79-4c31-8aac-6ec2dc60d734"
      },
      "source": [
        "print(neutral_two_years_ago.shape)"
      ],
      "execution_count": null,
      "outputs": [
        {
          "output_type": "stream",
          "text": [
            "(59, 3)\n"
          ],
          "name": "stdout"
        }
      ]
    },
    {
      "cell_type": "code",
      "metadata": {
        "id": "8fDQQAKQ-KdT"
      },
      "source": [
        "df_eleven_months_ago = df.loc[df['post_timestamp'] == '11 months ago']"
      ],
      "execution_count": null,
      "outputs": []
    },
    {
      "cell_type": "code",
      "metadata": {
        "id": "g_smDZs8IcH6"
      },
      "source": [
        "df_eleven_months_ago = df_eleven_months_ago.drop(columns=['post_timestamp'])"
      ],
      "execution_count": null,
      "outputs": []
    },
    {
      "cell_type": "code",
      "metadata": {
        "id": "5skETJc9ImPE"
      },
      "source": [
        "df_eleven_months_ago = df_eleven_months_ago.dropna()"
      ],
      "execution_count": null,
      "outputs": []
    },
    {
      "cell_type": "code",
      "metadata": {
        "id": "PiSA0V2sI1Qp"
      },
      "source": [
        "sentiment_frame_eleven_months_ago = get_sentiment(df_eleven_months_ago, 'post_text')"
      ],
      "execution_count": null,
      "outputs": []
    },
    {
      "cell_type": "code",
      "metadata": {
        "id": "tNjsjMvvJEcc"
      },
      "source": [
        "df_eleven_months_ago.reset_index(drop=True,inplace=True)\n",
        "sentiment_frame_eleven_months_ago['Polarity'] = sentiment_frame_eleven_months_ago['Polarity'].astype(float)\n",
        "df_eleven_months_ago['Polarity'] = sentiment_frame_eleven_months_ago['Polarity']"
      ],
      "execution_count": null,
      "outputs": []
    },
    {
      "cell_type": "code",
      "metadata": {
        "id": "5yP9ltQkJn77"
      },
      "source": [
        "df_eleven_months_ago.reset_index(drop=True,inplace=True)\n",
        "sentiment_frame_eleven_months_ago['Subjectivity'] = sentiment_frame_eleven_months_ago['Subjectivity'].astype(float)\n",
        "df_eleven_months_ago['Subjectivity'] = sentiment_frame_eleven_months_ago['Subjectivity']"
      ],
      "execution_count": null,
      "outputs": []
    },
    {
      "cell_type": "code",
      "metadata": {
        "colab": {
          "base_uri": "https://localhost:8080/"
        },
        "id": "LB7Pjv_mJy9K",
        "outputId": "59debb42-e3ab-4932-ca49-757ea1c3f94e"
      },
      "source": [
        "df_eleven_months_ago.Subjectivity.min()"
      ],
      "execution_count": null,
      "outputs": [
        {
          "output_type": "execute_result",
          "data": {
            "text/plain": [
              "0.2125"
            ]
          },
          "metadata": {
            "tags": []
          },
          "execution_count": 194
        }
      ]
    },
    {
      "cell_type": "code",
      "metadata": {
        "id": "vO5vAZrqJ6iL"
      },
      "source": [
        "positive_eleven_months_ago = df_eleven_months_ago[df_eleven_months_ago.Polarity > 0.5]"
      ],
      "execution_count": null,
      "outputs": []
    },
    {
      "cell_type": "code",
      "metadata": {
        "id": "kmyl4dJsKBFk"
      },
      "source": [
        "negative_eleven_months_ago = df_eleven_months_ago[df_eleven_months_ago.Polarity < - 0.5]"
      ],
      "execution_count": null,
      "outputs": []
    },
    {
      "cell_type": "code",
      "metadata": {
        "id": "HAS6hq2zKi6U"
      },
      "source": [
        "neutral_eleven_months_ago = df_eleven_months_ago[(df_eleven_months_ago.Polarity > -0.1) & (df_eleven_months_ago.Polarity < 0.1)]"
      ],
      "execution_count": null,
      "outputs": []
    },
    {
      "cell_type": "code",
      "metadata": {
        "id": "s9ZpyNOvKqx6"
      },
      "source": [
        "df_ten_months_ago = df.loc[df['post_timestamp'] == '10 months ago']"
      ],
      "execution_count": null,
      "outputs": []
    },
    {
      "cell_type": "code",
      "metadata": {
        "id": "wvtKVfSWLDXD"
      },
      "source": [
        "df_ten_months_ago = df_ten_months_ago.drop(columns=['post_timestamp'])"
      ],
      "execution_count": null,
      "outputs": []
    },
    {
      "cell_type": "code",
      "metadata": {
        "id": "jv_oGy6CLK56"
      },
      "source": [
        "df_ten_months_ago = df_ten_months_ago.dropna()"
      ],
      "execution_count": null,
      "outputs": []
    },
    {
      "cell_type": "code",
      "metadata": {
        "id": "up4SmZxhLbgr"
      },
      "source": [
        "sentiment_frame_ten_months_ago = get_sentiment(df_ten_months_ago, 'post_text')"
      ],
      "execution_count": null,
      "outputs": []
    },
    {
      "cell_type": "code",
      "metadata": {
        "id": "ZhIq6tomLmgh"
      },
      "source": [
        "df_ten_months_ago.reset_index(drop=True,inplace=True)\n",
        "sentiment_frame_ten_months_ago['Polarity'] = sentiment_frame_ten_months_ago['Polarity'].astype(float)\n",
        "df_ten_months_ago['Polarity'] = sentiment_frame_ten_months_ago['Polarity']"
      ],
      "execution_count": null,
      "outputs": []
    },
    {
      "cell_type": "code",
      "metadata": {
        "id": "M6S3cQt-Lyvz"
      },
      "source": [
        "df_ten_months_ago.reset_index(drop=True,inplace=True)\n",
        "sentiment_frame_ten_months_ago['Subjectivity'] = sentiment_frame_ten_months_ago['Subjectivity'].astype(float)\n",
        "df_ten_months_ago['Subjectivity'] = sentiment_frame_ten_months_ago['Subjectivity']"
      ],
      "execution_count": null,
      "outputs": []
    },
    {
      "cell_type": "code",
      "metadata": {
        "colab": {
          "base_uri": "https://localhost:8080/"
        },
        "id": "0JVIYTqZMD7R",
        "outputId": "e012e1bf-c4b9-48fa-f8ed-00258c8cd1fb"
      },
      "source": [
        "df_ten_months_ago.Subjectivity.min()"
      ],
      "execution_count": null,
      "outputs": [
        {
          "output_type": "execute_result",
          "data": {
            "text/plain": [
              "0.2"
            ]
          },
          "metadata": {
            "tags": []
          },
          "execution_count": 204
        }
      ]
    },
    {
      "cell_type": "code",
      "metadata": {
        "id": "pXCt92ayMK8R"
      },
      "source": [
        "positive_ten_months_ago = df_ten_months_ago[df_ten_months_ago.Polarity > 0.5]\n",
        "negative_ten_months_ago = df_ten_months_ago[df_ten_months_ago.Polarity < - 0.5]"
      ],
      "execution_count": null,
      "outputs": []
    },
    {
      "cell_type": "code",
      "metadata": {
        "id": "4v3FPX1fMZgh"
      },
      "source": [
        "neutral_ten_months_ago = df_ten_months_ago[(df_ten_months_ago.Polarity > -0.1) & (df_ten_months_ago.Polarity < 0.1)]"
      ],
      "execution_count": null,
      "outputs": []
    },
    {
      "cell_type": "code",
      "metadata": {
        "colab": {
          "base_uri": "https://localhost:8080/",
          "height": 176
        },
        "id": "vR3mydG5Mvv5",
        "outputId": "dde36a17-c489-4818-863f-e51b7191602f"
      },
      "source": [
        "df_eight_months_ago = df.loc[df['post_timestamp'] == '8 months ago']\n",
        "df_eight_months_ago = df_eight_months_ago.drop(columns=['post_timestamp'])\n",
        "df_eight_months_ago = df_eight_months_ago.dropna()\n",
        "df_ten_months_ago.head(10)"
      ],
      "execution_count": null,
      "outputs": [
        {
          "output_type": "execute_result",
          "data": {
            "text/html": [
              "<div>\n",
              "<style scoped>\n",
              "    .dataframe tbody tr th:only-of-type {\n",
              "        vertical-align: middle;\n",
              "    }\n",
              "\n",
              "    .dataframe tbody tr th {\n",
              "        vertical-align: top;\n",
              "    }\n",
              "\n",
              "    .dataframe thead th {\n",
              "        text-align: right;\n",
              "    }\n",
              "</style>\n",
              "<table border=\"1\" class=\"dataframe\">\n",
              "  <thead>\n",
              "    <tr style=\"text-align: right;\">\n",
              "      <th></th>\n",
              "      <th>post_text</th>\n",
              "      <th>Polarity</th>\n",
              "      <th>Subjectivity</th>\n",
              "    </tr>\n",
              "  </thead>\n",
              "  <tbody>\n",
              "    <tr>\n",
              "      <th>0</th>\n",
              "      <td>Do we really want to allow this in our country? They come illegaly to change what we hold dear. Our FREEDOMS !</td>\n",
              "      <td>0.250000</td>\n",
              "      <td>0.200000</td>\n",
              "    </tr>\n",
              "    <tr>\n",
              "      <th>1</th>\n",
              "      <td>If you are in europe make sure to have food for 2-3 weeks. Italy qurantines 1/4 of their population. Just announced today. #coronavirus Echo this and join Pockenet another alternative social media...</td>\n",
              "      <td>0.266667</td>\n",
              "      <td>0.477778</td>\n",
              "    </tr>\n",
              "    <tr>\n",
              "      <th>2</th>\n",
              "      <td>Every person in America should be able to lock up their doors and windows and survive 30 days with no outside help or supplies. You should also be prepared and able to defend it. #JohnnyBravo</td>\n",
              "      <td>0.333333</td>\n",
              "      <td>0.433333</td>\n",
              "    </tr>\n",
              "  </tbody>\n",
              "</table>\n",
              "</div>"
            ],
            "text/plain": [
              "                                                                                                                                                                                                 post_text  ...  Subjectivity\n",
              "0                                                                                           Do we really want to allow this in our country? They come illegaly to change what we hold dear. Our FREEDOMS !  ...      0.200000\n",
              "1  If you are in europe make sure to have food for 2-3 weeks. Italy qurantines 1/4 of their population. Just announced today. #coronavirus Echo this and join Pockenet another alternative social media...  ...      0.477778\n",
              "2          Every person in America should be able to lock up their doors and windows and survive 30 days with no outside help or supplies. You should also be prepared and able to defend it. #JohnnyBravo  ...      0.433333\n",
              "\n",
              "[3 rows x 3 columns]"
            ]
          },
          "metadata": {
            "tags": []
          },
          "execution_count": 207
        }
      ]
    },
    {
      "cell_type": "code",
      "metadata": {
        "id": "SedPd6QhPAuR"
      },
      "source": [
        "sentiment_frame_eight_months_ago = get_sentiment(df_eight_months_ago, 'post_text')"
      ],
      "execution_count": null,
      "outputs": []
    },
    {
      "cell_type": "code",
      "metadata": {
        "id": "zREUSJ1_PRox"
      },
      "source": [
        "df_eight_months_ago.reset_index(drop=True,inplace=True)\n",
        "sentiment_frame_eight_months_ago['Polarity'] = sentiment_frame_eight_months_ago['Polarity'].astype(float)\n",
        "df_eight_months_ago['Polarity'] = sentiment_frame_eight_months_ago['Polarity']"
      ],
      "execution_count": null,
      "outputs": []
    },
    {
      "cell_type": "code",
      "metadata": {
        "id": "5X8kJCDbPZ0J"
      },
      "source": [
        "df_eight_months_ago.reset_index(drop=True,inplace=True)\n",
        "sentiment_frame_eight_months_ago['Subjectivity'] = sentiment_frame_eight_months_ago['Subjectivity'].astype(float)\n",
        "df_eight_months_ago['Subjectivity'] = sentiment_frame_eight_months_ago['Subjectivity']"
      ],
      "execution_count": null,
      "outputs": []
    },
    {
      "cell_type": "code",
      "metadata": {
        "colab": {
          "base_uri": "https://localhost:8080/"
        },
        "id": "EHKzw4R5Ppzv",
        "outputId": "62cfdbba-aded-4594-993f-0acc56959661"
      },
      "source": [
        "df_eight_months_ago.Subjectivity.min()"
      ],
      "execution_count": null,
      "outputs": [
        {
          "output_type": "execute_result",
          "data": {
            "text/plain": [
              "0.3571428571428571"
            ]
          },
          "metadata": {
            "tags": []
          },
          "execution_count": 211
        }
      ]
    },
    {
      "cell_type": "code",
      "metadata": {
        "id": "t611xGhBQoMu"
      },
      "source": [
        "positive_eight_months_ago = df_eight_months_ago[df_eight_months_ago.Polarity > 0.5]\n",
        "negative_eight_months_ago = df_eight_months_ago[df_eight_months_ago.Polarity < - 0.5]\n",
        "neutral_eight_months_ago = df_eight_months_ago[(df_eight_months_ago.Polarity > -0.1) & (df_eight_months_ago.Polarity < 0.1)]"
      ],
      "execution_count": null,
      "outputs": []
    },
    {
      "cell_type": "code",
      "metadata": {
        "colab": {
          "base_uri": "https://localhost:8080/",
          "height": 410
        },
        "id": "YtN7MYEbQwFf",
        "outputId": "f708451b-7238-43e4-b45b-6f1991c22eaa"
      },
      "source": [
        "df_seven_months_ago = df.loc[df['post_timestamp'] == '7 months ago']\n",
        "df_seven_months_ago = df_seven_months_ago.drop(columns=['post_timestamp'])\n",
        "df_seven_months_ago = df_seven_months_ago.dropna()\n",
        "df_seven_months_ago.head(10)"
      ],
      "execution_count": null,
      "outputs": [
        {
          "output_type": "execute_result",
          "data": {
            "text/html": [
              "<div>\n",
              "<style scoped>\n",
              "    .dataframe tbody tr th:only-of-type {\n",
              "        vertical-align: middle;\n",
              "    }\n",
              "\n",
              "    .dataframe tbody tr th {\n",
              "        vertical-align: top;\n",
              "    }\n",
              "\n",
              "    .dataframe thead th {\n",
              "        text-align: right;\n",
              "    }\n",
              "</style>\n",
              "<table border=\"1\" class=\"dataframe\">\n",
              "  <thead>\n",
              "    <tr style=\"text-align: right;\">\n",
              "      <th></th>\n",
              "      <th>post_text</th>\n",
              "    </tr>\n",
              "  </thead>\n",
              "  <tbody>\n",
              "    <tr>\n",
              "      <th>13337</th>\n",
              "      <td>LET FREEDOM RING ! When I sculpted this bell I never expected people would vandalize it but they have like \"F\" America spray painted on it and many other things but I go back and repair it every t...</td>\n",
              "    </tr>\n",
              "    <tr>\n",
              "      <th>17087</th>\n",
              "      <td>🌟SHARE!🌟Stealing a sign out of someone's yard is a felony. It's obvious these women are oblivious to the fact. Let's make them famous PARLER .#Liberals. #Dumbasses #StealingIsAgainstTheLaw</td>\n",
              "    </tr>\n",
              "    <tr>\n",
              "      <th>21125</th>\n",
              "      <td>PRO-TIP: Upvoting does not ‘spread’ or share a post. Only Echoing adds it to another timeline for additional followers to see. If you want to share a post - Echo.</td>\n",
              "    </tr>\n",
              "    <tr>\n",
              "      <th>26089</th>\n",
              "      <td>#obamagate</td>\n",
              "    </tr>\n",
              "    <tr>\n",
              "      <th>36351</th>\n",
              "      <td>Can this post get 2000 Echos so we can show the world how much we LOVE President Trump on his birthday? #HappyBirthdayPOTUS</td>\n",
              "    </tr>\n",
              "    <tr>\n",
              "      <th>46239</th>\n",
              "      <td>👺EVIL UN #Globalistsunder the influence of#Islamic 🕋 #Satanicmoral fragmentation and destruction of the 👉🏻Family Unit 🤔🕋TO FORCE🕋👈🏻🌎 New 🌍 World🌏 Order MASS DEATH💥</td>\n",
              "    </tr>\n",
              "    <tr>\n",
              "      <th>47842</th>\n",
              "      <td>ECHO if you’re an Active Parler User!</td>\n",
              "    </tr>\n",
              "    <tr>\n",
              "      <th>62940</th>\n",
              "      <td>👺EVIL UN #Globalistsunder the influence of#Islamic 🕋 #Satanicmoral fragmentation and destruction of the 👉🏻Family Unit 🤔🕋TO FORCE🕋👈🏻🌎 New 🌍 World🌏 Order MASS DEATH💥</td>\n",
              "    </tr>\n",
              "    <tr>\n",
              "      <th>75174</th>\n",
              "      <td>👺EVIL UN #Globalistsunder the influence of#Islamic 🕋 #Satanicmoral fragmentation and destruction of the 👉🏻Family Unit 🤔🕋TO FORCE🕋👈🏻🌎 New 🌍 World🌏 Order MASS DEATH💥</td>\n",
              "    </tr>\n",
              "    <tr>\n",
              "      <th>107664</th>\n",
              "      <td>🌟SHARE!🌟Stealing a sign out of someone's yard is a felony. It's obvious these women are oblivious to the fact. Let's make them famous PARLER .#Liberals. #Dumbasses #StealingIsAgainstTheLaw</td>\n",
              "    </tr>\n",
              "  </tbody>\n",
              "</table>\n",
              "</div>"
            ],
            "text/plain": [
              "                                                                                                                                                                                                      post_text\n",
              "13337   LET FREEDOM RING ! When I sculpted this bell I never expected people would vandalize it but they have like \"F\" America spray painted on it and many other things but I go back and repair it every t...\n",
              "17087              🌟SHARE!🌟Stealing a sign out of someone's yard is a felony. It's obvious these women are oblivious to the fact. Let's make them famous PARLER .#Liberals. #Dumbasses #StealingIsAgainstTheLaw\n",
              "21125                                        PRO-TIP: Upvoting does not ‘spread’ or share a post. Only Echoing adds it to another timeline for additional followers to see. If you want to share a post - Echo.\n",
              "26089                                                                                                                                                                                                #obamagate\n",
              "36351                                                                               Can this post get 2000 Echos so we can show the world how much we LOVE President Trump on his birthday? #HappyBirthdayPOTUS\n",
              "46239                                       👺EVIL UN #Globalistsunder the influence of#Islamic 🕋 #Satanicmoral fragmentation and destruction of the 👉🏻Family Unit 🤔🕋TO FORCE🕋👈🏻🌎 New 🌍 World🌏 Order MASS DEATH💥\n",
              "47842                                                                                                                                                                     ECHO if you’re an Active Parler User!\n",
              "62940                                       👺EVIL UN #Globalistsunder the influence of#Islamic 🕋 #Satanicmoral fragmentation and destruction of the 👉🏻Family Unit 🤔🕋TO FORCE🕋👈🏻🌎 New 🌍 World🌏 Order MASS DEATH💥\n",
              "75174                                       👺EVIL UN #Globalistsunder the influence of#Islamic 🕋 #Satanicmoral fragmentation and destruction of the 👉🏻Family Unit 🤔🕋TO FORCE🕋👈🏻🌎 New 🌍 World🌏 Order MASS DEATH💥\n",
              "107664             🌟SHARE!🌟Stealing a sign out of someone's yard is a felony. It's obvious these women are oblivious to the fact. Let's make them famous PARLER .#Liberals. #Dumbasses #StealingIsAgainstTheLaw"
            ]
          },
          "metadata": {
            "tags": []
          },
          "execution_count": 213
        }
      ]
    },
    {
      "cell_type": "code",
      "metadata": {
        "id": "GBQi9Qr7RV95"
      },
      "source": [
        "sentiment_frame_seven_months_ago = get_sentiment(df_seven_months_ago, 'post_text')"
      ],
      "execution_count": null,
      "outputs": []
    },
    {
      "cell_type": "code",
      "metadata": {
        "id": "-NYy-qsGRiDG"
      },
      "source": [
        "df_seven_months_ago.reset_index(drop=True,inplace=True)\n",
        "sentiment_frame_seven_months_ago['Polarity'] = sentiment_frame_seven_months_ago['Polarity'].astype(float)\n",
        "df_seven_months_ago['Polarity'] = sentiment_frame_seven_months_ago['Polarity']"
      ],
      "execution_count": null,
      "outputs": []
    },
    {
      "cell_type": "code",
      "metadata": {
        "id": "7fNXHEONRtx1"
      },
      "source": [
        "df_seven_months_ago.reset_index(drop=True,inplace=True)\n",
        "sentiment_frame_seven_months_ago['Subjectivity'] = sentiment_frame_seven_months_ago['Subjectivity'].astype(float)\n",
        "df_seven_months_ago['Subjectivity'] = sentiment_frame_seven_months_ago['Subjectivity']"
      ],
      "execution_count": null,
      "outputs": []
    },
    {
      "cell_type": "code",
      "metadata": {
        "colab": {
          "base_uri": "https://localhost:8080/"
        },
        "id": "obFjvEH5R9Fo",
        "outputId": "6f571dec-8d4c-4af1-f857-4d8e3c520f95"
      },
      "source": [
        "df_seven_months_ago.Subjectivity.min()"
      ],
      "execution_count": null,
      "outputs": [
        {
          "output_type": "execute_result",
          "data": {
            "text/plain": [
              "0.0"
            ]
          },
          "metadata": {
            "tags": []
          },
          "execution_count": 217
        }
      ]
    },
    {
      "cell_type": "code",
      "metadata": {
        "id": "wNQCUGhTSCk9"
      },
      "source": [
        "positive_seven_months_ago = df_seven_months_ago[df_seven_months_ago.Polarity > 0.5]\n",
        "negative_seven_months_ago = df_seven_months_ago[df_seven_months_ago.Polarity < - 0.5]\n",
        "neutral_seven_months_ago = df_seven_months_ago[(df_seven_months_ago.Polarity > -0.1) & (df_seven_months_ago.Polarity < 0.1)]"
      ],
      "execution_count": null,
      "outputs": []
    },
    {
      "cell_type": "code",
      "metadata": {
        "colab": {
          "base_uri": "https://localhost:8080/",
          "height": 376
        },
        "id": "pNdB07sISR_w",
        "outputId": "b5913c1b-7530-482e-ea62-23aaa5d9000c"
      },
      "source": [
        "df_six_months_ago = df.loc[df['post_timestamp'] == '6 months ago']\n",
        "df_six_months_ago = df_six_months_ago.drop(columns=['post_timestamp'])\n",
        "df_six_months_ago = df_six_months_ago.dropna()\n",
        "df_six_months_ago.head(10)"
      ],
      "execution_count": null,
      "outputs": [
        {
          "output_type": "execute_result",
          "data": {
            "text/html": [
              "<div>\n",
              "<style scoped>\n",
              "    .dataframe tbody tr th:only-of-type {\n",
              "        vertical-align: middle;\n",
              "    }\n",
              "\n",
              "    .dataframe tbody tr th {\n",
              "        vertical-align: top;\n",
              "    }\n",
              "\n",
              "    .dataframe thead th {\n",
              "        text-align: right;\n",
              "    }\n",
              "</style>\n",
              "<table border=\"1\" class=\"dataframe\">\n",
              "  <thead>\n",
              "    <tr style=\"text-align: right;\">\n",
              "      <th></th>\n",
              "      <th>post_text</th>\n",
              "    </tr>\n",
              "  </thead>\n",
              "  <tbody>\n",
              "    <tr>\n",
              "      <th>563</th>\n",
              "      <td>Outraged that an imposter has registered the @HawleyMO account on Parler. This will be rectified!</td>\n",
              "    </tr>\n",
              "    <tr>\n",
              "      <th>2346</th>\n",
              "      <td>Right on Q. #Coronavirus is right back into the headlines after disappearing during all these False Flag protests. Lockdown 2.0 is on the horizon as Democrats keep fighting to sink America anyway ...</td>\n",
              "    </tr>\n",
              "    <tr>\n",
              "      <th>2999</th>\n",
              "      <td>Right on Q. #Coronavirus is right back into the headlines after disappearing during all these False Flag protests. Lockdown 2.0 is on the horizon as Democrats keep fighting to sink America anyway ...</td>\n",
              "    </tr>\n",
              "    <tr>\n",
              "      <th>5294</th>\n",
              "      <td>Just do it...</td>\n",
              "    </tr>\n",
              "    <tr>\n",
              "      <th>5304</th>\n",
              "      <td>Blue.Dragon mkt político a 26 anos fazendo a história</td>\n",
              "    </tr>\n",
              "    <tr>\n",
              "      <th>6018</th>\n",
              "      <td>This Man, Who was Stomped by Domestic Terrorists, has Now Died. The Terrorist Who Murdered Him Is Still At Large...This is Him, Please ECHO</td>\n",
              "    </tr>\n",
              "    <tr>\n",
              "      <th>9188</th>\n",
              "      <td>‪Three years after.. do you still support President Trump?‬‪Echo if you do! ‬</td>\n",
              "    </tr>\n",
              "    <tr>\n",
              "      <th>15354</th>\n",
              "      <td>Thanks to all of the new follows! Let’s keep growing this community together! Thank you!</td>\n",
              "    </tr>\n",
              "    <tr>\n",
              "      <th>21341</th>\n",
              "      <td>I'm going to do something I very rarely do- I'm going to ask people to ECHO this post, or, for someone with Name Recognition to do so, so that we can get as many as possible, TO SEND A MESSAGE TO ...</td>\n",
              "    </tr>\n",
              "    <tr>\n",
              "      <th>21501</th>\n",
              "      <td>STOP POSTING LINKS TO TWITTER!!! JUST POST SCREENSHOTS OF WHAT YOU WANT TO SHARE. LINKS GIVE THEM $$$. ECHO TO GET THIS MESSAGE OUT!🇺🇸🇺🇸🇺🇸</td>\n",
              "    </tr>\n",
              "  </tbody>\n",
              "</table>\n",
              "</div>"
            ],
            "text/plain": [
              "                                                                                                                                                                                                     post_text\n",
              "563                                                                                                          Outraged that an imposter has registered the @HawleyMO account on Parler. This will be rectified!\n",
              "2346   Right on Q. #Coronavirus is right back into the headlines after disappearing during all these False Flag protests. Lockdown 2.0 is on the horizon as Democrats keep fighting to sink America anyway ...\n",
              "2999   Right on Q. #Coronavirus is right back into the headlines after disappearing during all these False Flag protests. Lockdown 2.0 is on the horizon as Democrats keep fighting to sink America anyway ...\n",
              "5294                                                                                                                                                                                             Just do it...\n",
              "5304                                                                                                                                                     Blue.Dragon mkt político a 26 anos fazendo a história\n",
              "6018                                                               This Man, Who was Stomped by Domestic Terrorists, has Now Died. The Terrorist Who Murdered Him Is Still At Large...This is Him, Please ECHO\n",
              "9188                                                                                                                             ‪Three years after.. do you still support President Trump?‬‪Echo if you do! ‬\n",
              "15354                                                                                                                 Thanks to all of the new follows! Let’s keep growing this community together! Thank you!\n",
              "21341  I'm going to do something I very rarely do- I'm going to ask people to ECHO this post, or, for someone with Name Recognition to do so, so that we can get as many as possible, TO SEND A MESSAGE TO ...\n",
              "21501                                                               STOP POSTING LINKS TO TWITTER!!! JUST POST SCREENSHOTS OF WHAT YOU WANT TO SHARE. LINKS GIVE THEM $$$. ECHO TO GET THIS MESSAGE OUT!🇺🇸🇺🇸🇺🇸"
            ]
          },
          "metadata": {
            "tags": []
          },
          "execution_count": 219
        }
      ]
    },
    {
      "cell_type": "code",
      "metadata": {
        "id": "KK1dPrMYTSVK"
      },
      "source": [
        "sentiment_frame_six_months_ago = get_sentiment(df_six_months_ago, 'post_text')"
      ],
      "execution_count": null,
      "outputs": []
    },
    {
      "cell_type": "code",
      "metadata": {
        "id": "kszm4USBTA34"
      },
      "source": [
        "df_six_months_ago.reset_index(drop=True,inplace=True)\n",
        "sentiment_frame_six_months_ago['Polarity'] = sentiment_frame_six_months_ago['Polarity'].astype(float)\n",
        "df_six_months_ago['Polarity'] = sentiment_frame_six_months_ago['Polarity']"
      ],
      "execution_count": null,
      "outputs": []
    },
    {
      "cell_type": "code",
      "metadata": {
        "id": "3VT50TZMTMet"
      },
      "source": [
        "df_six_months_ago.reset_index(drop=True,inplace=True)\n",
        "sentiment_frame_six_months_ago['Subjectivity'] = sentiment_frame_six_months_ago['Subjectivity'].astype(float)\n",
        "df_six_months_ago['Subjectivity'] = sentiment_frame_six_months_ago['Subjectivity']"
      ],
      "execution_count": null,
      "outputs": []
    },
    {
      "cell_type": "code",
      "metadata": {
        "colab": {
          "base_uri": "https://localhost:8080/"
        },
        "id": "ttW6zEKWTi14",
        "outputId": "e19caaa9-5dab-44a1-a983-333868f7b0ff"
      },
      "source": [
        "df_six_months_ago.Subjectivity.min()"
      ],
      "execution_count": null,
      "outputs": [
        {
          "output_type": "execute_result",
          "data": {
            "text/plain": [
              "0.0"
            ]
          },
          "metadata": {
            "tags": []
          },
          "execution_count": 223
        }
      ]
    },
    {
      "cell_type": "code",
      "metadata": {
        "id": "wko2DEOiTtkt"
      },
      "source": [
        "positive_six_months_ago = df_six_months_ago[df_six_months_ago.Polarity > 0.5]\n",
        "negative_six_months_ago = df_six_months_ago[df_six_months_ago.Polarity < - 0.5]\n",
        "neutral_six_months_ago = df_six_months_ago[(df_six_months_ago.Polarity > -0.1) & (df_six_months_ago.Polarity < 0.1)]"
      ],
      "execution_count": null,
      "outputs": []
    },
    {
      "cell_type": "code",
      "metadata": {
        "id": "YtBdiWfmTxtR"
      },
      "source": [
        "df_five_months_ago = df.loc[df['post_timestamp'] == '5 months ago']\n",
        "df_five_months_ago = df_five_months_ago.drop(columns=['post_timestamp'])\n",
        "df_five_months_ago = df_five_months_ago.dropna()\n",
        "sentiment_frame_five_months_ago = get_sentiment(df_five_months_ago, 'post_text')"
      ],
      "execution_count": null,
      "outputs": []
    },
    {
      "cell_type": "code",
      "metadata": {
        "id": "zVISYruRUcZ7"
      },
      "source": [
        "df_five_months_ago.reset_index(drop=True,inplace=True)\n",
        "sentiment_frame_five_months_ago['Polarity'] = sentiment_frame_five_months_ago['Polarity'].astype(float)\n",
        "df_five_months_ago['Polarity'] = sentiment_frame_five_months_ago['Polarity']\n",
        "df_five_months_ago.reset_index(drop=True,inplace=True)\n",
        "sentiment_frame_five_months_ago['Subjectivity'] = sentiment_frame_five_months_ago['Subjectivity'].astype(float)\n",
        "df_five_months_ago['Subjectivity'] = sentiment_frame_five_months_ago['Subjectivity']"
      ],
      "execution_count": null,
      "outputs": []
    },
    {
      "cell_type": "code",
      "metadata": {
        "id": "h6zxJG3MUxef"
      },
      "source": [
        "df_five_months_ago.Subjectivity.min()\n",
        "positive_five_months_ago = df_five_months_ago[df_five_months_ago.Polarity > 0.5]\n",
        "negative_five_months_ago = df_five_months_ago[df_five_months_ago.Polarity < - 0.5]\n",
        "neutral_five_months_ago = df_five_months_ago[(df_five_months_ago.Polarity > -0.1) & (df_five_months_ago.Polarity < 0.1)]"
      ],
      "execution_count": null,
      "outputs": []
    },
    {
      "cell_type": "code",
      "metadata": {
        "id": "E8rIGy-2VCjn"
      },
      "source": [
        "df_four_months_ago = df.loc[df['post_timestamp'] == '4 months ago']\n",
        "df_four_months_ago = df_four_months_ago.drop(columns=['post_timestamp'])\n",
        "df_four_months_ago = df_four_months_ago.dropna()\n",
        "sentiment_frame_four_months_ago = get_sentiment(df_four_months_ago, 'post_text')"
      ],
      "execution_count": null,
      "outputs": []
    },
    {
      "cell_type": "code",
      "metadata": {
        "id": "9KdicoeDXH66"
      },
      "source": [
        "df_four_months_ago.reset_index(drop=True,inplace=True)\n",
        "sentiment_frame_four_months_ago['Polarity'] = sentiment_frame_four_months_ago['Polarity'].astype(float)\n",
        "df_four_months_ago['Polarity'] = sentiment_frame_four_months_ago['Polarity']\n",
        "df_four_months_ago.reset_index(drop=True,inplace=True)\n",
        "sentiment_frame_four_months_ago['Subjectivity'] = sentiment_frame_four_months_ago['Subjectivity'].astype(float)\n",
        "df_four_months_ago['Subjectivity'] = sentiment_frame_four_months_ago['Subjectivity']"
      ],
      "execution_count": null,
      "outputs": []
    },
    {
      "cell_type": "code",
      "metadata": {
        "id": "0GL7j8_hXgbO"
      },
      "source": [
        "df_four_months_ago.Subjectivity.min()\n",
        "positive_four_months_ago = df_four_months_ago[df_four_months_ago.Polarity > 0.5]\n",
        "negative_four_months_ago = df_four_months_ago[df_four_months_ago.Polarity < - 0.5]\n",
        "neutral_four_months_ago = df_four_months_ago[(df_four_months_ago.Polarity > -0.1) & (df_four_months_ago.Polarity < 0.1)]"
      ],
      "execution_count": null,
      "outputs": []
    },
    {
      "cell_type": "code",
      "metadata": {
        "id": "7PdevIG-Xvll"
      },
      "source": [
        "df_three_months_ago = df.loc[df['post_timestamp'] == '3 months ago']\n",
        "df_three_months_ago = df_three_months_ago.drop(columns=['post_timestamp'])\n",
        "df_three_months_ago = df_three_months_ago.dropna()\n",
        "sentiment_frame_three_months_ago = get_sentiment(df_three_months_ago, 'post_text')"
      ],
      "execution_count": null,
      "outputs": []
    },
    {
      "cell_type": "code",
      "metadata": {
        "id": "2eCTycpYYfzB"
      },
      "source": [
        "df_three_months_ago.reset_index(drop=True,inplace=True)\n",
        "sentiment_frame_three_months_ago['Polarity'] = sentiment_frame_three_months_ago['Polarity'].astype(float)\n",
        "df_three_months_ago['Polarity'] = sentiment_frame_three_months_ago['Polarity']\n",
        "df_three_months_ago.reset_index(drop=True,inplace=True)\n",
        "sentiment_frame_three_months_ago['Subjectivity'] = sentiment_frame_three_months_ago['Subjectivity'].astype(float)\n",
        "df_three_months_ago['Subjectivity'] = sentiment_frame_three_months_ago['Subjectivity']"
      ],
      "execution_count": null,
      "outputs": []
    },
    {
      "cell_type": "code",
      "metadata": {
        "id": "q8Ck_vPtYvrF"
      },
      "source": [
        "df_three_months_ago.Subjectivity.min()\n",
        "positive_three_months_ago = df_three_months_ago[df_three_months_ago.Polarity > 0.5]\n",
        "negative_three_months_ago = df_three_months_ago[df_three_months_ago.Polarity < - 0.5]\n",
        "neutral_three_months_ago = df_three_months_ago[(df_three_months_ago.Polarity > -0.1) & (df_three_months_ago.Polarity < 0.1)]"
      ],
      "execution_count": null,
      "outputs": []
    },
    {
      "cell_type": "code",
      "metadata": {
        "id": "vfeud3HcY_1d"
      },
      "source": [
        "df_two_months_ago = df.loc[df['post_timestamp'] == '2 months ago']\n",
        "df_two_months_ago = df_two_months_ago.drop(columns=['post_timestamp'])\n",
        "df_two_months_ago = df_two_months_ago.dropna()\n",
        "sentiment_frame_two_months_ago = get_sentiment(df_two_months_ago, 'post_text')"
      ],
      "execution_count": null,
      "outputs": []
    },
    {
      "cell_type": "code",
      "metadata": {
        "id": "1HluC6aVZMus"
      },
      "source": [
        "df_two_months_ago.reset_index(drop=True,inplace=True)\n",
        "sentiment_frame_two_months_ago['Polarity'] = sentiment_frame_two_months_ago['Polarity'].astype(float)\n",
        "df_two_months_ago['Polarity'] = sentiment_frame_two_months_ago['Polarity']\n",
        "df_two_months_ago.reset_index(drop=True,inplace=True)\n",
        "sentiment_frame_two_months_ago['Subjectivity'] = sentiment_frame_two_months_ago['Subjectivity'].astype(float)\n",
        "df_two_months_ago['Subjectivity'] = sentiment_frame_two_months_ago['Subjectivity']"
      ],
      "execution_count": null,
      "outputs": []
    },
    {
      "cell_type": "code",
      "metadata": {
        "id": "Vy6YLAw0ZfRT"
      },
      "source": [
        "df_two_months_ago.Subjectivity.min()\n",
        "positive_two_months_ago = df_two_months_ago[df_two_months_ago.Polarity > 0.5]\n",
        "negative_two_months_ago = df_two_months_ago[df_two_months_ago.Polarity < - 0.5]\n",
        "neutral_two_months_ago = df_two_months_ago[(df_two_months_ago.Polarity > -0.1) & (df_two_months_ago.Polarity < 0.1)]"
      ],
      "execution_count": null,
      "outputs": []
    },
    {
      "cell_type": "code",
      "metadata": {
        "id": "57jO7G_0Zrh8"
      },
      "source": [
        "df_one_month_ago = df.loc[df['post_timestamp'] == '1 month ago']\n",
        "df_one_month_ago = df_one_month_ago.drop(columns=['post_timestamp'])\n",
        "df_one_month_ago = df_one_month_ago.dropna()\n",
        "sentiment_frame_one_month_ago = get_sentiment(df_one_month_ago, 'post_text')"
      ],
      "execution_count": null,
      "outputs": []
    },
    {
      "cell_type": "code",
      "metadata": {
        "id": "9yFcn1gZaAVA"
      },
      "source": [
        "df_one_month_ago.reset_index(drop=True,inplace=True)\n",
        "sentiment_frame_one_month_ago['Polarity'] = sentiment_frame_one_month_ago['Polarity'].astype(float)\n",
        "df_one_month_ago['Polarity'] = sentiment_frame_one_month_ago['Polarity']\n",
        "df_one_month_ago.reset_index(drop=True,inplace=True)\n",
        "sentiment_frame_one_month_ago['Subjectivity'] = sentiment_frame_one_month_ago['Subjectivity'].astype(float)\n",
        "df_one_month_ago['Subjectivity'] = sentiment_frame_one_month_ago['Subjectivity']"
      ],
      "execution_count": null,
      "outputs": []
    },
    {
      "cell_type": "code",
      "metadata": {
        "id": "0JeK6RnBaUkI"
      },
      "source": [
        "df_one_month_ago.Subjectivity.min()\n",
        "positive_one_month_ago = df_one_month_ago[df_one_month_ago.Polarity > 0.5]\n",
        "negative_one_month_ago = df_one_month_ago[df_one_month_ago.Polarity < - 0.5]\n",
        "neutral_one_month_ago = df_one_month_ago[(df_one_month_ago.Polarity > -0.1) & (df_one_month_ago.Polarity < 0.1)]"
      ],
      "execution_count": null,
      "outputs": []
    },
    {
      "cell_type": "code",
      "metadata": {
        "id": "nswi-LVlanxW"
      },
      "source": [
        "df_three_weeks_ago = df.loc[df['post_timestamp'] == '3 weeks ago']\n",
        "df_three_weeks_ago = df_three_weeks_ago.drop(columns=['post_timestamp'])\n",
        "df_three_weeks_ago = df_three_weeks_ago.dropna()\n",
        "sentiment_frame_three_weeks_ago = get_sentiment(df_three_weeks_ago, 'post_text')"
      ],
      "execution_count": null,
      "outputs": []
    },
    {
      "cell_type": "code",
      "metadata": {
        "id": "oZRXc2TebABg"
      },
      "source": [
        "df_three_weeks_ago.reset_index(drop=True,inplace=True)\n",
        "sentiment_frame_three_weeks_ago['Polarity'] = sentiment_frame_three_weeks_ago['Polarity'].astype(float)\n",
        "df_three_weeks_ago['Polarity'] = sentiment_frame_three_weeks_ago['Polarity']\n",
        "df_three_weeks_ago.reset_index(drop=True,inplace=True)\n",
        "sentiment_frame_three_weeks_ago['Subjectivity'] = sentiment_frame_three_weeks_ago['Subjectivity'].astype(float)\n",
        "df_three_weeks_ago['Subjectivity'] = sentiment_frame_three_weeks_ago['Subjectivity']"
      ],
      "execution_count": null,
      "outputs": []
    },
    {
      "cell_type": "code",
      "metadata": {
        "id": "7kOc4DBrbcgO"
      },
      "source": [
        "df_three_weeks_ago.Subjectivity.min()\n",
        "positive_three_weeks_ago = df_three_weeks_ago[df_three_weeks_ago.Polarity > 0.5]\n",
        "negative_three_weeks_ago = df_three_weeks_ago[df_three_weeks_ago.Polarity < - 0.5]\n",
        "neutral_three_weeks_ago = df_three_weeks_ago[(df_three_weeks_ago.Polarity > -0.1) & (df_three_weeks_ago.Polarity < 0.1)]"
      ],
      "execution_count": null,
      "outputs": []
    },
    {
      "cell_type": "code",
      "metadata": {
        "id": "DL0E0ch2b3jn"
      },
      "source": [
        "df_two_weeks_ago = df.loc[df['post_timestamp'] == '2 weeks ago']\n",
        "df_two_weeks_ago = df_two_weeks_ago.drop(columns=['post_timestamp'])\n",
        "df_two_weeks_ago = df_two_weeks_ago.dropna()\n",
        "sentiment_frame_two_weeks_ago = get_sentiment(df_two_weeks_ago, 'post_text')"
      ],
      "execution_count": null,
      "outputs": []
    },
    {
      "cell_type": "code",
      "metadata": {
        "id": "2SLsMyc2cFTQ"
      },
      "source": [
        "df_two_weeks_ago.reset_index(drop=True,inplace=True)\n",
        "sentiment_frame_two_weeks_ago['Polarity'] = sentiment_frame_two_weeks_ago['Polarity'].astype(float)\n",
        "df_two_weeks_ago['Polarity'] = sentiment_frame_two_weeks_ago['Polarity']\n",
        "df_two_weeks_ago.reset_index(drop=True,inplace=True)\n",
        "sentiment_frame_two_weeks_ago['Subjectivity'] = sentiment_frame_two_weeks_ago['Subjectivity'].astype(float)\n",
        "df_two_weeks_ago['Subjectivity'] = sentiment_frame_two_weeks_ago['Subjectivity']"
      ],
      "execution_count": null,
      "outputs": []
    },
    {
      "cell_type": "code",
      "metadata": {
        "id": "zsRt9drrcWd0"
      },
      "source": [
        "df_two_weeks_ago.Subjectivity.min()\n",
        "positive_two_weeks_ago = df_two_weeks_ago[df_two_weeks_ago.Polarity > 0.5]\n",
        "negative_two_weeks_ago = df_two_weeks_ago[df_two_weeks_ago.Polarity < - 0.5]\n",
        "neutral_two_weeks_ago = df_two_weeks_ago[(df_two_weeks_ago.Polarity > -0.1) & (df_two_weeks_ago.Polarity < 0.1)]"
      ],
      "execution_count": null,
      "outputs": []
    },
    {
      "cell_type": "code",
      "metadata": {
        "id": "ynxTHV9LciPO"
      },
      "source": [
        "df_one_week_ago = df.loc[df['post_timestamp'] == '1 week ago']\n",
        "df_one_week_ago = df_one_week_ago.drop(columns=['post_timestamp'])\n",
        "df_one_week_ago = df_one_week_ago.dropna()\n",
        "sentiment_frame_one_week_ago = get_sentiment(df_one_week_ago, 'post_text')"
      ],
      "execution_count": null,
      "outputs": []
    },
    {
      "cell_type": "code",
      "metadata": {
        "id": "DBJKPVv5cvPi"
      },
      "source": [
        "df_one_week_ago.reset_index(drop=True,inplace=True)\n",
        "sentiment_frame_one_week_ago['Polarity'] = sentiment_frame_one_week_ago['Polarity'].astype(float)\n",
        "df_one_week_ago['Polarity'] = sentiment_frame_one_week_ago['Polarity']\n",
        "df_one_week_ago.reset_index(drop=True,inplace=True)\n",
        "sentiment_frame_one_week_ago['Subjectivity'] = sentiment_frame_one_week_ago['Subjectivity'].astype(float)\n",
        "df_one_week_ago['Subjectivity'] = sentiment_frame_one_week_ago['Subjectivity']"
      ],
      "execution_count": null,
      "outputs": []
    },
    {
      "cell_type": "code",
      "metadata": {
        "id": "P5yFbqledBdC"
      },
      "source": [
        "df_one_week_ago.Subjectivity.min()\n",
        "positive_one_week_ago = df_one_week_ago[df_one_week_ago.Polarity > 0.5]\n",
        "negative_one_week_ago = df_one_week_ago[df_one_week_ago.Polarity < - 0.5]\n",
        "neutral_one_week_ago = df_one_week_ago[(df_one_week_ago.Polarity > -0.1) & (df_one_week_ago.Polarity < 0.1)]"
      ],
      "execution_count": null,
      "outputs": []
    },
    {
      "cell_type": "code",
      "metadata": {
        "id": "YJGtQ-SudR-R"
      },
      "source": [
        "df_six_days_ago = df.loc[df['post_timestamp'] == '6 days ago']\n",
        "df_six_days_ago = df_six_days_ago.drop(columns=['post_timestamp'])\n",
        "df_six_days_ago = df_six_days_ago.dropna()\n",
        "sentiment_frame_six_days_ago = get_sentiment(df_six_days_ago, 'post_text')"
      ],
      "execution_count": null,
      "outputs": []
    },
    {
      "cell_type": "code",
      "metadata": {
        "id": "WS88kDCSeF-0"
      },
      "source": [
        "df_six_days_ago.reset_index(drop=True,inplace=True)\n",
        "sentiment_frame_six_days_ago['Polarity'] = sentiment_frame_six_days_ago['Polarity'].astype(float)\n",
        "df_six_days_ago['Polarity'] = sentiment_frame_six_days_ago['Polarity']\n",
        "df_six_days_ago.reset_index(drop=True,inplace=True)\n",
        "sentiment_frame_six_days_ago['Subjectivity'] = sentiment_frame_six_days_ago['Subjectivity'].astype(float)\n",
        "df_six_days_ago['Subjectivity'] = sentiment_frame_six_days_ago['Subjectivity']"
      ],
      "execution_count": null,
      "outputs": []
    },
    {
      "cell_type": "code",
      "metadata": {
        "id": "Raj4ppFUeeWA"
      },
      "source": [
        "df_six_days_ago.Subjectivity.min()\n",
        "positive_six_days_ago = df_six_days_ago[df_six_days_ago.Polarity > 0.5]\n",
        "negative_six_days_ago = df_six_days_ago[df_six_days_ago.Polarity < - 0.5]\n",
        "neutral_six_days_ago = df_six_days_ago[(df_six_days_ago.Polarity > -0.1) & (df_six_days_ago.Polarity < 0.1)]"
      ],
      "execution_count": null,
      "outputs": []
    },
    {
      "cell_type": "code",
      "metadata": {
        "id": "Yirv6dVHe-Zu"
      },
      "source": [
        "df_five_days_ago = df.loc[df['post_timestamp'] == '5 days ago']\n",
        "df_five_days_ago = df_five_days_ago.drop(columns=['post_timestamp'])\n",
        "df_five_days_ago = df_five_days_ago.dropna()\n",
        "sentiment_frame_five_days_ago = get_sentiment(df_five_days_ago, 'post_text')"
      ],
      "execution_count": null,
      "outputs": []
    },
    {
      "cell_type": "code",
      "metadata": {
        "id": "DeVkkBGzfP62"
      },
      "source": [
        "df_five_days_ago.reset_index(drop=True,inplace=True)\n",
        "sentiment_frame_five_days_ago['Polarity'] = sentiment_frame_five_days_ago['Polarity'].astype(float)\n",
        "df_five_days_ago['Polarity'] = sentiment_frame_five_days_ago['Polarity']\n",
        "df_five_days_ago.reset_index(drop=True,inplace=True)\n",
        "sentiment_frame_five_days_ago['Subjectivity'] = sentiment_frame_five_days_ago['Subjectivity'].astype(float)\n",
        "df_five_days_ago['Subjectivity'] = sentiment_frame_five_days_ago['Subjectivity']"
      ],
      "execution_count": null,
      "outputs": []
    },
    {
      "cell_type": "code",
      "metadata": {
        "id": "g5xJ1qIQfgoV"
      },
      "source": [
        "df_five_days_ago.Subjectivity.min()\n",
        "positive_five_days_ago = df_five_days_ago[df_five_days_ago.Polarity > 0.5]\n",
        "negative_five_days_ago = df_five_days_ago[df_five_days_ago.Polarity < - 0.5]\n",
        "neutral_five_days_ago = df_five_days_ago[(df_five_days_ago.Polarity > -0.1) & (df_five_days_ago.Polarity < 0.1)]"
      ],
      "execution_count": null,
      "outputs": []
    },
    {
      "cell_type": "markdown",
      "metadata": {
        "id": "0LszK1xghZzl"
      },
      "source": [
        "Graphing"
      ]
    },
    {
      "cell_type": "code",
      "metadata": {
        "colab": {
          "base_uri": "https://localhost:8080/"
        },
        "id": "LvGBC7FMhX_o",
        "outputId": "f39fac1f-6c12-4035-a4df-fd9c81dc2698"
      },
      "source": [
        "print(\"neutral_two_years_ago:\",neutral_two_years_ago.shape)\n",
        "print(\"neutral_one_year_ago:\",neutral_one_year_ago.shape)\n",
        "print(\"neutral_eleven_months_ago:\",neutral_eleven_months_ago.shape)\n",
        "print(\"neutral_ten_months_ago:\",neutral_ten_months_ago.shape)\n",
        "print(\"neutral_eight_months_ago:\",neutral_eight_months_ago.shape)\n",
        "print(\"neutral_seven_months_ago:\",neutral_seven_months_ago.shape)\n",
        "print(\"neutral_six_months_ago:\",neutral_six_months_ago.shape)\n",
        "print(\"neutral_five_months_ago:\",neutral_five_months_ago.shape)\n",
        "print(\"neutral_four_months_ago:\",neutral_four_months_ago.shape)\n",
        "print(\"neutral_three_months_ago:\",neutral_three_months_ago.shape)\n",
        "print(\"neutral_two_months_ago:\",neutral_two_months_ago.shape)\n",
        "print(\"neutral_one_month_ago:\",neutral_one_month_ago.shape)\n",
        "print(\"neutral_three_weeks_ago:\",neutral_three_weeks_ago.shape)\n",
        "print(\"neutral_two_weeks_ago:\",neutral_two_weeks_ago.shape)\n",
        "print(\"neutral_one_week_ago:\",neutral_one_week_ago.shape)\n",
        "print(\"neutral_six_days_ago:\",neutral_six_days_ago.shape)\n",
        "print(\"neutral_five_days_ago:\",neutral_five_days_ago.shape)\n",
        "print(\"neutral_four_days_ago:\",neutral_four_days_ago.shape)"
      ],
      "execution_count": null,
      "outputs": [
        {
          "output_type": "stream",
          "text": [
            "neutral_two_years_ago: (59, 3)\n",
            "neutral_one_year_ago: (10, 3)\n",
            "neutral_eleven_months_ago: (3, 3)\n",
            "neutral_ten_months_ago: (0, 3)\n",
            "neutral_eight_months_ago: (0, 3)\n",
            "neutral_seven_months_ago: (5, 3)\n",
            "neutral_six_months_ago: (90, 3)\n",
            "neutral_five_months_ago: (148, 3)\n",
            "neutral_four_months_ago: (83, 3)\n",
            "neutral_three_months_ago: (152, 3)\n",
            "neutral_two_months_ago: (781, 3)\n",
            "neutral_one_month_ago: (2349, 3)\n",
            "neutral_three_weeks_ago: (1422, 3)\n",
            "neutral_two_weeks_ago: (1312, 3)\n",
            "neutral_one_week_ago: (4720, 3)\n",
            "neutral_six_days_ago: (3533, 3)\n",
            "neutral_five_days_ago: (101716, 3)\n",
            "neutral_four_days_ago: (30803, 3)\n"
          ],
          "name": "stdout"
        }
      ]
    },
    {
      "cell_type": "code",
      "metadata": {
        "colab": {
          "base_uri": "https://localhost:8080/"
        },
        "id": "91Adpr21DSWJ",
        "outputId": "6f759310-03c7-4d4a-f742-d0374511d671"
      },
      "source": [
        "print(\"positive_two_years_ago:\",positive_two_years_ago.shape)\n",
        "print(\"positive_one_year_ago:\",positive_one_year_ago.shape)\n",
        "print(\"positive_eleven_months_ago:\",positive_eleven_months_ago.shape)\n",
        "print(\"positive_ten_months_ago:\",positive_ten_months_ago.shape)\n",
        "print(\"positive_eight_months_ago:\",positive_eight_months_ago.shape)\n",
        "print(\"positive_seven_months_ago:\",positive_seven_months_ago.shape)\n",
        "print(\"positive_six_months_ago:\",positive_six_months_ago.shape)\n",
        "print(\"positive_five_months_ago:\",positive_five_months_ago.shape)\n",
        "print(\"positive_four_months_ago:\",positive_four_months_ago.shape)\n",
        "print(\"positive_three_months_ago:\",positive_three_months_ago.shape)\n",
        "print(\"positive_two_months_ago:\",positive_two_months_ago.shape)\n",
        "print(\"positive_one_month_ago:\",positive_one_month_ago.shape)\n",
        "print(\"positive_three_weeks_ago:\",positive_three_weeks_ago.shape)\n",
        "print(\"positive_two_weeks_ago:\",positive_two_weeks_ago.shape)\n",
        "print(\"positive_one_week_ago:\",positive_one_week_ago.shape)\n",
        "print(\"positive_six_days_ago:\",positive_six_days_ago.shape)\n",
        "print(\"positive_five_days_ago:\",positive_five_days_ago.shape)\n",
        "print(\"positive_four_days_ago:\",positive_four_days_ago.shape)"
      ],
      "execution_count": null,
      "outputs": [
        {
          "output_type": "stream",
          "text": [
            "positive_two_years_ago: (2, 3)\n",
            "positive_one_year_ago: (5, 3)\n",
            "positive_eleven_months_ago: (1, 3)\n",
            "positive_ten_months_ago: (0, 3)\n",
            "positive_eight_months_ago: (0, 3)\n",
            "positive_seven_months_ago: (0, 3)\n",
            "positive_six_months_ago: (4, 3)\n",
            "positive_five_months_ago: (5, 3)\n",
            "positive_four_months_ago: (4, 3)\n",
            "positive_three_months_ago: (9, 3)\n",
            "positive_two_months_ago: (24, 3)\n",
            "positive_one_month_ago: (380, 3)\n",
            "positive_three_weeks_ago: (65, 3)\n",
            "positive_two_weeks_ago: (231, 3)\n",
            "positive_one_week_ago: (383, 3)\n",
            "positive_six_days_ago: (270, 3)\n",
            "positive_five_days_ago: (8428, 3)\n",
            "positive_four_days_ago: (1923, 3)\n"
          ],
          "name": "stdout"
        }
      ]
    },
    {
      "cell_type": "code",
      "metadata": {
        "colab": {
          "base_uri": "https://localhost:8080/"
        },
        "id": "f8y76YhFDnRu",
        "outputId": "a216d3da-2896-40ba-85ae-d6c7f35d584f"
      },
      "source": [
        "print(\"negative_two_years_ago:\",negative_two_years_ago.shape)\n",
        "print(\"negative_one_year_ago:\",negative_one_year_ago.shape)\n",
        "print(\"negative_eleven_months_ago:\",negative_eleven_months_ago.shape)\n",
        "print(\"negative_ten_months_ago:\",negative_ten_months_ago.shape)\n",
        "print(\"negative_eight_months_ago:\",negative_eight_months_ago.shape)\n",
        "print(\"negative_seven_months_ago:\",negative_seven_months_ago.shape)\n",
        "print(\"negative_six_months_ago:\",negative_six_months_ago.shape)\n",
        "print(\"negative_five_months_ago:\",negative_five_months_ago.shape)\n",
        "print(\"negative_four_months_ago:\",negative_four_months_ago.shape)\n",
        "print(\"negative_three_months_ago:\",negative_three_months_ago.shape)\n",
        "print(\"negative_two_months_ago:\",negative_two_months_ago.shape)\n",
        "print(\"negative_one_month_ago:\",negative_one_month_ago.shape)\n",
        "print(\"negative_three_weeks_ago:\",negative_three_weeks_ago.shape)\n",
        "print(\"negative_two_weeks_ago:\",negative_two_weeks_ago.shape)\n",
        "print(\"negative_one_week_ago:\",negative_one_week_ago.shape)\n",
        "print(\"negative_six_days_ago:\",negative_six_days_ago.shape)\n",
        "print(\"negative_five_days_ago\",negative_five_days_ago.shape)\n",
        "print(\"negative_four_days_ago:\",negative_four_days_ago.shape)"
      ],
      "execution_count": null,
      "outputs": [
        {
          "output_type": "stream",
          "text": [
            "negative_two_years_ago: (0, 3)\n",
            "negative_one_year_ago: (17, 3)\n",
            "negative_eleven_months_ago: (0, 3)\n",
            "negative_ten_months_ago: (0, 3)\n",
            "negative_eight_months_ago: (0, 3)\n",
            "negative_seven_months_ago: (0, 3)\n",
            "negative_six_months_ago: (2, 3)\n",
            "negative_five_months_ago: (1, 3)\n",
            "negative_four_months_ago: (0, 3)\n",
            "negative_three_months_ago: (8, 3)\n",
            "negative_two_months_ago: (31, 3)\n",
            "negative_one_month_ago: (69, 3)\n",
            "negative_three_weeks_ago: (9, 3)\n",
            "negative_two_weeks_ago: (338, 3)\n",
            "negative_one_week_ago: (169, 3)\n",
            "negative_six_days_ago: (115, 3)\n",
            "negative_five_days_ago (4464, 3)\n",
            "negative_four_days_ago: (1006, 3)\n"
          ],
          "name": "stdout"
        }
      ]
    },
    {
      "cell_type": "code",
      "metadata": {
        "colab": {
          "base_uri": "https://localhost:8080/",
          "height": 416
        },
        "id": "RsdHEYeLfqqh",
        "outputId": "56d85036-9b5a-4e0c-f93a-b520dc19582d"
      },
      "source": [
        "Positive = [2, 5, 1, 0, 0, 0, 4, 5, 4, 9, 24, 380, 65, 231, 383, 270, 8428, 1923]\n",
        "Negative = [0, 17, 0, 0, 0, 0, 2, 1, 0, 8, 31, 69, 9, 338, 169, 115, 4464, 1006]\n",
        "Neutral = [59, 10, 3, 0, 0, 5, 90, 148, 83, 152, 781, 2349, 1422, 1312, 4720, 3533, 101716, 30803]\n",
        "\n",
        "index = ['two_years_ago', 'one_year_ago', \n",
        "         'eleven_months_ago', 'ten_months_ago', 'eight_months_ago', 'seven_months_ago', 'six_months_ago', 'five_months_ago', 'four_months_ago', 'three_months_ago', 'two_months_ago', 'one_month_ago', \n",
        "         'three_weeks_ago', 'two_weeks_ago', 'one_week_ago', \n",
        "         'six_days_ago', 'five_days_ago', 'four_days_ago']\n",
        "\n",
        "df_bar_graph = pd.DataFrame({'Positive': Positive,\n",
        "                   'Negative': Negative, 'Neutral': Neutral}, index=index)\n",
        "\n",
        "ax = df_bar_graph.plot.bar(rot=0, figsize=(15,5), width=1)\n",
        "ax.tick_params(axis='x', which='major', pad=10, labelrotation= -90)"
      ],
      "execution_count": null,
      "outputs": [
        {
          "output_type": "display_data",
          "data": {
            "image/png": "[encoded data removed]",
            "text/plain": [
              "<Figure size 1080x360 with 1 Axes>"
            ]
          },
          "metadata": {
            "tags": [],
            "needs_background": "light"
          }
        }
      ]
    },
    {
      "cell_type": "markdown",
      "metadata": {
        "id": "1UEEXNbbR45W"
      },
      "source": [
        "Below we begin with Word cloud.\n",
        "We will begin by word clouding from the farthest time stamp to the nearest."
      ]
    },
    {
      "cell_type": "markdown",
      "metadata": {
        "id": "7_JqgSyYTCjX"
      },
      "source": [
        "I will need to play around with the 'post_tokens' column to make sure that it works out.\n",
        "\n",
        "I am unsure how I will be able to pull it off, in the class example we had a neat word document.  Here we have a bunch of rows."
      ]
    },
    {
      "cell_type": "markdown",
      "metadata": {
        "id": "FsiNpVsa3EIL"
      },
      "source": [
        "So, I got the code from Exercise 27"
      ]
    },
    {
      "cell_type": "code",
      "metadata": {
        "id": "xGVD5fgxkaFV"
      },
      "source": [
        "from wordcloud import WordCloud, STOPWORDS\n",
        "import matplotlib.pyplot as plt\n",
        "%matplotlib inline\n",
        "from nltk import word_tokenize\n",
        "from nltk.stem import WordNetLemmatizer\n",
        "import nltk\n",
        "from collections import Counter\n",
        "import re"
      ],
      "execution_count": null,
      "outputs": []
    },
    {
      "cell_type": "markdown",
      "metadata": {
        "id": "HOVvw5NE3Xd9"
      },
      "source": [
        "Below, I am preparing the dataset, df.  So that I can use only its timestamp and post_tokens columns."
      ]
    },
    {
      "cell_type": "code",
      "metadata": {
        "id": "0p0Ku7ovSMn_",
        "colab": {
          "base_uri": "https://localhost:8080/",
          "height": 504
        },
        "outputId": "0d48a3f5-ac4e-4c13-b593-4f27aa4b70f6"
      },
      "source": [
        "df"
      ],
      "execution_count": null,
      "outputs": [
        {
          "output_type": "execute_result",
          "data": {
            "text/html": [
              "<div>\n",
              "<style scoped>\n",
              "    .dataframe tbody tr th:only-of-type {\n",
              "        vertical-align: middle;\n",
              "    }\n",
              "\n",
              "    .dataframe tbody tr th {\n",
              "        vertical-align: top;\n",
              "    }\n",
              "\n",
              "    .dataframe thead th {\n",
              "        text-align: right;\n",
              "    }\n",
              "</style>\n",
              "<table border=\"1\" class=\"dataframe\">\n",
              "  <thead>\n",
              "    <tr style=\"text-align: right;\">\n",
              "      <th></th>\n",
              "      <th>post_text</th>\n",
              "      <th>post_timestamp</th>\n",
              "    </tr>\n",
              "  </thead>\n",
              "  <tbody>\n",
              "    <tr>\n",
              "      <th>0</th>\n",
              "      <td>Philadelphia Police charged 7 in relation to an #antifa riot on New Years Eve where black bloc militants smashed up federal buildings. They were also carrying a firebomb.Adam McVickerMeredith Took...</td>\n",
              "      <td>5 days ago</td>\n",
              "    </tr>\n",
              "    <tr>\n",
              "      <th>2</th>\n",
              "      <td>Patriots in DC are ready for tomorrow.</td>\n",
              "      <td>5 days ago</td>\n",
              "    </tr>\n",
              "    <tr>\n",
              "      <th>3</th>\n",
              "      <td>Let’s follow each other!</td>\n",
              "      <td>5 days ago</td>\n",
              "    </tr>\n",
              "    <tr>\n",
              "      <th>5</th>\n",
              "      <td>Round and round we go.</td>\n",
              "      <td>5 days ago</td>\n",
              "    </tr>\n",
              "    <tr>\n",
              "      <th>6</th>\n",
              "      <td>His name was Seth Rich..</td>\n",
              "      <td>5 days ago</td>\n",
              "    </tr>\n",
              "    <tr>\n",
              "      <th>...</th>\n",
              "      <td>...</td>\n",
              "      <td>...</td>\n",
              "    </tr>\n",
              "    <tr>\n",
              "      <th>336472</th>\n",
              "      <td>Kamala Harris recently told a touching story about her childhood history of civil rights activism. Turns out, she plagiarized the whole incident from a 1965 Martin Luther King interview.</td>\n",
              "      <td>5 days ago</td>\n",
              "    </tr>\n",
              "    <tr>\n",
              "      <th>336473</th>\n",
              "      <td>I admit that it feels like we are in bottom of 9th inning with 2 outs down by 3 runs (courts, legislatures, &amp; government officials).But I have never wavered in my faith that God will send @Name Hi...</td>\n",
              "      <td>5 days ago</td>\n",
              "    </tr>\n",
              "    <tr>\n",
              "      <th>336475</th>\n",
              "      <td>She claims a #blm member hit her in the face and the police PROTECTED her aggressor. THAT is why police were pepper spraying the Patriots because the Patriots were furious over this.</td>\n",
              "      <td>5 days ago</td>\n",
              "    </tr>\n",
              "    <tr>\n",
              "      <th>336477</th>\n",
              "      <td>BIG NEWS IN PENNSYLVANIA!</td>\n",
              "      <td>5 days ago</td>\n",
              "    </tr>\n",
              "    <tr>\n",
              "      <th>336478</th>\n",
              "      <td>We have had ENOUGH❗️We love our country ❤️We love our President ❤️We will not let this election be STOLEN!We will fight to Make America Great Again, and keep it GREAT🗽🦅🇺🇸</td>\n",
              "      <td>5 days ago</td>\n",
              "    </tr>\n",
              "  </tbody>\n",
              "</table>\n",
              "<p>266552 rows × 2 columns</p>\n",
              "</div>"
            ],
            "text/plain": [
              "                                                                                                                                                                                                      post_text post_timestamp\n",
              "0       Philadelphia Police charged 7 in relation to an #antifa riot on New Years Eve where black bloc militants smashed up federal buildings. They were also carrying a firebomb.Adam McVickerMeredith Took...     5 days ago\n",
              "2                                                                                                                                                                        Patriots in DC are ready for tomorrow.     5 days ago\n",
              "3                                                                                                                                                                                      Let’s follow each other!     5 days ago\n",
              "5                                                                                                                                                                                        Round and round we go.     5 days ago\n",
              "6                                                                                                                                                                                      His name was Seth Rich..     5 days ago\n",
              "...                                                                                                                                                                                                         ...            ...\n",
              "336472               Kamala Harris recently told a touching story about her childhood history of civil rights activism. Turns out, she plagiarized the whole incident from a 1965 Martin Luther King interview.     5 days ago\n",
              "336473  I admit that it feels like we are in bottom of 9th inning with 2 outs down by 3 runs (courts, legislatures, & government officials).But I have never wavered in my faith that God will send @Name Hi...     5 days ago\n",
              "336475                   She claims a #blm member hit her in the face and the police PROTECTED her aggressor. THAT is why police were pepper spraying the Patriots because the Patriots were furious over this.     5 days ago\n",
              "336477                                                                                                                                                                                BIG NEWS IN PENNSYLVANIA!     5 days ago\n",
              "336478                               We have had ENOUGH❗️We love our country ❤️We love our President ❤️We will not let this election be STOLEN!We will fight to Make America Great Again, and keep it GREAT🗽🦅🇺🇸     5 days ago\n",
              "\n",
              "[266552 rows x 2 columns]"
            ]
          },
          "metadata": {
            "tags": []
          },
          "execution_count": 264
        }
      ]
    },
    {
      "cell_type": "code",
      "metadata": {
        "colab": {
          "base_uri": "https://localhost:8080/",
          "height": 561
        },
        "id": "LjA5jIND3vqo",
        "outputId": "835df792-96ea-4697-897d-9d9558da7033"
      },
      "source": [
        "df_tokens = df.pop('post_tokens')"
      ],
      "execution_count": null,
      "outputs": [
        {
          "output_type": "error",
          "ename": "KeyError",
          "evalue": "ignored",
          "traceback": [
            "\u001b[0;31m---------------------------------------------------------------------------\u001b[0m",
            "\u001b[0;31mKeyError\u001b[0m                                  Traceback (most recent call last)",
            "\u001b[0;32m/usr/local/lib/python3.7/dist-packages/pandas/core/indexes/base.py\u001b[0m in \u001b[0;36mget_loc\u001b[0;34m(self, key, method, tolerance)\u001b[0m\n\u001b[1;32m   2897\u001b[0m             \u001b[0;32mtry\u001b[0m\u001b[0;34m:\u001b[0m\u001b[0;34m\u001b[0m\u001b[0;34m\u001b[0m\u001b[0m\n\u001b[0;32m-> 2898\u001b[0;31m                 \u001b[0;32mreturn\u001b[0m \u001b[0mself\u001b[0m\u001b[0;34m.\u001b[0m\u001b[0m_engine\u001b[0m\u001b[0;34m.\u001b[0m\u001b[0mget_loc\u001b[0m\u001b[0;34m(\u001b[0m\u001b[0mcasted_key\u001b[0m\u001b[0;34m)\u001b[0m\u001b[0;34m\u001b[0m\u001b[0;34m\u001b[0m\u001b[0m\n\u001b[0m\u001b[1;32m   2899\u001b[0m             \u001b[0;32mexcept\u001b[0m \u001b[0mKeyError\u001b[0m \u001b[0;32mas\u001b[0m \u001b[0merr\u001b[0m\u001b[0;34m:\u001b[0m\u001b[0;34m\u001b[0m\u001b[0;34m\u001b[0m\u001b[0m\n",
            "\u001b[0;32mpandas/_libs/index.pyx\u001b[0m in \u001b[0;36mpandas._libs.index.IndexEngine.get_loc\u001b[0;34m()\u001b[0m\n",
            "\u001b[0;32mpandas/_libs/index.pyx\u001b[0m in \u001b[0;36mpandas._libs.index.IndexEngine.get_loc\u001b[0;34m()\u001b[0m\n",
            "\u001b[0;32mpandas/_libs/hashtable_class_helper.pxi\u001b[0m in \u001b[0;36mpandas._libs.hashtable.PyObjectHashTable.get_item\u001b[0;34m()\u001b[0m\n",
            "\u001b[0;32mpandas/_libs/hashtable_class_helper.pxi\u001b[0m in \u001b[0;36mpandas._libs.hashtable.PyObjectHashTable.get_item\u001b[0;34m()\u001b[0m\n",
            "\u001b[0;31mKeyError\u001b[0m: 'post_tokens'",
            "\nThe above exception was the direct cause of the following exception:\n",
            "\u001b[0;31mKeyError\u001b[0m                                  Traceback (most recent call last)",
            "\u001b[0;32m<ipython-input-263-b1aa86c8dd1a>\u001b[0m in \u001b[0;36m<module>\u001b[0;34m()\u001b[0m\n\u001b[0;32m----> 1\u001b[0;31m \u001b[0mdf_tokens\u001b[0m \u001b[0;34m=\u001b[0m \u001b[0mdf\u001b[0m\u001b[0;34m.\u001b[0m\u001b[0mpop\u001b[0m\u001b[0;34m(\u001b[0m\u001b[0;34m'post_tokens'\u001b[0m\u001b[0;34m)\u001b[0m\u001b[0;34m\u001b[0m\u001b[0;34m\u001b[0m\u001b[0m\n\u001b[0m",
            "\u001b[0;32m/usr/local/lib/python3.7/dist-packages/pandas/core/frame.py\u001b[0m in \u001b[0;36mpop\u001b[0;34m(self, item)\u001b[0m\n\u001b[1;32m   4369\u001b[0m         \u001b[0;36m3\u001b[0m  \u001b[0mmonkey\u001b[0m        \u001b[0mNaN\u001b[0m\u001b[0;34m\u001b[0m\u001b[0;34m\u001b[0m\u001b[0m\n\u001b[1;32m   4370\u001b[0m         \"\"\"\n\u001b[0;32m-> 4371\u001b[0;31m         \u001b[0;32mreturn\u001b[0m \u001b[0msuper\u001b[0m\u001b[0;34m(\u001b[0m\u001b[0;34m)\u001b[0m\u001b[0;34m.\u001b[0m\u001b[0mpop\u001b[0m\u001b[0;34m(\u001b[0m\u001b[0mitem\u001b[0m\u001b[0;34m=\u001b[0m\u001b[0mitem\u001b[0m\u001b[0;34m)\u001b[0m\u001b[0;34m\u001b[0m\u001b[0;34m\u001b[0m\u001b[0m\n\u001b[0m\u001b[1;32m   4372\u001b[0m \u001b[0;34m\u001b[0m\u001b[0m\n\u001b[1;32m   4373\u001b[0m     \u001b[0;34m@\u001b[0m\u001b[0mdoc\u001b[0m\u001b[0;34m(\u001b[0m\u001b[0mNDFrame\u001b[0m\u001b[0;34m.\u001b[0m\u001b[0mreplace\u001b[0m\u001b[0;34m,\u001b[0m \u001b[0;34m**\u001b[0m\u001b[0m_shared_doc_kwargs\u001b[0m\u001b[0;34m)\u001b[0m\u001b[0;34m\u001b[0m\u001b[0;34m\u001b[0m\u001b[0m\n",
            "\u001b[0;32m/usr/local/lib/python3.7/dist-packages/pandas/core/generic.py\u001b[0m in \u001b[0;36mpop\u001b[0;34m(self, item)\u001b[0m\n\u001b[1;32m    659\u001b[0m \u001b[0;34m\u001b[0m\u001b[0m\n\u001b[1;32m    660\u001b[0m     \u001b[0;32mdef\u001b[0m \u001b[0mpop\u001b[0m\u001b[0;34m(\u001b[0m\u001b[0mself\u001b[0m\u001b[0;34m,\u001b[0m \u001b[0mitem\u001b[0m\u001b[0;34m:\u001b[0m \u001b[0mLabel\u001b[0m\u001b[0;34m)\u001b[0m \u001b[0;34m->\u001b[0m \u001b[0mUnion\u001b[0m\u001b[0;34m[\u001b[0m\u001b[0;34m\"Series\"\u001b[0m\u001b[0;34m,\u001b[0m \u001b[0mAny\u001b[0m\u001b[0;34m]\u001b[0m\u001b[0;34m:\u001b[0m\u001b[0;34m\u001b[0m\u001b[0;34m\u001b[0m\u001b[0m\n\u001b[0;32m--> 661\u001b[0;31m         \u001b[0mresult\u001b[0m \u001b[0;34m=\u001b[0m \u001b[0mself\u001b[0m\u001b[0;34m[\u001b[0m\u001b[0mitem\u001b[0m\u001b[0;34m]\u001b[0m\u001b[0;34m\u001b[0m\u001b[0;34m\u001b[0m\u001b[0m\n\u001b[0m\u001b[1;32m    662\u001b[0m         \u001b[0;32mdel\u001b[0m \u001b[0mself\u001b[0m\u001b[0;34m[\u001b[0m\u001b[0mitem\u001b[0m\u001b[0;34m]\u001b[0m\u001b[0;34m\u001b[0m\u001b[0;34m\u001b[0m\u001b[0m\n\u001b[1;32m    663\u001b[0m         \u001b[0;32mif\u001b[0m \u001b[0mself\u001b[0m\u001b[0;34m.\u001b[0m\u001b[0mndim\u001b[0m \u001b[0;34m==\u001b[0m \u001b[0;36m2\u001b[0m\u001b[0;34m:\u001b[0m\u001b[0;34m\u001b[0m\u001b[0;34m\u001b[0m\u001b[0m\n",
            "\u001b[0;32m/usr/local/lib/python3.7/dist-packages/pandas/core/frame.py\u001b[0m in \u001b[0;36m__getitem__\u001b[0;34m(self, key)\u001b[0m\n\u001b[1;32m   2904\u001b[0m             \u001b[0;32mif\u001b[0m \u001b[0mself\u001b[0m\u001b[0;34m.\u001b[0m\u001b[0mcolumns\u001b[0m\u001b[0;34m.\u001b[0m\u001b[0mnlevels\u001b[0m \u001b[0;34m>\u001b[0m \u001b[0;36m1\u001b[0m\u001b[0;34m:\u001b[0m\u001b[0;34m\u001b[0m\u001b[0;34m\u001b[0m\u001b[0m\n\u001b[1;32m   2905\u001b[0m                 \u001b[0;32mreturn\u001b[0m \u001b[0mself\u001b[0m\u001b[0;34m.\u001b[0m\u001b[0m_getitem_multilevel\u001b[0m\u001b[0;34m(\u001b[0m\u001b[0mkey\u001b[0m\u001b[0;34m)\u001b[0m\u001b[0;34m\u001b[0m\u001b[0;34m\u001b[0m\u001b[0m\n\u001b[0;32m-> 2906\u001b[0;31m             \u001b[0mindexer\u001b[0m \u001b[0;34m=\u001b[0m \u001b[0mself\u001b[0m\u001b[0;34m.\u001b[0m\u001b[0mcolumns\u001b[0m\u001b[0;34m.\u001b[0m\u001b[0mget_loc\u001b[0m\u001b[0;34m(\u001b[0m\u001b[0mkey\u001b[0m\u001b[0;34m)\u001b[0m\u001b[0;34m\u001b[0m\u001b[0;34m\u001b[0m\u001b[0m\n\u001b[0m\u001b[1;32m   2907\u001b[0m             \u001b[0;32mif\u001b[0m \u001b[0mis_integer\u001b[0m\u001b[0;34m(\u001b[0m\u001b[0mindexer\u001b[0m\u001b[0;34m)\u001b[0m\u001b[0;34m:\u001b[0m\u001b[0;34m\u001b[0m\u001b[0;34m\u001b[0m\u001b[0m\n\u001b[1;32m   2908\u001b[0m                 \u001b[0mindexer\u001b[0m \u001b[0;34m=\u001b[0m \u001b[0;34m[\u001b[0m\u001b[0mindexer\u001b[0m\u001b[0;34m]\u001b[0m\u001b[0;34m\u001b[0m\u001b[0;34m\u001b[0m\u001b[0m\n",
            "\u001b[0;32m/usr/local/lib/python3.7/dist-packages/pandas/core/indexes/base.py\u001b[0m in \u001b[0;36mget_loc\u001b[0;34m(self, key, method, tolerance)\u001b[0m\n\u001b[1;32m   2898\u001b[0m                 \u001b[0;32mreturn\u001b[0m \u001b[0mself\u001b[0m\u001b[0;34m.\u001b[0m\u001b[0m_engine\u001b[0m\u001b[0;34m.\u001b[0m\u001b[0mget_loc\u001b[0m\u001b[0;34m(\u001b[0m\u001b[0mcasted_key\u001b[0m\u001b[0;34m)\u001b[0m\u001b[0;34m\u001b[0m\u001b[0;34m\u001b[0m\u001b[0m\n\u001b[1;32m   2899\u001b[0m             \u001b[0;32mexcept\u001b[0m \u001b[0mKeyError\u001b[0m \u001b[0;32mas\u001b[0m \u001b[0merr\u001b[0m\u001b[0;34m:\u001b[0m\u001b[0;34m\u001b[0m\u001b[0;34m\u001b[0m\u001b[0m\n\u001b[0;32m-> 2900\u001b[0;31m                 \u001b[0;32mraise\u001b[0m \u001b[0mKeyError\u001b[0m\u001b[0;34m(\u001b[0m\u001b[0mkey\u001b[0m\u001b[0;34m)\u001b[0m \u001b[0;32mfrom\u001b[0m \u001b[0merr\u001b[0m\u001b[0;34m\u001b[0m\u001b[0;34m\u001b[0m\u001b[0m\n\u001b[0m\u001b[1;32m   2901\u001b[0m \u001b[0;34m\u001b[0m\u001b[0m\n\u001b[1;32m   2902\u001b[0m         \u001b[0;32mif\u001b[0m \u001b[0mtolerance\u001b[0m \u001b[0;32mis\u001b[0m \u001b[0;32mnot\u001b[0m \u001b[0;32mNone\u001b[0m\u001b[0;34m:\u001b[0m\u001b[0;34m\u001b[0m\u001b[0;34m\u001b[0m\u001b[0m\n",
            "\u001b[0;31mKeyError\u001b[0m: 'post_tokens'"
          ]
        }
      ]
    },
    {
      "cell_type": "code",
      "metadata": {
        "id": "v8cH1Jjh4F9R",
        "colab": {
          "base_uri": "https://localhost:8080/",
          "height": 163
        },
        "outputId": "de975cde-614b-458f-b780-0a842d80ae9f"
      },
      "source": [
        "df_tokens"
      ],
      "execution_count": null,
      "outputs": [
        {
          "output_type": "error",
          "ename": "NameError",
          "evalue": "ignored",
          "traceback": [
            "\u001b[0;31m---------------------------------------------------------------------------\u001b[0m",
            "\u001b[0;31mNameError\u001b[0m                                 Traceback (most recent call last)",
            "\u001b[0;32m<ipython-input-265-4e4babfe529d>\u001b[0m in \u001b[0;36m<module>\u001b[0;34m()\u001b[0m\n\u001b[0;32m----> 1\u001b[0;31m \u001b[0mdf_tokens\u001b[0m\u001b[0;34m\u001b[0m\u001b[0;34m\u001b[0m\u001b[0m\n\u001b[0m",
            "\u001b[0;31mNameError\u001b[0m: name 'df_tokens' is not defined"
          ]
        }
      ]
    },
    {
      "cell_type": "markdown",
      "metadata": {
        "id": "CyRQmjsi7Var"
      },
      "source": [
        "Going to break down post_tokens into their time_stamp"
      ]
    },
    {
      "cell_type": "code",
      "metadata": {
        "id": "5uI8flfU7TIP"
      },
      "source": [
        "df_tokens = df_tokens.dropna()"
      ],
      "execution_count": null,
      "outputs": []
    },
    {
      "cell_type": "code",
      "metadata": {
        "id": "-lsLGNqU8syl"
      },
      "source": [
        "df_tokens_two_years_ago = df_tokens.loc[df_tokens['post_timestamp'] == '2 years ago']"
      ],
      "execution_count": null,
      "outputs": []
    },
    {
      "cell_type": "code",
      "metadata": {
        "id": "KyYtQl7J9ikr"
      },
      "source": [
        "pd.set_option('display.max_colwidth', 200)"
      ],
      "execution_count": null,
      "outputs": []
    },
    {
      "cell_type": "code",
      "metadata": {
        "id": "ON8IRT5U9OW2"
      },
      "source": [
        "df_tokens_two_years_ago"
      ],
      "execution_count": null,
      "outputs": []
    },
    {
      "cell_type": "code",
      "metadata": {
        "id": "KyuQyygU-AuY"
      },
      "source": [
        "df_tokens_two_years_ago = df_tokens_two_years_ago.drop(columns=['post_timestamp'])"
      ],
      "execution_count": null,
      "outputs": []
    },
    {
      "cell_type": "code",
      "metadata": {
        "colab": {
          "base_uri": "https://localhost:8080/",
          "height": 163
        },
        "id": "J3uiEeWD98OS",
        "outputId": "5ba9404e-6f70-43d7-f596-59d1084beabe"
      },
      "source": [
        "df_tokens_two_years_ago"
      ],
      "execution_count": null,
      "outputs": [
        {
          "output_type": "error",
          "ename": "NameError",
          "evalue": "ignored",
          "traceback": [
            "\u001b[0;31m---------------------------------------------------------------------------\u001b[0m",
            "\u001b[0;31mNameError\u001b[0m                                 Traceback (most recent call last)",
            "\u001b[0;32m<ipython-input-141-f488bdf03909>\u001b[0m in \u001b[0;36m<module>\u001b[0;34m()\u001b[0m\n\u001b[0;32m----> 1\u001b[0;31m \u001b[0mdf_tokens_two_years_ago\u001b[0m\u001b[0;34m\u001b[0m\u001b[0;34m\u001b[0m\u001b[0m\n\u001b[0m",
            "\u001b[0;31mNameError\u001b[0m: name 'df_tokens_two_years_ago' is not defined"
          ]
        }
      ]
    },
    {
      "cell_type": "code",
      "metadata": {
        "id": "JMYQQc0-FvKv"
      },
      "source": [
        "keep_tokens"
      ],
      "execution_count": null,
      "outputs": []
    },
    {
      "cell_type": "code",
      "metadata": {
        "id": "lqBclPk0YTy0"
      },
      "source": [
        "import itertools"
      ],
      "execution_count": null,
      "outputs": []
    },
    {
      "cell_type": "code",
      "metadata": {
        "id": "1VVKbep2HcAB"
      },
      "source": [
        "all_tokens = list(itertools.chain(*keep_tokens))"
      ],
      "execution_count": null,
      "outputs": []
    },
    {
      "cell_type": "code",
      "metadata": {
        "id": "2KvUODVuYdJu"
      },
      "source": [
        "all_tokens"
      ],
      "execution_count": null,
      "outputs": []
    },
    {
      "cell_type": "code",
      "metadata": {
        "id": "muq7o4fXYnS1"
      },
      "source": [
        "# Python program to convert a list to string\n",
        "    \n",
        "# Function to convert  \n",
        "def listToString(all_tokens): \n",
        "    \n",
        "    # initialize an empty string\n",
        "    str1 = \"\" \n",
        "    \n",
        "    # traverse in the string  \n",
        "    for ele in all_tokens: \n",
        "        str1 += ele  \n",
        "    \n",
        "    # return string  \n",
        "    return str1 \n",
        "        \n",
        "        \n",
        "# Driver code    \n",
        "all_tokens = listToString(all_tokens) "
      ],
      "execution_count": null,
      "outputs": []
    },
    {
      "cell_type": "markdown",
      "metadata": {
        "id": "IsrJa4EO6RNp"
      },
      "source": [
        "Below I am trying to \"lemmatize\" the tokenized words."
      ]
    },
    {
      "cell_type": "code",
      "metadata": {
        "id": "Sm9OKP9O6s-y"
      },
      "source": [
        "import nltk"
      ],
      "execution_count": null,
      "outputs": []
    },
    {
      "cell_type": "code",
      "metadata": {
        "id": "kMs8NTJv76Qp"
      },
      "source": [
        "from wordcloud import WordCloud, STOPWORDS\n",
        "import matplotlib.pyplot as plt\n",
        "%matplotlib inline\n",
        "from nltk import word_tokenize\n",
        "from nltk.stem import WordNetLemmatizer\n",
        "import nltk\n",
        "from collections import Counter\n",
        "import re"
      ],
      "execution_count": null,
      "outputs": []
    },
    {
      "cell_type": "code",
      "metadata": {
        "id": "IAJbDXFN6bT0"
      },
      "source": [
        "nltk.download('stopwords')\n",
        "from nltk import word_tokenize\n",
        "from nltk.corpus import stopwords\n",
        "from nltk.stem import WordNetLemmatizer\n",
        "from nltk import pos_tag, word_tokenize"
      ],
      "execution_count": null,
      "outputs": []
    },
    {
      "cell_type": "code",
      "metadata": {
        "id": "xYMZy9cC3yeC"
      },
      "source": [
        "#Text cleaning, tokenization, lemmatization\n",
        "nltk.download('wordnet')\n",
        "lemmatizer = WordNetLemmatizer()\n",
        "cleaned_lemmatized_tokens = [lemmatizer.lemmatize(word.lower()) \\\n",
        "                             for word in word_tokenize(re.sub(r'([^\\s\\w]|_)+', ' ', all_tokens))]"
      ],
      "execution_count": null,
      "outputs": []
    },
    {
      "cell_type": "code",
      "metadata": {
        "colab": {
          "base_uri": "https://localhost:8080/"
        },
        "id": "8vxMp01l65E4",
        "outputId": "a5a78392-c4ed-4b7c-d011-5b846f69c7d3"
      },
      "source": [
        ""
      ],
      "execution_count": null,
      "outputs": [
        {
          "output_type": "execute_result",
          "data": {
            "text/plain": [
              "[('post', 1), ('text', 1)]"
            ]
          },
          "metadata": {
            "tags": []
          },
          "execution_count": 24
        }
      ]
    },
    {
      "cell_type": "code",
      "metadata": {
        "id": "pO3GvKQH7yDT"
      },
      "source": [
        ""
      ],
      "execution_count": null,
      "outputs": []
    }
  ]
}